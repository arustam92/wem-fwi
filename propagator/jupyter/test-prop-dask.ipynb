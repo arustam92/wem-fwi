{
 "cells": [
  {
   "cell_type": "markdown",
   "metadata": {},
   "source": [
    "# DATA"
   ]
  },
  {
   "cell_type": "code",
   "execution_count": 1,
   "metadata": {},
   "outputs": [
    {
     "name": "stdout",
     "output_type": "stream",
     "text": [
      "WARNING! DATAPATH not found. The folder /tmp will be used to write binary files\n"
     ]
    },
    {
     "name": "stderr",
     "output_type": "stream",
     "text": [
      "/usr/local/lib/python3.9/dist-packages/numpy/core/getlimits.py:500: UserWarning: The value of the smallest subnormal for <class 'numpy.float64'> type is zero.\n",
      "  setattr(self, word, getattr(machar, word).flat[0])\n",
      "/usr/local/lib/python3.9/dist-packages/numpy/core/getlimits.py:89: UserWarning: The value of the smallest subnormal for <class 'numpy.float64'> type is zero.\n",
      "  return self._float_to_str(self.smallest_subnormal)\n",
      "/usr/local/lib/python3.9/dist-packages/numpy/core/getlimits.py:500: UserWarning: The value of the smallest subnormal for <class 'numpy.float32'> type is zero.\n",
      "  setattr(self, word, getattr(machar, word).flat[0])\n",
      "/usr/local/lib/python3.9/dist-packages/numpy/core/getlimits.py:89: UserWarning: The value of the smallest subnormal for <class 'numpy.float32'> type is zero.\n",
      "  return self._float_to_str(self.smallest_subnormal)\n"
     ]
    }
   ],
   "source": [
    "%load_ext autoreload\n",
    "%autoreload 2\n",
    "import genericIO\n",
    "import SepVector\n",
    "import Hypercube\n",
    "import numpy as np\n",
    "import Operator\n",
    "import WEM\n",
    "\n",
    "import __pyDaskVector as DaskVector\n",
    "import __pyDaskOperator as DaskOperator\n",
    "from dask_util import DaskClient\n",
    "\n",
    "import time"
   ]
  },
  {
   "cell_type": "code",
   "execution_count": 2,
   "metadata": {},
   "outputs": [
    {
     "data": {
      "text/plain": [
       "complexVector\n",
       "Axis 1: n=300\to=0.000000\td=20.000000\n",
       "Axis 2: n=200\to=0.000000\td=10.000000"
      ]
     },
     "execution_count": 2,
     "metadata": {},
     "output_type": "execute_result"
    }
   ],
   "source": [
    "\n",
    "n1 = 300\n",
    "n2 = 200 \n",
    "\n",
    "d1 = 20\n",
    "d2 = 10\n",
    "\n",
    "o1 = 0\n",
    "o2 = 0\n",
    "\n",
    "slow = SepVector.getSepVector(Hypercube.hypercube(ns=[n1,n2],ds=[d1,d2],os=[o1,o2]),storage='dataComplex')\n",
    "\n",
    "slowNd = slow.getNdArray()\n",
    "slowNd[:] = 1/2000*1/2000\n",
    "slowNd[int(1.5*n2/3)::,:] = 1/3000*1/3000\n",
    "\n",
    "den = slow.clone()\n",
    "den.set(1)"
   ]
  },
  {
   "cell_type": "code",
   "execution_count": 3,
   "metadata": {},
   "outputs": [],
   "source": [
    "param = {\n",
    "    \"n_workers\" : 10,\n",
    "    \"processes\" : True,\n",
    "}\n",
    "client = DaskClient(local_params=param)"
   ]
  },
  {
   "cell_type": "code",
   "execution_count": 4,
   "metadata": {},
   "outputs": [
    {
     "data": {
      "text/plain": [
       "{'tcp://127.0.0.1:33881': 52,\n",
       " 'tcp://127.0.0.1:34105': 52,\n",
       " 'tcp://127.0.0.1:36675': 52,\n",
       " 'tcp://127.0.0.1:37287': 52,\n",
       " 'tcp://127.0.0.1:39453': 52,\n",
       " 'tcp://127.0.0.1:42893': 52,\n",
       " 'tcp://127.0.0.1:44605': 52,\n",
       " 'tcp://127.0.0.1:45785': 52,\n",
       " 'tcp://127.0.0.1:45789': 52,\n",
       " 'tcp://127.0.0.1:46875': 52}"
      ]
     },
     "execution_count": 4,
     "metadata": {},
     "output_type": "execute_result"
    }
   ],
   "source": [
    "import gc\n",
    "client.getClient().run(gc.collect)"
   ]
  },
  {
   "cell_type": "code",
   "execution_count": 5,
   "metadata": {},
   "outputs": [],
   "source": [
    "slowDask = DaskVector.DaskVector(client, from_vector=slow, chunks=(1,1))\n",
    "denDask = DaskVector.DaskVector(client, from_vector=den, chunks=(1,1))"
   ]
  },
  {
   "cell_type": "code",
   "execution_count": 6,
   "metadata": {},
   "outputs": [
    {
     "data": {
      "text/plain": [
       "[<Future: finished, type: SepVector.complexVector, key: window-52a8b182-b0e0-4fbb-b663-215c3c91b946>]"
      ]
     },
     "execution_count": 6,
     "metadata": {},
     "output_type": "execute_result"
    }
   ],
   "source": [
    "slowDask.fut"
   ]
  },
  {
   "cell_type": "code",
   "execution_count": 7,
   "metadata": {},
   "outputs": [],
   "source": [
    "from __pyDaskVector import DaskSuperVector\n",
    "modelDask = DaskSuperVector(slow, den)"
   ]
  },
  {
   "cell_type": "code",
   "execution_count": 8,
   "metadata": {},
   "outputs": [
    {
     "data": {
      "text/plain": [
       "pyVector.superVector"
      ]
     },
     "execution_count": 8,
     "metadata": {},
     "output_type": "execute_result"
    }
   ],
   "source": [
    "modelDask.cls"
   ]
  },
  {
   "cell_type": "code",
   "execution_count": 9,
   "metadata": {},
   "outputs": [
    {
     "data": {
      "text/plain": [
       "array([[2.5000000e-07+0.j, 2.5000000e-07+0.j, 2.5000000e-07+0.j, ...,\n",
       "        2.5000000e-07+0.j, 2.5000000e-07+0.j, 2.5000000e-07+0.j],\n",
       "       [2.5000000e-07+0.j, 2.5000000e-07+0.j, 2.5000000e-07+0.j, ...,\n",
       "        2.5000000e-07+0.j, 2.5000000e-07+0.j, 2.5000000e-07+0.j],\n",
       "       [2.5000000e-07+0.j, 2.5000000e-07+0.j, 2.5000000e-07+0.j, ...,\n",
       "        2.5000000e-07+0.j, 2.5000000e-07+0.j, 2.5000000e-07+0.j],\n",
       "       ...,\n",
       "       [1.1111111e-07+0.j, 1.1111111e-07+0.j, 1.1111111e-07+0.j, ...,\n",
       "        1.1111111e-07+0.j, 1.1111111e-07+0.j, 1.1111111e-07+0.j],\n",
       "       [1.1111111e-07+0.j, 1.1111111e-07+0.j, 1.1111111e-07+0.j, ...,\n",
       "        1.1111111e-07+0.j, 1.1111111e-07+0.j, 1.1111111e-07+0.j],\n",
       "       [1.1111111e-07+0.j, 1.1111111e-07+0.j, 1.1111111e-07+0.j, ...,\n",
       "        1.1111111e-07+0.j, 1.1111111e-07+0.j, 1.1111111e-07+0.j]],\n",
       "      dtype=complex64)"
      ]
     },
     "execution_count": 9,
     "metadata": {},
     "output_type": "execute_result"
    }
   ],
   "source": [
    "modelDask[0][:]"
   ]
  },
  {
   "cell_type": "code",
   "execution_count": 10,
   "metadata": {},
   "outputs": [],
   "source": [
    "mm = modelDask.clone()"
   ]
  },
  {
   "cell_type": "code",
   "execution_count": 11,
   "metadata": {},
   "outputs": [
    {
     "data": {
      "text/plain": [
       "<__pyDaskVector.DaskSuperVector at 0x7ffa243ffa30>"
      ]
     },
     "execution_count": 11,
     "metadata": {},
     "output_type": "execute_result"
    }
   ],
   "source": [
    "mm.set(1)"
   ]
  },
  {
   "cell_type": "code",
   "execution_count": 12,
   "metadata": {},
   "outputs": [
    {
     "data": {
      "text/plain": [
       "array([[2.5000000e-07+0.j, 2.5000000e-07+0.j, 2.5000000e-07+0.j, ...,\n",
       "        2.5000000e-07+0.j, 2.5000000e-07+0.j, 2.5000000e-07+0.j],\n",
       "       [2.5000000e-07+0.j, 2.5000000e-07+0.j, 2.5000000e-07+0.j, ...,\n",
       "        2.5000000e-07+0.j, 2.5000000e-07+0.j, 2.5000000e-07+0.j],\n",
       "       [2.5000000e-07+0.j, 2.5000000e-07+0.j, 2.5000000e-07+0.j, ...,\n",
       "        2.5000000e-07+0.j, 2.5000000e-07+0.j, 2.5000000e-07+0.j],\n",
       "       ...,\n",
       "       [1.1111111e-07+0.j, 1.1111111e-07+0.j, 1.1111111e-07+0.j, ...,\n",
       "        1.1111111e-07+0.j, 1.1111111e-07+0.j, 1.1111111e-07+0.j],\n",
       "       [1.1111111e-07+0.j, 1.1111111e-07+0.j, 1.1111111e-07+0.j, ...,\n",
       "        1.1111111e-07+0.j, 1.1111111e-07+0.j, 1.1111111e-07+0.j],\n",
       "       [1.1111111e-07+0.j, 1.1111111e-07+0.j, 1.1111111e-07+0.j, ...,\n",
       "        1.1111111e-07+0.j, 1.1111111e-07+0.j, 1.1111111e-07+0.j]],\n",
       "      dtype=complex64)"
      ]
     },
     "execution_count": 12,
     "metadata": {},
     "output_type": "execute_result"
    }
   ],
   "source": [
    "slow[:]"
   ]
  },
  {
   "cell_type": "code",
   "execution_count": 13,
   "metadata": {},
   "outputs": [
    {
     "data": {
      "text/plain": [
       "True"
      ]
     },
     "execution_count": 13,
     "metadata": {},
     "output_type": "execute_result"
    }
   ],
   "source": [
    "from pyVector import superVector\n",
    "isinstance(modelDask, superVector)"
   ]
  },
  {
   "cell_type": "code",
   "execution_count": 14,
   "metadata": {},
   "outputs": [
    {
     "name": "stdout",
     "output_type": "stream",
     "text": [
      "(750,)\n"
     ]
    }
   ],
   "source": [
    "import json\n",
    "\n",
    "ns = 10\n",
    "par = {\n",
    "    \"ns\" : ns,\n",
    "    \"dsx\" : 100,\n",
    "    \"osx\" : 0,\n",
    "    \"dsz\" : 0,\n",
    "    \"osz\" : 50,\n",
    "    \n",
    "    \"nr\" : 201,\n",
    "    \"drx\" : 20,\n",
    "    \"orx\" : 0,\n",
    "    \"drz\" : 0,\n",
    "    \"orz\" :  0,\n",
    "    \n",
    "    \"fmin\" : 1, \n",
    "    \"fmax\" : 15,\n",
    "\n",
    "    \"nfreq\" : 10,\n",
    "    \n",
    "    \"nref\" : 1,\n",
    "    \"tap\" : 100,\n",
    "    \"pad\" : 100,\n",
    "    \"ngs\" : 0,\n",
    "    \"ngr\" : 0,\n",
    "    \"prop\" : 'ssf',\n",
    "    \"eps\" : 0.01,\n",
    "    \n",
    "    \"ntaylor\" : 1,\n",
    "    \"onepass\" : 0,\n",
    "    \"cmap\" : 0,\n",
    "    \n",
    "}\n",
    "\n",
    "\n",
    "ot = 0\n",
    "tmax = 3\n",
    "dt = 0.004\n",
    "nt = int((tmax-ot) / dt)\n",
    "wave = SepVector.getSepVector(Hypercube.hypercube(ns=[nt],ds=[dt],os=[ot]))\n",
    "waveNd = wave.getNdArray()\n",
    "t = np.linspace(ot,tmax,nt) - .5\n",
    "f0 = 5\n",
    "waveNd[:] = (1-2*(np.pi*f0*t)**2)* np.exp(-(np.pi*f0*t)**2)\n",
    "print(waveNd.shape)\n",
    "# waveNd = np.roll(waveNd,-int(0.5/dt))\n",
    "\n",
    "data = SepVector.getSepVector(ns=[nt,par[\"nr\"],par[\"ns\"]],ds=[dt,par[\"drx\"],par[\"dsx\"]],os=[ot,par[\"orx\"],par[\"osx\"]])\n",
    "datNd = data.getNdArray()\n",
    "\n",
    "pythonPar = genericIO.pythonParams(par)"
   ]
  },
  {
   "cell_type": "code",
   "execution_count": 15,
   "metadata": {},
   "outputs": [
    {
     "data": {
      "text/plain": [
       "(10, 201, 750)"
      ]
     },
     "execution_count": 15,
     "metadata": {},
     "output_type": "execute_result"
    }
   ],
   "source": [
    "data.shape"
   ]
  },
  {
   "cell_type": "code",
   "execution_count": 16,
   "metadata": {},
   "outputs": [],
   "source": [
    "dataDask = DaskVector.DaskVector(client, from_vector=data, chunks=(1,1,10))"
   ]
  },
  {
   "cell_type": "code",
   "execution_count": 17,
   "metadata": {},
   "outputs": [
    {
     "data": {
      "text/plain": [
       "[<Future: finished, type: SepVector.floatVector, key: window-16f77eba-c8a8-4fe1-8d66-ee96aee4ff0f>,\n",
       " <Future: finished, type: SepVector.floatVector, key: window-23963c00-d2c9-4b00-986d-be6e8d4fa9ce>,\n",
       " <Future: finished, type: SepVector.floatVector, key: window-c3118ede-c5ad-4612-a365-bbbe2e6e0f4d>,\n",
       " <Future: finished, type: SepVector.floatVector, key: window-4ea41c54-bf3f-4e40-bd5b-92a795f7534c>,\n",
       " <Future: finished, type: SepVector.floatVector, key: window-d67bc19d-9181-4dcf-b813-a126d738791d>,\n",
       " <Future: finished, type: SepVector.floatVector, key: window-768dddc4-de55-4c12-bf75-58fdbce85480>,\n",
       " <Future: finished, type: SepVector.floatVector, key: window-684f36c2-e245-483a-95e4-00d5b798c850>,\n",
       " <Future: finished, type: SepVector.floatVector, key: window-88d80de3-4f7d-4ca7-93f8-9f84cfba0180>,\n",
       " <Future: finished, type: SepVector.floatVector, key: window-82cbbee9-5fc9-4245-8859-1c6af273acbe>,\n",
       " <Future: finished, type: SepVector.floatVector, key: window-a847780e-0021-4fb9-81f5-eb3133f1eb26>]"
      ]
     },
     "execution_count": 17,
     "metadata": {},
     "output_type": "execute_result"
    }
   ],
   "source": [
    "dataDask.fut"
   ]
  },
  {
   "cell_type": "code",
   "execution_count": 18,
   "metadata": {
    "scrolled": false
   },
   "outputs": [],
   "source": [
    "dask_wem = DaskOperator.DaskOperator(client, WEM.WEM, modelDask, dataDask, wave, pythonPar)"
   ]
  },
  {
   "cell_type": "code",
   "execution_count": 19,
   "metadata": {},
   "outputs": [
    {
     "data": {
      "text/plain": [
       "[<Future: pending, key: from_subspace-cdc43303-869e-4003-bacd-320c15fb74f7>,\n",
       " <Future: pending, key: from_subspace-a9486da7-fa5b-4311-9a1c-8e19b76b65af>,\n",
       " <Future: pending, key: from_subspace-5120f2c1-71a0-450c-a222-8168ac81878b>,\n",
       " <Future: pending, key: from_subspace-6e873c1c-e2a1-4028-9baa-eca79895f744>,\n",
       " <Future: pending, key: from_subspace-87b42628-a94c-4f7c-b54e-50cb767f445d>,\n",
       " <Future: pending, key: from_subspace-fa7f5427-be05-4aa0-aaf3-06fbaa863072>,\n",
       " <Future: pending, key: from_subspace-45dc2318-10ce-4fd7-8046-1c45a44efb32>,\n",
       " <Future: pending, key: from_subspace-177e1333-0118-498d-bc4b-34098c2a9e95>,\n",
       " <Future: pending, key: from_subspace-1ffa48b5-aaa6-416f-a6c0-b45db3f71311>,\n",
       " <Future: pending, key: from_subspace-72dc61f7-79cb-4b9f-9d46-15493f24830a>]"
      ]
     },
     "execution_count": 19,
     "metadata": {},
     "output_type": "execute_result"
    }
   ],
   "source": [
    "dask_wem.get_futures()"
   ]
  },
  {
   "cell_type": "code",
   "execution_count": 20,
   "metadata": {},
   "outputs": [
    {
     "name": "stderr",
     "output_type": "stream",
     "text": [
      "fmin = 1; fmax = 15.3525\n",
      "nfreq = 44; from imin = 2 to imax = 45\n",
      "nshots = 1; nrec = 201\n",
      "fmin = 1; fmax = 15.3525\n",
      "nfreq = 44; from imin = 2 to imax = 45\n",
      "nshots = 1; nrec = 201\n",
      "fmin = 1; fmax = 15.3525\n",
      "nfreq = 44; from imin = 2 to imax = 45\n",
      "nshots = 1; nrec = 201\n",
      "fmin = 1; fmax = 15.3525\n",
      "nfreq = 44; from imin = 2 to imax = 45\n",
      "nshots = 1; nrec = 201\n",
      "fmin = 1; fmax = 15.3525\n",
      "nfreq = 44; from imin = 2 to imax = 45\n",
      "nshots = 1; nrec = 201\n",
      "fmin = 1; fmax = 15.3525\n",
      "nfreq = 44; from imin = 2 to imax = 45\n",
      "nshots = 1; nrec = 201\n",
      "fmin = 1; fmax = 15.3525\n",
      "nfreq = 44; from imin = 2 to imax = 45\n",
      "nshots = 1; nrec = 201\n",
      "fmin = 1; fmax = 15.3525\n",
      "nfreq = 44; from imin = 2 to imax = 45\n",
      "nshots = 1; nrec = 201\n",
      "fmin = 1; fmax = 15.3525\n",
      "nfreq = 44; from imin = 2 to imax = 45\n",
      "nshots = 1; nrec = 201\n",
      "fmin = 1; fmax = 15.3525\n",
      "nfreq = 44; from imin = 2 to imax = 45\n",
      "nshots = 1; nrec = 201\n"
     ]
    },
    {
     "data": {
      "text/plain": [
       "0.96"
      ]
     },
     "execution_count": 20,
     "metadata": {},
     "output_type": "execute_result"
    }
   ],
   "source": [
    "slow.getNdArray().nbytes/1e6 * 2"
   ]
  },
  {
   "cell_type": "code",
   "execution_count": 21,
   "metadata": {},
   "outputs": [
    {
     "name": "stderr",
     "output_type": "stream",
     "text": [
      "/usr/local/lib/python3.9/dist-packages/numpy/core/getlimits.py:500: UserWarning: The value of the smallest subnormal for <class 'numpy.float64'> type is zero.\n",
      "  setattr(self, word, getattr(machar, word).flat[0])\n",
      "/usr/local/lib/python3.9/dist-packages/numpy/core/getlimits.py:89: UserWarning: The value of the smallest subnormal for <class 'numpy.float64'> type is zero.\n",
      "  return self._float_to_str(self.smallest_subnormal)\n",
      "/usr/local/lib/python3.9/dist-packages/numpy/core/getlimits.py:500: UserWarning: The value of the smallest subnormal for <class 'numpy.float32'> type is zero.\n",
      "  setattr(self, word, getattr(machar, word).flat[0])\n",
      "/usr/local/lib/python3.9/dist-packages/numpy/core/getlimits.py:89: UserWarning: The value of the smallest subnormal for <class 'numpy.float32'> type is zero.\n",
      "  return self._float_to_str(self.smallest_subnormal)\n",
      "/usr/local/lib/python3.9/dist-packages/numpy/core/getlimits.py:500: UserWarning: The value of the smallest subnormal for <class 'numpy.float64'> type is zero.\n",
      "  setattr(self, word, getattr(machar, word).flat[0])\n",
      "/usr/local/lib/python3.9/dist-packages/numpy/core/getlimits.py:89: UserWarning: The value of the smallest subnormal for <class 'numpy.float64'> type is zero.\n",
      "  return self._float_to_str(self.smallest_subnormal)\n",
      "/usr/local/lib/python3.9/dist-packages/numpy/core/getlimits.py:500: UserWarning: The value of the smallest subnormal for <class 'numpy.float32'> type is zero.\n",
      "  setattr(self, word, getattr(machar, word).flat[0])\n",
      "/usr/local/lib/python3.9/dist-packages/numpy/core/getlimits.py:89: UserWarning: The value of the smallest subnormal for <class 'numpy.float32'> type is zero.\n",
      "  return self._float_to_str(self.smallest_subnormal)\n",
      "/usr/local/lib/python3.9/dist-packages/numpy/core/getlimits.py:500: UserWarning: The value of the smallest subnormal for <class 'numpy.float64'> type is zero.\n",
      "  setattr(self, word, getattr(machar, word).flat[0])\n",
      "/usr/local/lib/python3.9/dist-packages/numpy/core/getlimits.py:89: UserWarning: The value of the smallest subnormal for <class 'numpy.float64'> type is zero.\n",
      "  return self._float_to_str(self.smallest_subnormal)\n",
      "/usr/local/lib/python3.9/dist-packages/numpy/core/getlimits.py:500: UserWarning: The value of the smallest subnormal for <class 'numpy.float32'> type is zero.\n",
      "  setattr(self, word, getattr(machar, word).flat[0])\n",
      "/usr/local/lib/python3.9/dist-packages/numpy/core/getlimits.py:89: UserWarning: The value of the smallest subnormal for <class 'numpy.float32'> type is zero.\n",
      "  return self._float_to_str(self.smallest_subnormal)\n",
      "/usr/local/lib/python3.9/dist-packages/numpy/core/getlimits.py:500: UserWarning: The value of the smallest subnormal for <class 'numpy.float64'> type is zero.\n",
      "  setattr(self, word, getattr(machar, word).flat[0])\n",
      "/usr/local/lib/python3.9/dist-packages/numpy/core/getlimits.py:89: UserWarning: The value of the smallest subnormal for <class 'numpy.float64'> type is zero.\n",
      "  return self._float_to_str(self.smallest_subnormal)\n",
      "/usr/local/lib/python3.9/dist-packages/numpy/core/getlimits.py:500: UserWarning: The value of the smallest subnormal for <class 'numpy.float32'> type is zero.\n",
      "  setattr(self, word, getattr(machar, word).flat[0])\n",
      "/usr/local/lib/python3.9/dist-packages/numpy/core/getlimits.py:500: UserWarning: The value of the smallest subnormal for <class 'numpy.float64'> type is zero.\n",
      "  setattr(self, word, getattr(machar, word).flat[0])\n",
      "/usr/local/lib/python3.9/dist-packages/numpy/core/getlimits.py:500: UserWarning: The value of the smallest subnormal for <class 'numpy.float64'> type is zero.\n",
      "  setattr(self, word, getattr(machar, word).flat[0])\n",
      "/usr/local/lib/python3.9/dist-packages/numpy/core/getlimits.py:89: UserWarning: The value of the smallest subnormal for <class 'numpy.float32'> type is zero.\n",
      "  return self._float_to_str(self.smallest_subnormal)\n",
      "/usr/local/lib/python3.9/dist-packages/numpy/core/getlimits.py:500: UserWarning: The value of the smallest subnormal for <class 'numpy.float64'> type is zero.\n",
      "  setattr(self, word, getattr(machar, word).flat[0])\n",
      "/usr/local/lib/python3.9/dist-packages/numpy/core/getlimits.py:500: UserWarning: The value of the smallest subnormal for <class 'numpy.float64'> type is zero.\n",
      "  setattr(self, word, getattr(machar, word).flat[0])\n",
      "/usr/local/lib/python3.9/dist-packages/numpy/core/getlimits.py:89: UserWarning: The value of the smallest subnormal for <class 'numpy.float64'> type is zero.\n",
      "  return self._float_to_str(self.smallest_subnormal)\n",
      "/usr/local/lib/python3.9/dist-packages/numpy/core/getlimits.py:500: UserWarning: The value of the smallest subnormal for <class 'numpy.float32'> type is zero.\n",
      "  setattr(self, word, getattr(machar, word).flat[0])\n",
      "/usr/local/lib/python3.9/dist-packages/numpy/core/getlimits.py:89: UserWarning: The value of the smallest subnormal for <class 'numpy.float64'> type is zero.\n",
      "  return self._float_to_str(self.smallest_subnormal)\n",
      "/usr/local/lib/python3.9/dist-packages/numpy/core/getlimits.py:89: UserWarning: The value of the smallest subnormal for <class 'numpy.float32'> type is zero.\n",
      "  return self._float_to_str(self.smallest_subnormal)\n",
      "/usr/local/lib/python3.9/dist-packages/numpy/core/getlimits.py:500: UserWarning: The value of the smallest subnormal for <class 'numpy.float32'> type is zero.\n",
      "  setattr(self, word, getattr(machar, word).flat[0])\n",
      "/usr/local/lib/python3.9/dist-packages/numpy/core/getlimits.py:89: UserWarning: The value of the smallest subnormal for <class 'numpy.float32'> type is zero.\n",
      "  return self._float_to_str(self.smallest_subnormal)\n",
      "/usr/local/lib/python3.9/dist-packages/numpy/core/getlimits.py:89: UserWarning: The value of the smallest subnormal for <class 'numpy.float64'> type is zero.\n",
      "  return self._float_to_str(self.smallest_subnormal)\n",
      "/usr/local/lib/python3.9/dist-packages/numpy/core/getlimits.py:89: UserWarning: The value of the smallest subnormal for <class 'numpy.float64'> type is zero.\n",
      "  return self._float_to_str(self.smallest_subnormal)\n",
      "/usr/local/lib/python3.9/dist-packages/numpy/core/getlimits.py:500: UserWarning: The value of the smallest subnormal for <class 'numpy.float32'> type is zero.\n",
      "  setattr(self, word, getattr(machar, word).flat[0])\n",
      "/usr/local/lib/python3.9/dist-packages/numpy/core/getlimits.py:89: UserWarning: The value of the smallest subnormal for <class 'numpy.float32'> type is zero.\n",
      "  return self._float_to_str(self.smallest_subnormal)\n",
      "/usr/local/lib/python3.9/dist-packages/numpy/core/getlimits.py:500: UserWarning: The value of the smallest subnormal for <class 'numpy.float32'> type is zero.\n",
      "  setattr(self, word, getattr(machar, word).flat[0])\n",
      "/usr/local/lib/python3.9/dist-packages/numpy/core/getlimits.py:89: UserWarning: The value of the smallest subnormal for <class 'numpy.float32'> type is zero.\n",
      "  return self._float_to_str(self.smallest_subnormal)\n",
      "/usr/local/lib/python3.9/dist-packages/numpy/core/getlimits.py:500: UserWarning: The value of the smallest subnormal for <class 'numpy.float64'> type is zero.\n",
      "  setattr(self, word, getattr(machar, word).flat[0])\n",
      "/usr/local/lib/python3.9/dist-packages/numpy/core/getlimits.py:500: UserWarning: The value of the smallest subnormal for <class 'numpy.float64'> type is zero.\n",
      "  setattr(self, word, getattr(machar, word).flat[0])\n",
      "/usr/local/lib/python3.9/dist-packages/numpy/core/getlimits.py:89: UserWarning: The value of the smallest subnormal for <class 'numpy.float64'> type is zero.\n",
      "  return self._float_to_str(self.smallest_subnormal)\n",
      "/usr/local/lib/python3.9/dist-packages/numpy/core/getlimits.py:500: UserWarning: The value of the smallest subnormal for <class 'numpy.float32'> type is zero.\n",
      "  setattr(self, word, getattr(machar, word).flat[0])\n",
      "/usr/local/lib/python3.9/dist-packages/numpy/core/getlimits.py:89: UserWarning: The value of the smallest subnormal for <class 'numpy.float64'> type is zero.\n",
      "  return self._float_to_str(self.smallest_subnormal)\n",
      "/usr/local/lib/python3.9/dist-packages/numpy/core/getlimits.py:500: UserWarning: The value of the smallest subnormal for <class 'numpy.float32'> type is zero.\n",
      "  setattr(self, word, getattr(machar, word).flat[0])\n",
      "/usr/local/lib/python3.9/dist-packages/numpy/core/getlimits.py:89: UserWarning: The value of the smallest subnormal for <class 'numpy.float32'> type is zero.\n",
      "  return self._float_to_str(self.smallest_subnormal)\n",
      "/usr/local/lib/python3.9/dist-packages/numpy/core/getlimits.py:89: UserWarning: The value of the smallest subnormal for <class 'numpy.float32'> type is zero.\n",
      "  return self._float_to_str(self.smallest_subnormal)\n",
      "Propagating shots ... \n"
     ]
    },
    {
     "name": "stderr",
     "output_type": "stream",
     "text": [
      "Propagating shots ... \n",
      "Propagating shots ... \n",
      "Propagating shots ... \n",
      "Propagating shots ... \n",
      "Propagating shots ... \n",
      "Propagating shots ... \n",
      "Propagating shots ... \n",
      "Propagating shots ... \n",
      "Propagating shots ... \n",
      "4.46888 s\n",
      "4.63093 s\n",
      "4.64179 s\n",
      "4.30817 s\n",
      "4.21844 s\n",
      "3.94497 s\n",
      "4.74553 s\n",
      "4.12748 s\n",
      "4.30592 s\n",
      "4.07887 s\n",
      "Propagating shots ... \n",
      "Propagating shots ... \n",
      "Propagating shots ... \n",
      "Propagating shots ... Propagating shots ... \n",
      "\n",
      "Propagating shots ... \n",
      "Propagating shots ... \n",
      "Propagating shots ... \n",
      "Propagating shots ... \n",
      "Propagating shots ... \n",
      "4.34269 s\n",
      "4.32966 s\n",
      "4.14631 s\n",
      "4.46399 s\n",
      "4.58203 s\n",
      "4.89611 s\n",
      "4.51586 s\n",
      "4.96318 s\n",
      "5.24634 s\n",
      "5.2092 s\n",
      "Propagating shots ... \n",
      "Propagating shots ... \n",
      "Propagating shots ... \n",
      "Propagating shots ... \n",
      "Propagating shots ... \n",
      "Propagating shots ... \n",
      "Propagating shots ... \n",
      "Propagating shots ... \n",
      "Propagating shots ... \n",
      "Propagating shots ... \n",
      "4.89632 s\n",
      "5.10643 s\n",
      "5.28964 s\n",
      "5.3388 s\n",
      "5.44025 s\n",
      "5.50551 s\n",
      "5.44233 s\n",
      "5.64047 s\n",
      "5.5258 s\n",
      "5.58033 s\n",
      "Propagating shots ... \n",
      "Propagating shots ... \n",
      "Propagating shots ... \n",
      "Propagating shots ... \n",
      "Propagating shots ... \n",
      "Propagating shots ... \n",
      "Propagating shots ... \n",
      "Propagating shots ... \n",
      "Propagating shots ... \n",
      "Propagating shots ... \n",
      "3.24551 s\n",
      "3.25187 s\n",
      "3.37654 s\n",
      "3.46205 s\n",
      "3.49539 s\n",
      "3.5072 s\n",
      "3.55594 s\n",
      "3.50382 s\n",
      "3.58041 s\n",
      "3.57242 s\n",
      "Propagating shots ... \n",
      "Propagating shots ... \n",
      "Propagating shots ... \n",
      "Propagating shots ... \n",
      "Propagating shots ... \n",
      "Propagating shots ... \n",
      "Propagating shots ... \n",
      "Propagating shots ... \n",
      "Propagating shots ... \n",
      "Propagating shots ... \n",
      "4.86592 s\n",
      "4.89765 s\n",
      "4.86886 s\n",
      "5.11008 s\n",
      "5.1989 s\n",
      "5.20613 s\n",
      "5.15331 s\n",
      "5.21657 s\n",
      "5.16118 s\n",
      "5.14369 s\n",
      "Propagating shots ... \n",
      "Propagating shots ... \n",
      "Propagating shots ... \n",
      "Propagating shots ... \n",
      "Propagating shots ... \n",
      "Propagating shots ... \n",
      "Propagating shots ... \n",
      "Propagating shots ... \n",
      "Propagating shots ... \n",
      "Propagating shots ... \n",
      "2.70397 s\n",
      "3.1586 s\n",
      "3.33819 s\n",
      "3.34424 s\n",
      "3.2945 s\n",
      "3.38102 s\n",
      "3.29162 s\n",
      "3.43193 s\n",
      "3.44829 s\n",
      "3.73092 s\n",
      "Propagating shots ... \n",
      "Propagating shots ... Propagating shots ... \n",
      "Propagating shots ... \n",
      "Propagating shots ... \n",
      "\n",
      "Propagating shots ... \n",
      "Propagating shots ... \n",
      "Propagating shots ... \n",
      "Propagating shots ... \n",
      "Propagating shots ... \n",
      "4.36245 s\n",
      "4.67005 s\n",
      "4.68643 s\n",
      "4.73918 s\n",
      "4.90469 s\n",
      "4.95472 s\n",
      "5.0047 s\n",
      "5.02295 s\n",
      "4.88387 s\n",
      "5.04984 s\n"
     ]
    },
    {
     "ename": "KeyboardInterrupt",
     "evalue": "",
     "output_type": "error",
     "traceback": [
      "\u001b[0;31m---------------------------------------------------------------------------\u001b[0m",
      "\u001b[0;31mKeyboardInterrupt\u001b[0m                         Traceback (most recent call last)",
      "Cell \u001b[0;32mIn[21], line 2\u001b[0m\n\u001b[1;32m      1\u001b[0m \u001b[38;5;28;01mfor\u001b[39;00m _ \u001b[38;5;129;01min\u001b[39;00m \u001b[38;5;28mrange\u001b[39m(\u001b[38;5;241m10\u001b[39m):\n\u001b[0;32m----> 2\u001b[0m     \u001b[43mdask_wem\u001b[49m\u001b[38;5;241;43m.\u001b[39;49m\u001b[43mforward\u001b[49m\u001b[43m(\u001b[49m\u001b[38;5;28;43;01mFalse\u001b[39;49;00m\u001b[43m,\u001b[49m\u001b[43m \u001b[49m\u001b[43mmodelDask\u001b[49m\u001b[43m,\u001b[49m\u001b[43m \u001b[49m\u001b[43mdataDask\u001b[49m\u001b[43m)\u001b[49m\n",
      "File \u001b[0;32m/opt/python-solver/GenericSolver/python/__pyDaskOperator.py:75\u001b[0m, in \u001b[0;36mDaskOperator.forward\u001b[0;34m(self, add, model, data)\u001b[0m\n\u001b[1;32m     73\u001b[0m     res\u001b[38;5;241m.\u001b[39mappend(fut)\n\u001b[1;32m     74\u001b[0m waitable \u001b[38;5;241m=\u001b[39m [f \u001b[38;5;28;01mfor\u001b[39;00m sublist \u001b[38;5;129;01min\u001b[39;00m res \u001b[38;5;28;01mfor\u001b[39;00m f \u001b[38;5;129;01min\u001b[39;00m sublist]\n\u001b[0;32m---> 75\u001b[0m \u001b[43mwait\u001b[49m\u001b[43m(\u001b[49m\u001b[43mwaitable\u001b[49m\u001b[43m)\u001b[49m\n\u001b[1;32m     76\u001b[0m \u001b[38;5;66;03m# accumulate \u001b[39;00m\n\u001b[1;32m     77\u001b[0m fin \u001b[38;5;241m=\u001b[39m ft\u001b[38;5;241m.\u001b[39mreduce(\u001b[38;5;28;01mlambda\u001b[39;00m d1, d2: \u001b[38;5;28mself\u001b[39m\u001b[38;5;241m.\u001b[39mclient\u001b[38;5;241m.\u001b[39mmap(data\u001b[38;5;241m.\u001b[39mcls\u001b[38;5;241m.\u001b[39m\u001b[38;5;21m__add__\u001b[39m, d1, d2, pure\u001b[38;5;241m=\u001b[39m\u001b[38;5;28;01mFalse\u001b[39;00m), res)\n",
      "File \u001b[0;32m/usr/local/lib/python3.9/dist-packages/distributed/client.py:5175\u001b[0m, in \u001b[0;36mwait\u001b[0;34m(fs, timeout, return_when)\u001b[0m\n\u001b[1;32m   5173\u001b[0m     timeout \u001b[38;5;241m=\u001b[39m parse_timedelta(timeout, default\u001b[38;5;241m=\u001b[39m\u001b[38;5;124m\"\u001b[39m\u001b[38;5;124ms\u001b[39m\u001b[38;5;124m\"\u001b[39m)\n\u001b[1;32m   5174\u001b[0m client \u001b[38;5;241m=\u001b[39m default_client()\n\u001b[0;32m-> 5175\u001b[0m result \u001b[38;5;241m=\u001b[39m \u001b[43mclient\u001b[49m\u001b[38;5;241;43m.\u001b[39;49m\u001b[43msync\u001b[49m\u001b[43m(\u001b[49m\u001b[43m_wait\u001b[49m\u001b[43m,\u001b[49m\u001b[43m \u001b[49m\u001b[43mfs\u001b[49m\u001b[43m,\u001b[49m\u001b[43m \u001b[49m\u001b[43mtimeout\u001b[49m\u001b[38;5;241;43m=\u001b[39;49m\u001b[43mtimeout\u001b[49m\u001b[43m,\u001b[49m\u001b[43m \u001b[49m\u001b[43mreturn_when\u001b[49m\u001b[38;5;241;43m=\u001b[39;49m\u001b[43mreturn_when\u001b[49m\u001b[43m)\u001b[49m\n\u001b[1;32m   5176\u001b[0m \u001b[38;5;28;01mreturn\u001b[39;00m result\n",
      "File \u001b[0;32m/usr/local/lib/python3.9/dist-packages/distributed/utils.py:351\u001b[0m, in \u001b[0;36mSyncMethodMixin.sync\u001b[0;34m(self, func, asynchronous, callback_timeout, *args, **kwargs)\u001b[0m\n\u001b[1;32m    349\u001b[0m     \u001b[38;5;28;01mreturn\u001b[39;00m future\n\u001b[1;32m    350\u001b[0m \u001b[38;5;28;01melse\u001b[39;00m:\n\u001b[0;32m--> 351\u001b[0m     \u001b[38;5;28;01mreturn\u001b[39;00m \u001b[43msync\u001b[49m\u001b[43m(\u001b[49m\n\u001b[1;32m    352\u001b[0m \u001b[43m        \u001b[49m\u001b[38;5;28;43mself\u001b[39;49m\u001b[38;5;241;43m.\u001b[39;49m\u001b[43mloop\u001b[49m\u001b[43m,\u001b[49m\u001b[43m \u001b[49m\u001b[43mfunc\u001b[49m\u001b[43m,\u001b[49m\u001b[43m \u001b[49m\u001b[38;5;241;43m*\u001b[39;49m\u001b[43margs\u001b[49m\u001b[43m,\u001b[49m\u001b[43m \u001b[49m\u001b[43mcallback_timeout\u001b[49m\u001b[38;5;241;43m=\u001b[39;49m\u001b[43mcallback_timeout\u001b[49m\u001b[43m,\u001b[49m\u001b[43m \u001b[49m\u001b[38;5;241;43m*\u001b[39;49m\u001b[38;5;241;43m*\u001b[39;49m\u001b[43mkwargs\u001b[49m\n\u001b[1;32m    353\u001b[0m \u001b[43m    \u001b[49m\u001b[43m)\u001b[49m\n",
      "File \u001b[0;32m/usr/local/lib/python3.9/dist-packages/distributed/utils.py:414\u001b[0m, in \u001b[0;36msync\u001b[0;34m(loop, func, callback_timeout, *args, **kwargs)\u001b[0m\n\u001b[1;32m    412\u001b[0m \u001b[38;5;28;01melse\u001b[39;00m:\n\u001b[1;32m    413\u001b[0m     \u001b[38;5;28;01mwhile\u001b[39;00m \u001b[38;5;129;01mnot\u001b[39;00m e\u001b[38;5;241m.\u001b[39mis_set():\n\u001b[0;32m--> 414\u001b[0m         \u001b[43mwait\u001b[49m\u001b[43m(\u001b[49m\u001b[38;5;241;43m10\u001b[39;49m\u001b[43m)\u001b[49m\n\u001b[1;32m    416\u001b[0m \u001b[38;5;28;01mif\u001b[39;00m error:\n\u001b[1;32m    417\u001b[0m     typ, exc, tb \u001b[38;5;241m=\u001b[39m error\n",
      "File \u001b[0;32m/usr/local/lib/python3.9/dist-packages/distributed/utils.py:403\u001b[0m, in \u001b[0;36msync.<locals>.wait\u001b[0;34m(timeout)\u001b[0m\n\u001b[1;32m    401\u001b[0m \u001b[38;5;28;01mdef\u001b[39;00m \u001b[38;5;21mwait\u001b[39m(timeout):\n\u001b[1;32m    402\u001b[0m     \u001b[38;5;28;01mtry\u001b[39;00m:\n\u001b[0;32m--> 403\u001b[0m         \u001b[38;5;28;01mreturn\u001b[39;00m \u001b[43me\u001b[49m\u001b[38;5;241;43m.\u001b[39;49m\u001b[43mwait\u001b[49m\u001b[43m(\u001b[49m\u001b[43mtimeout\u001b[49m\u001b[43m)\u001b[49m\n\u001b[1;32m    404\u001b[0m     \u001b[38;5;28;01mexcept\u001b[39;00m \u001b[38;5;167;01mKeyboardInterrupt\u001b[39;00m:\n\u001b[1;32m    405\u001b[0m         loop\u001b[38;5;241m.\u001b[39madd_callback(cancel)\n",
      "File \u001b[0;32m/usr/lib/python3.9/threading.py:574\u001b[0m, in \u001b[0;36mEvent.wait\u001b[0;34m(self, timeout)\u001b[0m\n\u001b[1;32m    572\u001b[0m signaled \u001b[38;5;241m=\u001b[39m \u001b[38;5;28mself\u001b[39m\u001b[38;5;241m.\u001b[39m_flag\n\u001b[1;32m    573\u001b[0m \u001b[38;5;28;01mif\u001b[39;00m \u001b[38;5;129;01mnot\u001b[39;00m signaled:\n\u001b[0;32m--> 574\u001b[0m     signaled \u001b[38;5;241m=\u001b[39m \u001b[38;5;28;43mself\u001b[39;49m\u001b[38;5;241;43m.\u001b[39;49m\u001b[43m_cond\u001b[49m\u001b[38;5;241;43m.\u001b[39;49m\u001b[43mwait\u001b[49m\u001b[43m(\u001b[49m\u001b[43mtimeout\u001b[49m\u001b[43m)\u001b[49m\n\u001b[1;32m    575\u001b[0m \u001b[38;5;28;01mreturn\u001b[39;00m signaled\n",
      "File \u001b[0;32m/usr/lib/python3.9/threading.py:316\u001b[0m, in \u001b[0;36mCondition.wait\u001b[0;34m(self, timeout)\u001b[0m\n\u001b[1;32m    314\u001b[0m \u001b[38;5;28;01melse\u001b[39;00m:\n\u001b[1;32m    315\u001b[0m     \u001b[38;5;28;01mif\u001b[39;00m timeout \u001b[38;5;241m>\u001b[39m \u001b[38;5;241m0\u001b[39m:\n\u001b[0;32m--> 316\u001b[0m         gotit \u001b[38;5;241m=\u001b[39m \u001b[43mwaiter\u001b[49m\u001b[38;5;241;43m.\u001b[39;49m\u001b[43macquire\u001b[49m\u001b[43m(\u001b[49m\u001b[38;5;28;43;01mTrue\u001b[39;49;00m\u001b[43m,\u001b[49m\u001b[43m \u001b[49m\u001b[43mtimeout\u001b[49m\u001b[43m)\u001b[49m\n\u001b[1;32m    317\u001b[0m     \u001b[38;5;28;01melse\u001b[39;00m:\n\u001b[1;32m    318\u001b[0m         gotit \u001b[38;5;241m=\u001b[39m waiter\u001b[38;5;241m.\u001b[39macquire(\u001b[38;5;28;01mFalse\u001b[39;00m)\n",
      "\u001b[0;31mKeyboardInterrupt\u001b[0m: "
     ]
    }
   ],
   "source": [
    "for _ in range(10):\n",
    "    dask_wem.forward(False, modelDask, dataDask)"
   ]
  },
  {
   "cell_type": "code",
   "execution_count": 21,
   "metadata": {},
   "outputs": [
    {
     "data": {
      "text/plain": [
       "<matplotlib.image.AxesImage at 0x7f0d02911be0>"
      ]
     },
     "execution_count": 21,
     "metadata": {},
     "output_type": "execute_result"
    },
    {
     "data": {
      "image/png": "[encoded data removed]",
      "text/plain": [
       "<Figure size 640x480 with 1 Axes>"
      ]
     },
     "metadata": {},
     "output_type": "display_data"
    }
   ],
   "source": [
    "import matplotlib.pyplot as plt\n",
    "\n",
    "s1 = dataDask[0,:,:][0]\n",
    "\n",
    "plt.imshow(s1.T)"
   ]
  },
  {
   "cell_type": "code",
   "execution_count": 22,
   "metadata": {},
   "outputs": [
    {
     "data": {
      "text/plain": [
       "210929.11480144004"
      ]
     },
     "execution_count": 22,
     "metadata": {},
     "output_type": "execute_result"
    }
   ],
   "source": [
    "dataDask.norm()"
   ]
  },
  {
   "cell_type": "code",
   "execution_count": 23,
   "metadata": {
    "scrolled": true
   },
   "outputs": [
    {
     "name": "stderr",
     "output_type": "stream",
     "text": [
      "fmin = 1; fmax = 15.3525\n",
      "nfreq = 44; from imin = 2 to imax = 45\n",
      "nshots = 2; nrec = 201\n",
      "fmin = 1; fmax = 15.3525\n",
      "nfreq = 44; from imin = 2 to imax = 45\n",
      "nshots = 2; nrec = 201\n",
      "fmin = 1; fmax = 15.3525\n",
      "nfreq = 44; from imin = 2 to imax = 45\n",
      "nshots = 2; nrec = 201\n",
      "fmin = 1; fmax = 15.3525\n",
      "nfreq = 44; from imin = 2 to imax = 45\n",
      "nshots = 4; nrec = 201\n"
     ]
    }
   ],
   "source": [
    "imageDask = modelDask.clone()\n",
    "dask_born = DaskOperator.DaskOperator(client, WEM.Born, modelDask, dataDask, wave,pythonPar)"
   ]
  },
  {
   "cell_type": "code",
   "execution_count": null,
   "metadata": {},
   "outputs": [
    {
     "name": "stderr",
     "output_type": "stream",
     "text": [
      "fmin = 1; fmax = 15.3525\n",
      "nfreq = 44; from imin = 2 to imax = 45\n",
      "nshots = 2; nrec = 201\n",
      "Forward born ... \n"
     ]
    }
   ],
   "source": [
    "imageDask.zero()\n",
    "imageDask.vecs[0][100,100] = 1\n",
    "dask_born.forward(False, imageDask, dataDask)"
   ]
  },
  {
   "cell_type": "code",
   "execution_count": 31,
   "metadata": {},
   "outputs": [
    {
     "name": "stderr",
     "output_type": "stream",
     "text": [
      "Adjoint born ... \n",
      "Adjoint born ... \n",
      "Adjoint born ... \n",
      "Adjoint born ... \n",
      "213.807 s\n",
      "214.018 s\n",
      "214.047 s\n",
      "269.099 s\n"
     ]
    }
   ],
   "source": [
    "dask_born.adjoint(False, imageDask, dataDask)"
   ]
  },
  {
   "cell_type": "code",
   "execution_count": 32,
   "metadata": {},
   "outputs": [
    {
     "data": {
      "text/plain": [
       "37974.08984375"
      ]
     },
     "execution_count": 32,
     "metadata": {},
     "output_type": "execute_result"
    }
   ],
   "source": [
    "imageDask.norm()"
   ]
  },
  {
   "cell_type": "code",
   "execution_count": 37,
   "metadata": {},
   "outputs": [
    {
     "data": {
      "text/plain": [
       "<matplotlib.image.AxesImage at 0x7f2922d5b580>"
      ]
     },
     "execution_count": 37,
     "metadata": {},
     "output_type": "execute_result"
    },
    {
     "data": {
      "image/png": "[encoded data removed]",
      "text/plain": [
       "<Figure size 640x480 with 1 Axes>"
      ]
     },
     "metadata": {},
     "output_type": "display_data"
    }
   ],
   "source": [
    "plt.imshow(imageDask.vecs[0][:].real, cmap='jet')"
   ]
  },
  {
   "cell_type": "markdown",
   "metadata": {},
   "source": [
    "## Test FWI"
   ]
  },
  {
   "cell_type": "code",
   "execution_count": 24,
   "metadata": {},
   "outputs": [],
   "source": [
    "par  = {\n",
    "    \"pre\" : {\n",
    "        \"ns\" : [[51,51], [51,51]],\n",
    "        \"type\" : [\"CR-spline\", \"CR-spline\"],\n",
    "        \"niter\" : 50,\n",
    "    }\n",
    "}"
   ]
  },
  {
   "cell_type": "code",
   "execution_count": 45,
   "metadata": {},
   "outputs": [
    {
     "name": "stdout",
     "output_type": "stream",
     "text": [
      "##########################################################################################\n",
      "\t\t\t\tLINEAR CONJUGATE GRADIENT  SOLVER\n",
      "\tRestart folder: /tmp/restart_2023-04-20T18-43-16.377206/\n",
      "\tModeling Operator:\t\t DStack \n",
      "##########################################################################################\n",
      "\n",
      "iter = 00, obj = 2.00000e+04, resnorm = 2.00e+02, gradnorm = 8.08e+02, feval = 2\n",
      "iter = 01, obj = 8.04703e-04, resnorm = 4.01e-02, gradnorm = 1.66e-01, feval = 4\n",
      "iter = 02, obj = 4.07070e-08, resnorm = 2.85e-04, gradnorm = 5.05e-04, feval = 6\n",
      "iter = 03, obj = 3.17464e-08, resnorm = 2.52e-04, gradnorm = 1.37e-04, feval = 8\n",
      "iter = 04, obj = 3.15785e-08, resnorm = 2.51e-04, gradnorm = 7.11e-05, feval = 10\n",
      "iter = 05, obj = 3.15645e-08, resnorm = 2.51e-04, gradnorm = 6.60e-05, feval = 12\n",
      "iter = 06, obj = 3.15644e-08, resnorm = 2.51e-04, gradnorm = 6.49e-05, feval = 14\n",
      "iter = 07, obj = 3.15627e-08, resnorm = 2.51e-04, gradnorm = 6.47e-05, feval = 16\n",
      "iter = 08, obj = 3.15626e-08, resnorm = 2.51e-04, gradnorm = 6.40e-05, feval = 18\n",
      "iter = 09, obj = 3.15626e-08, resnorm = 2.51e-04, gradnorm = 6.40e-05, feval = 20\n",
      "Objective function didn't reduce, will terminate solver:\n",
      "\tobj_new = 3.15626e-08\tobj_cur = 3.15626e-08\n",
      "##########################################################################################\n",
      "\t\t\t\tLINEAR CONJUGATE GRADIENT SOLVER end\n",
      "##########################################################################################\n",
      "\n"
     ]
    }
   ],
   "source": [
    "import numpy as np\n",
    "import SepVector\n",
    "import Hypercube\n",
    "import genericIO\n",
    "import WEM\n",
    "import Operator\n",
    "\n",
    "import pyVector as Vec\n",
    "import pyOperator as Op\n",
    "import pyNonLinearSolver as Solver\n",
    "import pyLinearSolver as LinearSolver\n",
    "import pyProblem as Prblm\n",
    "import pyStopper as Stopper\n",
    "from sys_util import logger\n",
    "import json\n",
    "import sys\n",
    "\n",
    "import dask_util\n",
    "from __pyDaskVector import DaskVector\n",
    "from __pyDaskOperator import DaskOperator\n",
    "\n",
    "model = DaskSuperVector(slow, den)\n",
    "model_pre = model\n",
    "vecs_pre = []\n",
    "ops_pre = []\n",
    "for i, mod in enumerate([slow, den]):\n",
    "    ax = mod.getHyper().axes\n",
    "    ns = par['pre']['ns'][i]\n",
    "    ds = []\n",
    "    for j in range(len(ns)):\n",
    "        ds.append((ax[j].n-1)*ax[j].d / (ns[j] - 1))\n",
    "    mod_pre = SepVector.getSepVector(Hypercube.hypercube(ns=ns,ds=ds,os=[ax[0].o,ax[1].o]),storage='dataComplex')\n",
    "    mod_pre.zero()\n",
    "    vecs_pre.append(mod_pre)\n",
    "\n",
    "    if (par['pre']['type'][i] == 'lanczos'):\n",
    "        int = Operator.LanczosInterpolation3D(mod_pre, mod, a=par['pre']['a'][i], taper=par['pre']['taper'][i])\n",
    "    elif ('spline' in par['pre']['type'][i]):\n",
    "        int = Operator.Spline2D(mod_pre, mod, type=par['pre']['type'][i])\n",
    "    else:\n",
    "        raise Exception('Unknown intepolation!')\n",
    "    ops_pre.append(int)\n",
    "\n",
    "int = Op.Dstack(*ops_pre)\n",
    "model_pre = DaskSuperVector(*vecs_pre)\n",
    "int.setDomainRange(model_pre, model)\n",
    "\n",
    "intOp = Op.NonLinearOperator(int,int)\n",
    "LinStop  = Stopper.BasicStopper(niter=par['pre']['niter'])\n",
    "CGsolver = LinearSolver.LCGsolver(LinStop)\n",
    "L2Prob = Prblm.ProblemL2Linear(model_pre,model,int)\n",
    "CGsolver.setDefaults(iter_sampling=1,save_obj=False,save_res=False,save_grad=False,\n",
    "            flush_memory=True,iter_buffer_size=1,save_model=False)\n",
    "CGsolver.run(L2Prob,verbose=True)"
   ]
  },
  {
   "cell_type": "code",
   "execution_count": 44,
   "metadata": {},
   "outputs": [
    {
     "ename": "AttributeError",
     "evalue": "'superVector' object has no attribute 'get_futures'",
     "output_type": "error",
     "traceback": [
      "\u001b[0;31m---------------------------------------------------------------------------\u001b[0m",
      "\u001b[0;31mAttributeError\u001b[0m                            Traceback (most recent call last)",
      "Cell \u001b[0;32mIn[44], line 2\u001b[0m\n\u001b[1;32m      1\u001b[0m d \u001b[38;5;241m=\u001b[39m dataDask\u001b[38;5;241m.\u001b[39mclone()\n\u001b[0;32m----> 2\u001b[0m \u001b[43mnlOp\u001b[49m\u001b[38;5;241;43m.\u001b[39;49m\u001b[43mnl_op\u001b[49m\u001b[38;5;241;43m.\u001b[39;49m\u001b[43mforward\u001b[49m\u001b[43m(\u001b[49m\u001b[38;5;28;43;01mFalse\u001b[39;49;00m\u001b[43m,\u001b[49m\u001b[43m \u001b[49m\u001b[43mmodel_pre\u001b[49m\u001b[43m,\u001b[49m\u001b[43m \u001b[49m\u001b[43md\u001b[49m\u001b[43m)\u001b[49m\n",
      "File \u001b[0;32m/opt/python-solver/GenericSolver/python/pyOperator.py:426\u001b[0m, in \u001b[0;36m_prodOperator.forward\u001b[0;34m(self, add, model, data)\u001b[0m\n\u001b[1;32m    424\u001b[0m \u001b[38;5;28mself\u001b[39m\u001b[38;5;241m.\u001b[39mcheckDomainRange(model, data)\n\u001b[1;32m    425\u001b[0m \u001b[38;5;28mself\u001b[39m\u001b[38;5;241m.\u001b[39margs[\u001b[38;5;241m1\u001b[39m]\u001b[38;5;241m.\u001b[39mforward(\u001b[38;5;28;01mFalse\u001b[39;00m, model, \u001b[38;5;28mself\u001b[39m\u001b[38;5;241m.\u001b[39mtemp)\n\u001b[0;32m--> 426\u001b[0m \u001b[38;5;28;43mself\u001b[39;49m\u001b[38;5;241;43m.\u001b[39;49m\u001b[43margs\u001b[49m\u001b[43m[\u001b[49m\u001b[38;5;241;43m0\u001b[39;49m\u001b[43m]\u001b[49m\u001b[38;5;241;43m.\u001b[39;49m\u001b[43mforward\u001b[49m\u001b[43m(\u001b[49m\u001b[43madd\u001b[49m\u001b[43m,\u001b[49m\u001b[43m \u001b[49m\u001b[38;5;28;43mself\u001b[39;49m\u001b[38;5;241;43m.\u001b[39;49m\u001b[43mtemp\u001b[49m\u001b[43m,\u001b[49m\u001b[43m \u001b[49m\u001b[43mdata\u001b[49m\u001b[43m)\u001b[49m\n",
      "File \u001b[0;32m/opt/python-solver/GenericSolver/python/__pyDaskOperator.py:64\u001b[0m, in \u001b[0;36mDaskOperator.forward\u001b[0;34m(self, add, model, data)\u001b[0m\n\u001b[1;32m     61\u001b[0m \u001b[38;5;28mself\u001b[39m\u001b[38;5;241m.\u001b[39mcheckDomainRange(model, data)\n\u001b[1;32m     62\u001b[0m \u001b[38;5;28;01mif\u001b[39;00m \u001b[38;5;129;01mnot\u001b[39;00m add: data\u001b[38;5;241m.\u001b[39mzero()\n\u001b[0;32m---> 64\u001b[0m mod \u001b[38;5;241m=\u001b[39m \u001b[43mmodel\u001b[49m\u001b[38;5;241;43m.\u001b[39;49m\u001b[43mget_futures\u001b[49m()\n\u001b[1;32m     65\u001b[0m \u001b[38;5;28mself\u001b[39m\u001b[38;5;241m.\u001b[39mclient\u001b[38;5;241m.\u001b[39mreplicate(mod)\n\u001b[1;32m     66\u001b[0m dat \u001b[38;5;241m=\u001b[39m data\u001b[38;5;241m.\u001b[39mget_futures()\n",
      "\u001b[0;31mAttributeError\u001b[0m: 'superVector' object has no attribute 'get_futures'"
     ]
    }
   ],
   "source": [
    "d = dataDask.clone()\n",
    "nlOp.nl_op.forward(False, model_pre, d)"
   ]
  },
  {
   "cell_type": "code",
   "execution_count": 50,
   "metadata": {},
   "outputs": [
    {
     "data": {
      "text/plain": [
       "<matplotlib.image.AxesImage at 0x7fb0966d3d00>"
      ]
     },
     "execution_count": 50,
     "metadata": {},
     "output_type": "execute_result"
    },
    {
     "data": {
      "image/png": "[encoded data removed]",
      "text/plain": [
       "<Figure size 640x480 with 1 Axes>"
      ]
     },
     "metadata": {},
     "output_type": "display_data"
    },
    {
     "name": "stderr",
     "output_type": "stream",
     "text": [
      "32.5063 s\n",
      "32.5469 s\n",
      "33.1389 s\n",
      "2023-04-20 18:57:11,116 - distributed.nanny - ERROR - Worker process died unexpectedly\n",
      "Process Dask Worker process (from Nanny):\n",
      "Traceback (most recent call last):\n",
      "  File \"/usr/lib/python3.9/multiprocessing/process.py\", line 315, in _bootstrap\n",
      "    self.run()\n",
      "  File \"/usr/lib/python3.9/multiprocessing/process.py\", line 108, in run\n",
      "    self._target(*self._args, **self._kwargs)\n",
      "  File \"/usr/local/lib/python3.9/dist-packages/distributed/process.py\", line 190, in _run\n",
      "    target(*args, **kwargs)\n",
      "  File \"/usr/local/lib/python3.9/dist-packages/distributed/nanny.py\", line 988, in _run\n",
      "    asyncio.run(run())\n",
      "  File \"/usr/lib/python3.9/asyncio/runners.py\", line 44, in run\n",
      "    return loop.run_until_complete(main)\n",
      "  File \"/usr/lib/python3.9/asyncio/base_events.py\", line 629, in run_until_complete\n",
      "    self.run_forever()\n",
      "  File \"/usr/lib/python3.9/asyncio/base_events.py\", line 596, in run_forever\n",
      "    self._run_once()\n",
      "  File \"/usr/lib/python3.9/asyncio/base_events.py\", line 1854, in _run_once\n",
      "    event_list = self._selector.select(timeout)\n",
      "  File \"/usr/lib/python3.9/selectors.py\", line 469, in select\n",
      "    fd_event_list = self._selector.poll(timeout, max_ev)\n",
      "KeyboardInterrupt\n",
      "2023-04-20 18:57:11,230 - distributed.nanny - ERROR - Worker process died unexpectedly\n",
      "Process Dask Worker process (from Nanny):\n",
      "Traceback (most recent call last):\n",
      "  File \"/usr/lib/python3.9/multiprocessing/process.py\", line 315, in _bootstrap\n",
      "    self.run()\n",
      "  File \"/usr/lib/python3.9/multiprocessing/process.py\", line 108, in run\n",
      "    self._target(*self._args, **self._kwargs)\n",
      "  File \"/usr/local/lib/python3.9/dist-packages/distributed/process.py\", line 190, in _run\n",
      "    target(*args, **kwargs)\n",
      "  File \"/usr/local/lib/python3.9/dist-packages/distributed/nanny.py\", line 988, in _run\n",
      "    asyncio.run(run())\n",
      "  File \"/usr/lib/python3.9/asyncio/runners.py\", line 44, in run\n",
      "    return loop.run_until_complete(main)\n",
      "  File \"/usr/lib/python3.9/asyncio/base_events.py\", line 629, in run_until_complete\n",
      "    self.run_forever()\n",
      "  File \"/usr/lib/python3.9/asyncio/base_events.py\", line 596, in run_forever\n",
      "    self._run_once()\n",
      "  File \"/usr/lib/python3.9/asyncio/base_events.py\", line 1854, in _run_once\n",
      "    event_list = self._selector.select(timeout)\n",
      "  File \"/usr/lib/python3.9/selectors.py\", line 469, in select\n",
      "    fd_event_list = self._selector.poll(timeout, max_ev)\n",
      "KeyboardInterrupt\n"
     ]
    },
    {
     "name": "stdout",
     "output_type": "stream",
     "text": [
      "WARNING! DATAPATH not found. The folder /tmp will be used to write binary files\n",
      "WARNING! DATAPATH not found. The folder /tmp will be used to write binary files\n"
     ]
    },
    {
     "name": "stderr",
     "output_type": "stream",
     "text": [
      "2023-04-20 18:57:11,769 - distributed.nanny - ERROR - Worker process died unexpectedly\n",
      "Process Dask Worker process (from Nanny):\n",
      "Traceback (most recent call last):\n",
      "  File \"/usr/lib/python3.9/multiprocessing/process.py\", line 315, in _bootstrap\n",
      "    self.run()\n",
      "  File \"/usr/lib/python3.9/multiprocessing/process.py\", line 108, in run\n",
      "    self._target(*self._args, **self._kwargs)\n",
      "  File \"/usr/local/lib/python3.9/dist-packages/distributed/process.py\", line 190, in _run\n",
      "    target(*args, **kwargs)\n",
      "  File \"/usr/local/lib/python3.9/dist-packages/distributed/nanny.py\", line 988, in _run\n",
      "    asyncio.run(run())\n",
      "  File \"/usr/lib/python3.9/asyncio/runners.py\", line 44, in run\n",
      "    return loop.run_until_complete(main)\n",
      "  File \"/usr/lib/python3.9/asyncio/base_events.py\", line 629, in run_until_complete\n",
      "    self.run_forever()\n",
      "  File \"/usr/lib/python3.9/asyncio/base_events.py\", line 596, in run_forever\n",
      "    self._run_once()\n",
      "  File \"/usr/lib/python3.9/asyncio/base_events.py\", line 1854, in _run_once\n",
      "    event_list = self._selector.select(timeout)\n",
      "  File \"/usr/lib/python3.9/selectors.py\", line 469, in select\n",
      "    fd_event_list = self._selector.poll(timeout, max_ev)\n",
      "KeyboardInterrupt\n"
     ]
    },
    {
     "name": "stdout",
     "output_type": "stream",
     "text": [
      "WARNING! DATAPATH not found. The folder /tmp will be used to write binary files\n"
     ]
    },
    {
     "name": "stderr",
     "output_type": "stream",
     "text": [
      "41.6452 s\n",
      "2023-04-20 18:57:20,287 - distributed.nanny - ERROR - Worker process died unexpectedly\n",
      "Process Dask Worker process (from Nanny):\n",
      "Traceback (most recent call last):\n",
      "  File \"/usr/lib/python3.9/multiprocessing/process.py\", line 315, in _bootstrap\n",
      "    self.run()\n",
      "  File \"/usr/lib/python3.9/multiprocessing/process.py\", line 108, in run\n",
      "    self._target(*self._args, **self._kwargs)\n",
      "  File \"/usr/local/lib/python3.9/dist-packages/distributed/process.py\", line 190, in _run\n",
      "    target(*args, **kwargs)\n",
      "  File \"/usr/local/lib/python3.9/dist-packages/distributed/nanny.py\", line 988, in _run\n",
      "    asyncio.run(run())\n",
      "  File \"/usr/lib/python3.9/asyncio/runners.py\", line 44, in run\n",
      "    return loop.run_until_complete(main)\n",
      "  File \"/usr/lib/python3.9/asyncio/base_events.py\", line 629, in run_until_complete\n",
      "    self.run_forever()\n",
      "  File \"/usr/lib/python3.9/asyncio/base_events.py\", line 596, in run_forever\n",
      "    self._run_once()\n",
      "  File \"/usr/lib/python3.9/asyncio/base_events.py\", line 1854, in _run_once\n",
      "    event_list = self._selector.select(timeout)\n",
      "  File \"/usr/lib/python3.9/selectors.py\", line 469, in select\n",
      "    fd_event_list = self._selector.poll(timeout, max_ev)\n",
      "KeyboardInterrupt\n"
     ]
    },
    {
     "name": "stdout",
     "output_type": "stream",
     "text": [
      "WARNING! DATAPATH not found. The folder /tmp will be used to write binary files\n"
     ]
    }
   ],
   "source": [
    "import matplotlib.pyplot as plt\n",
    "plt.imshow(model_pre[0][:].real, cmap='jet')"
   ]
  },
  {
   "cell_type": "code",
   "execution_count": 48,
   "metadata": {},
   "outputs": [
    {
     "name": "stderr",
     "output_type": "stream",
     "text": [
      "fmin = 1; fmax = 15.3525\n",
      "nfreq = 44; from imin = 2 to imax = 45\n",
      "nshots = 2; nrec = 201\n",
      "fmin = 1; fmax = 15.3525\n",
      "nfreq = 44; from imin = 2 to imax = 45\n",
      "nshots = 2; nrec = 201\n",
      "fmin = 1; fmax = 15.3525\n",
      "nfreq = 44; from imin = 2 to imax = 45\n",
      "nshots = 2; nrec = 201\n",
      "fmin = 1; fmax = 15.3525\n",
      "nfreq = 44; from imin = 2 to imax = 45\n",
      "nshots = 4; nrec = 201\n",
      "fmin = 1; fmax = 15.3525\n",
      "nfreq = 44; from imin = 2 to imax = 45\n",
      "nshots = 2; nrec = 201\n",
      "fmin = 1; fmax = 15.3525\n",
      "nfreq = 44; from imin = 2 to imax = 45\n",
      "nshots = 2; nrec = 201\n",
      "fmin = 1; fmax = 15.3525\n",
      "nfreq = 44; from imin = 2 to imax = 45\n",
      "nshots = 2; nrec = 201\n",
      "fmin = 1; fmax = 15.3525\n",
      "nfreq = 44; from imin = 2 to imax = 45\n",
      "nshots = 4; nrec = 201\n"
     ]
    }
   ],
   "source": [
    "bornOp = DaskOperator(client, WEM.Born, modelDask,dataDask,wave,pythonPar)\n",
    "wemOp = DaskOperator(client, WEM.WEM, modelDask,dataDask,wave,pythonPar)\n",
    "nlOp = Op.NonLinearOperator(wemOp,bornOp)\n",
    "\n",
    "# hyp = DaskOperator(client, Operator.HyperbolicPenalty, modelDask,modelDask,l=1,tau=1e-9)\n",
    "# sofclip = DaskOperator(client, Operator.Softclip, modelDask,modelDask,l=1,tau=1e-9)\n",
    "# hypOp = Op.NonLinearOperator(hyp,sofclip)\n",
    "# nlOp = Op.CombNonlinearOp(hypOp,nlOp)\n",
    "\n",
    "nlOp = Op.CombNonlinearOp(intOp,nlOp)\n"
   ]
  },
  {
   "cell_type": "code",
   "execution_count": 51,
   "metadata": {},
   "outputs": [
    {
     "name": "stderr",
     "output_type": "stream",
     "text": [
      "2023-04-20 21:19:13,701 - distributed.core - ERROR - Exception while handling op scatter\n",
      "Traceback (most recent call last):\n",
      "  File \"/usr/local/lib/python3.9/dist-packages/distributed/core.py\", line 820, in _handle_comm\n",
      "    result = await result\n",
      "  File \"/usr/local/lib/python3.9/dist-packages/distributed/scheduler.py\", line 5652, in scatter\n",
      "    raise TimeoutError(\"No valid workers found\")\n",
      "asyncio.exceptions.TimeoutError: No valid workers found\n"
     ]
    },
    {
     "ename": "TimeoutError",
     "evalue": "No valid workers found",
     "output_type": "error",
     "traceback": [
      "\u001b[0;31m---------------------------------------------------------------------------\u001b[0m",
      "\u001b[0;31mTimeoutError\u001b[0m                              Traceback (most recent call last)",
      "Cell \u001b[0;32mIn[51], line 3\u001b[0m\n\u001b[1;32m      1\u001b[0m dt \u001b[38;5;241m=\u001b[39m wave\u001b[38;5;241m.\u001b[39mgetHyper()\u001b[38;5;241m.\u001b[39mgetAxis(\u001b[38;5;241m1\u001b[39m)\u001b[38;5;241m.\u001b[39md\n\u001b[1;32m      2\u001b[0m tmax \u001b[38;5;241m=\u001b[39m (wave\u001b[38;5;241m.\u001b[39mgetHyper()\u001b[38;5;241m.\u001b[39mgetAxis(\u001b[38;5;241m1\u001b[39m)\u001b[38;5;241m.\u001b[39mn \u001b[38;5;241m-\u001b[39m \u001b[38;5;241m1\u001b[39m)\u001b[38;5;241m*\u001b[39mdt \u001b[38;5;241m+\u001b[39m wave\u001b[38;5;241m.\u001b[39mgetHyper()\u001b[38;5;241m.\u001b[39mgetAxis(\u001b[38;5;241m1\u001b[39m)\u001b[38;5;241m.\u001b[39mo\n\u001b[0;32m----> 3\u001b[0m der \u001b[38;5;241m=\u001b[39m \u001b[43mDaskOperator\u001b[49m\u001b[43m(\u001b[49m\u001b[43mclient\u001b[49m\u001b[43m,\u001b[49m\u001b[43m \u001b[49m\u001b[43mOperator\u001b[49m\u001b[38;5;241;43m.\u001b[39;49m\u001b[43mDerivative\u001b[49m\u001b[43m,\u001b[49m\u001b[43m \u001b[49m\u001b[43mmodelDask\u001b[49m\u001b[43m,\u001b[49m\u001b[43mmodelDask\u001b[49m\u001b[43m,\u001b[49m\u001b[43mwhich\u001b[49m\u001b[38;5;241;43m=\u001b[39;49m\u001b[38;5;241;43m1\u001b[39;49m\u001b[43m,\u001b[49m\u001b[43morder\u001b[49m\u001b[38;5;241;43m=\u001b[39;49m\u001b[38;5;124;43m'\u001b[39;49m\u001b[38;5;124;43mexact\u001b[39;49m\u001b[38;5;124;43m'\u001b[39;49m\u001b[43m,\u001b[49m\u001b[43mf0\u001b[49m\u001b[38;5;241;43m=\u001b[39;49m\u001b[38;5;241;43m1\u001b[39;49m\u001b[43m,\u001b[49m\u001b[43mtmax\u001b[49m\u001b[38;5;241;43m=\u001b[39;49m\u001b[43mtmax\u001b[49m\u001b[38;5;241;43m/\u001b[39;49m\u001b[38;5;241;43m2\u001b[39;49m\u001b[43m,\u001b[49m\u001b[43mdt\u001b[49m\u001b[38;5;241;43m=\u001b[39;49m\u001b[43mdt\u001b[49m\u001b[43m)\u001b[49m\n\u001b[1;32m      5\u001b[0m \u001b[38;5;66;03m# Regularization operators\u001b[39;00m\n\u001b[1;32m      6\u001b[0m dsoNlOp \u001b[38;5;241m=\u001b[39m Op\u001b[38;5;241m.\u001b[39mNonLinearOperator(der,der)\n",
      "File \u001b[0;32m/opt/python-solver/GenericSolver/python/__pyDaskOperator.py:41\u001b[0m, in \u001b[0;36mDaskOperator.__init__\u001b[0;34m(self, dask_client, operator_cls, domain, range, *args, **kw)\u001b[0m\n\u001b[1;32m     38\u001b[0m     op_args\u001b[38;5;241m.\u001b[39mappend(\u001b[38;5;28mtuple\u001b[39m(param))\n\u001b[1;32m     39\u001b[0m     op_kwargs\u001b[38;5;241m.\u001b[39mappend(kw)\n\u001b[0;32m---> 41\u001b[0m \u001b[43mDaskObject\u001b[49m\u001b[38;5;241;43m.\u001b[39;49m\u001b[38;5;21;43m__init__\u001b[39;49m\u001b[43m(\u001b[49m\u001b[38;5;28;43mself\u001b[39;49m\u001b[43m,\u001b[49m\u001b[43m \u001b[49m\u001b[43mdask_client\u001b[49m\u001b[43m,\u001b[49m\u001b[43m \u001b[49m\u001b[43mobjCreator\u001b[49m\u001b[38;5;241;43m=\u001b[39;49m\u001b[43mopCls\u001b[49m\u001b[38;5;241;43m.\u001b[39;49m\u001b[43mfrom_subspace\u001b[49m\u001b[43m,\u001b[49m\u001b[43m \u001b[49m\n\u001b[1;32m     42\u001b[0m \u001b[43m                    \u001b[49m\u001b[43mconstructor_args\u001b[49m\u001b[38;5;241;43m=\u001b[39;49m\u001b[43mop_args\u001b[49m\u001b[43m,\u001b[49m\u001b[43m \u001b[49m\u001b[43mconstructor_kw\u001b[49m\u001b[38;5;241;43m=\u001b[39;49m\u001b[43mop_kwargs\u001b[49m\u001b[43m,\u001b[49m\u001b[43m \u001b[49m\u001b[43mfrom_object\u001b[49m\u001b[38;5;241;43m=\u001b[39;49m\u001b[43mopCls\u001b[49m\u001b[43m)\u001b[49m\n\u001b[1;32m     43\u001b[0m \u001b[38;5;28mself\u001b[39m\u001b[38;5;241m.\u001b[39msetDomainRange(domain, \u001b[38;5;28mrange\u001b[39m)\n",
      "File \u001b[0;32m/opt/python-solver/GenericSolver/python/__pyDaskObject.py:70\u001b[0m, in \u001b[0;36mDaskObject.__init__\u001b[0;34m(self, dask_client, **kw)\u001b[0m\n\u001b[1;32m     67\u001b[0m     \u001b[38;5;28mself\u001b[39m\u001b[38;5;241m.\u001b[39mset_futures(\u001b[38;5;28mself\u001b[39m\u001b[38;5;241m.\u001b[39mfut)\n\u001b[1;32m     68\u001b[0m \u001b[38;5;28;01melse\u001b[39;00m:\n\u001b[1;32m     69\u001b[0m     \u001b[38;5;66;03m# scatter the object first to avoid repeated work\u001b[39;00m\n\u001b[0;32m---> 70\u001b[0m     obj_fut \u001b[38;5;241m=\u001b[39m \u001b[43mclient\u001b[49m\u001b[38;5;241;43m.\u001b[39;49m\u001b[43mscatter\u001b[49m\u001b[43m(\u001b[49m\u001b[43mobj\u001b[49m\u001b[43m,\u001b[49m\u001b[43m \u001b[49m\u001b[43mbroadcast\u001b[49m\u001b[38;5;241;43m=\u001b[39;49m\u001b[38;5;28;43;01mTrue\u001b[39;49;00m\u001b[43m)\u001b[49m\n\u001b[1;32m     71\u001b[0m     \u001b[38;5;28;01mif\u001b[39;00m constructor_kw:\n\u001b[1;32m     72\u001b[0m         \u001b[38;5;28;01mif\u001b[39;00m constructor_args:\n",
      "File \u001b[0;32m/usr/local/lib/python3.9/dist-packages/distributed/client.py:2520\u001b[0m, in \u001b[0;36mClient.scatter\u001b[0;34m(self, data, workers, broadcast, direct, hash, timeout, asynchronous)\u001b[0m\n\u001b[1;32m   2518\u001b[0m \u001b[38;5;28;01melse\u001b[39;00m:\n\u001b[1;32m   2519\u001b[0m     local_worker \u001b[38;5;241m=\u001b[39m \u001b[38;5;28;01mNone\u001b[39;00m\n\u001b[0;32m-> 2520\u001b[0m \u001b[38;5;28;01mreturn\u001b[39;00m \u001b[38;5;28;43mself\u001b[39;49m\u001b[38;5;241;43m.\u001b[39;49m\u001b[43msync\u001b[49m\u001b[43m(\u001b[49m\n\u001b[1;32m   2521\u001b[0m \u001b[43m    \u001b[49m\u001b[38;5;28;43mself\u001b[39;49m\u001b[38;5;241;43m.\u001b[39;49m\u001b[43m_scatter\u001b[49m\u001b[43m,\u001b[49m\n\u001b[1;32m   2522\u001b[0m \u001b[43m    \u001b[49m\u001b[43mdata\u001b[49m\u001b[43m,\u001b[49m\n\u001b[1;32m   2523\u001b[0m \u001b[43m    \u001b[49m\u001b[43mworkers\u001b[49m\u001b[38;5;241;43m=\u001b[39;49m\u001b[43mworkers\u001b[49m\u001b[43m,\u001b[49m\n\u001b[1;32m   2524\u001b[0m \u001b[43m    \u001b[49m\u001b[43mbroadcast\u001b[49m\u001b[38;5;241;43m=\u001b[39;49m\u001b[43mbroadcast\u001b[49m\u001b[43m,\u001b[49m\n\u001b[1;32m   2525\u001b[0m \u001b[43m    \u001b[49m\u001b[43mdirect\u001b[49m\u001b[38;5;241;43m=\u001b[39;49m\u001b[43mdirect\u001b[49m\u001b[43m,\u001b[49m\n\u001b[1;32m   2526\u001b[0m \u001b[43m    \u001b[49m\u001b[43mlocal_worker\u001b[49m\u001b[38;5;241;43m=\u001b[39;49m\u001b[43mlocal_worker\u001b[49m\u001b[43m,\u001b[49m\n\u001b[1;32m   2527\u001b[0m \u001b[43m    \u001b[49m\u001b[43mtimeout\u001b[49m\u001b[38;5;241;43m=\u001b[39;49m\u001b[43mtimeout\u001b[49m\u001b[43m,\u001b[49m\n\u001b[1;32m   2528\u001b[0m \u001b[43m    \u001b[49m\u001b[43masynchronous\u001b[49m\u001b[38;5;241;43m=\u001b[39;49m\u001b[43masynchronous\u001b[49m\u001b[43m,\u001b[49m\n\u001b[1;32m   2529\u001b[0m \u001b[43m    \u001b[49m\u001b[38;5;28;43mhash\u001b[39;49m\u001b[38;5;241;43m=\u001b[39;49m\u001b[38;5;28;43mhash\u001b[39;49m\u001b[43m,\u001b[49m\n\u001b[1;32m   2530\u001b[0m \u001b[43m\u001b[49m\u001b[43m)\u001b[49m\n",
      "File \u001b[0;32m/usr/local/lib/python3.9/dist-packages/distributed/utils.py:338\u001b[0m, in \u001b[0;36mSyncMethodMixin.sync\u001b[0;34m(self, func, asynchronous, callback_timeout, *args, **kwargs)\u001b[0m\n\u001b[1;32m    336\u001b[0m     \u001b[38;5;28;01mreturn\u001b[39;00m future\n\u001b[1;32m    337\u001b[0m \u001b[38;5;28;01melse\u001b[39;00m:\n\u001b[0;32m--> 338\u001b[0m     \u001b[38;5;28;01mreturn\u001b[39;00m \u001b[43msync\u001b[49m\u001b[43m(\u001b[49m\n\u001b[1;32m    339\u001b[0m \u001b[43m        \u001b[49m\u001b[38;5;28;43mself\u001b[39;49m\u001b[38;5;241;43m.\u001b[39;49m\u001b[43mloop\u001b[49m\u001b[43m,\u001b[49m\u001b[43m \u001b[49m\u001b[43mfunc\u001b[49m\u001b[43m,\u001b[49m\u001b[43m \u001b[49m\u001b[38;5;241;43m*\u001b[39;49m\u001b[43margs\u001b[49m\u001b[43m,\u001b[49m\u001b[43m \u001b[49m\u001b[43mcallback_timeout\u001b[49m\u001b[38;5;241;43m=\u001b[39;49m\u001b[43mcallback_timeout\u001b[49m\u001b[43m,\u001b[49m\u001b[43m \u001b[49m\u001b[38;5;241;43m*\u001b[39;49m\u001b[38;5;241;43m*\u001b[39;49m\u001b[43mkwargs\u001b[49m\n\u001b[1;32m    340\u001b[0m \u001b[43m    \u001b[49m\u001b[43m)\u001b[49m\n",
      "File \u001b[0;32m/usr/local/lib/python3.9/dist-packages/distributed/utils.py:405\u001b[0m, in \u001b[0;36msync\u001b[0;34m(loop, func, callback_timeout, *args, **kwargs)\u001b[0m\n\u001b[1;32m    403\u001b[0m \u001b[38;5;28;01mif\u001b[39;00m error:\n\u001b[1;32m    404\u001b[0m     typ, exc, tb \u001b[38;5;241m=\u001b[39m error\n\u001b[0;32m--> 405\u001b[0m     \u001b[38;5;28;01mraise\u001b[39;00m exc\u001b[38;5;241m.\u001b[39mwith_traceback(tb)\n\u001b[1;32m    406\u001b[0m \u001b[38;5;28;01melse\u001b[39;00m:\n\u001b[1;32m    407\u001b[0m     \u001b[38;5;28;01mreturn\u001b[39;00m result\n",
      "File \u001b[0;32m/usr/local/lib/python3.9/dist-packages/distributed/utils.py:378\u001b[0m, in \u001b[0;36msync.<locals>.f\u001b[0;34m()\u001b[0m\n\u001b[1;32m    376\u001b[0m         future \u001b[38;5;241m=\u001b[39m asyncio\u001b[38;5;241m.\u001b[39mwait_for(future, callback_timeout)\n\u001b[1;32m    377\u001b[0m     future \u001b[38;5;241m=\u001b[39m asyncio\u001b[38;5;241m.\u001b[39mensure_future(future)\n\u001b[0;32m--> 378\u001b[0m     result \u001b[38;5;241m=\u001b[39m \u001b[38;5;28;01myield\u001b[39;00m future\n\u001b[1;32m    379\u001b[0m \u001b[38;5;28;01mexcept\u001b[39;00m \u001b[38;5;167;01mException\u001b[39;00m:\n\u001b[1;32m    380\u001b[0m     error \u001b[38;5;241m=\u001b[39m sys\u001b[38;5;241m.\u001b[39mexc_info()\n",
      "File \u001b[0;32m/usr/local/lib/python3.9/dist-packages/tornado/gen.py:769\u001b[0m, in \u001b[0;36mRunner.run\u001b[0;34m(self)\u001b[0m\n\u001b[1;32m    766\u001b[0m exc_info \u001b[38;5;241m=\u001b[39m \u001b[38;5;28;01mNone\u001b[39;00m\n\u001b[1;32m    768\u001b[0m \u001b[38;5;28;01mtry\u001b[39;00m:\n\u001b[0;32m--> 769\u001b[0m     value \u001b[38;5;241m=\u001b[39m \u001b[43mfuture\u001b[49m\u001b[38;5;241;43m.\u001b[39;49m\u001b[43mresult\u001b[49m\u001b[43m(\u001b[49m\u001b[43m)\u001b[49m\n\u001b[1;32m    770\u001b[0m \u001b[38;5;28;01mexcept\u001b[39;00m \u001b[38;5;167;01mException\u001b[39;00m:\n\u001b[1;32m    771\u001b[0m     exc_info \u001b[38;5;241m=\u001b[39m sys\u001b[38;5;241m.\u001b[39mexc_info()\n",
      "File \u001b[0;32m/usr/local/lib/python3.9/dist-packages/distributed/client.py:2400\u001b[0m, in \u001b[0;36mClient._scatter\u001b[0;34m(self, data, workers, broadcast, direct, local_worker, timeout, hash)\u001b[0m\n\u001b[1;32m   2396\u001b[0m         \u001b[38;5;28;01mawait\u001b[39;00m \u001b[38;5;28mself\u001b[39m\u001b[38;5;241m.\u001b[39mscheduler\u001b[38;5;241m.\u001b[39mupdate_data(\n\u001b[1;32m   2397\u001b[0m             who_has\u001b[38;5;241m=\u001b[39mwho_has, nbytes\u001b[38;5;241m=\u001b[39mnbytes, client\u001b[38;5;241m=\u001b[39m\u001b[38;5;28mself\u001b[39m\u001b[38;5;241m.\u001b[39mid\n\u001b[1;32m   2398\u001b[0m         )\n\u001b[1;32m   2399\u001b[0m     \u001b[38;5;28;01melse\u001b[39;00m:\n\u001b[0;32m-> 2400\u001b[0m         \u001b[38;5;28;01mawait\u001b[39;00m \u001b[38;5;28mself\u001b[39m\u001b[38;5;241m.\u001b[39mscheduler\u001b[38;5;241m.\u001b[39mscatter(\n\u001b[1;32m   2401\u001b[0m             data\u001b[38;5;241m=\u001b[39mdata2,\n\u001b[1;32m   2402\u001b[0m             workers\u001b[38;5;241m=\u001b[39mworkers,\n\u001b[1;32m   2403\u001b[0m             client\u001b[38;5;241m=\u001b[39m\u001b[38;5;28mself\u001b[39m\u001b[38;5;241m.\u001b[39mid,\n\u001b[1;32m   2404\u001b[0m             broadcast\u001b[38;5;241m=\u001b[39mbroadcast,\n\u001b[1;32m   2405\u001b[0m             timeout\u001b[38;5;241m=\u001b[39mtimeout,\n\u001b[1;32m   2406\u001b[0m         )\n\u001b[1;32m   2408\u001b[0m out \u001b[38;5;241m=\u001b[39m {k: Future(k, \u001b[38;5;28mself\u001b[39m, inform\u001b[38;5;241m=\u001b[39m\u001b[38;5;28;01mFalse\u001b[39;00m) \u001b[38;5;28;01mfor\u001b[39;00m k \u001b[38;5;129;01min\u001b[39;00m data}\n\u001b[1;32m   2409\u001b[0m \u001b[38;5;28;01mfor\u001b[39;00m key, typ \u001b[38;5;129;01min\u001b[39;00m types\u001b[38;5;241m.\u001b[39mitems():\n",
      "File \u001b[0;32m/usr/local/lib/python3.9/dist-packages/distributed/core.py:1227\u001b[0m, in \u001b[0;36mPooledRPCCall.__getattr__.<locals>.send_recv_from_rpc\u001b[0;34m(**kwargs)\u001b[0m\n\u001b[1;32m   1225\u001b[0m prev_name, comm\u001b[38;5;241m.\u001b[39mname \u001b[38;5;241m=\u001b[39m comm\u001b[38;5;241m.\u001b[39mname, \u001b[38;5;124m\"\u001b[39m\u001b[38;5;124mConnectionPool.\u001b[39m\u001b[38;5;124m\"\u001b[39m \u001b[38;5;241m+\u001b[39m key\n\u001b[1;32m   1226\u001b[0m \u001b[38;5;28;01mtry\u001b[39;00m:\n\u001b[0;32m-> 1227\u001b[0m     \u001b[38;5;28;01mreturn\u001b[39;00m \u001b[38;5;28;01mawait\u001b[39;00m send_recv(comm\u001b[38;5;241m=\u001b[39mcomm, op\u001b[38;5;241m=\u001b[39mkey, \u001b[38;5;241m*\u001b[39m\u001b[38;5;241m*\u001b[39mkwargs)\n\u001b[1;32m   1228\u001b[0m \u001b[38;5;28;01mfinally\u001b[39;00m:\n\u001b[1;32m   1229\u001b[0m     \u001b[38;5;28mself\u001b[39m\u001b[38;5;241m.\u001b[39mpool\u001b[38;5;241m.\u001b[39mreuse(\u001b[38;5;28mself\u001b[39m\u001b[38;5;241m.\u001b[39maddr, comm)\n",
      "File \u001b[0;32m/usr/local/lib/python3.9/dist-packages/distributed/core.py:1011\u001b[0m, in \u001b[0;36msend_recv\u001b[0;34m(comm, reply, serializers, deserializers, **kwargs)\u001b[0m\n\u001b[1;32m   1009\u001b[0m     _, exc, tb \u001b[38;5;241m=\u001b[39m clean_exception(\u001b[38;5;241m*\u001b[39m\u001b[38;5;241m*\u001b[39mresponse)\n\u001b[1;32m   1010\u001b[0m     \u001b[38;5;28;01massert\u001b[39;00m exc\n\u001b[0;32m-> 1011\u001b[0m     \u001b[38;5;28;01mraise\u001b[39;00m exc\u001b[38;5;241m.\u001b[39mwith_traceback(tb)\n\u001b[1;32m   1012\u001b[0m \u001b[38;5;28;01melse\u001b[39;00m:\n\u001b[1;32m   1013\u001b[0m     \u001b[38;5;28;01mraise\u001b[39;00m \u001b[38;5;167;01mException\u001b[39;00m(response[\u001b[38;5;124m\"\u001b[39m\u001b[38;5;124mexception_text\u001b[39m\u001b[38;5;124m\"\u001b[39m])\n",
      "File \u001b[0;32m/usr/local/lib/python3.9/dist-packages/distributed/core.py:820\u001b[0m, in \u001b[0;36m_handle_comm\u001b[0;34m()\u001b[0m\n\u001b[1;32m    818\u001b[0m     result \u001b[38;5;241m=\u001b[39m handler(\u001b[38;5;241m*\u001b[39m\u001b[38;5;241m*\u001b[39mmsg)\n\u001b[1;32m    819\u001b[0m \u001b[38;5;28;01mif\u001b[39;00m inspect\u001b[38;5;241m.\u001b[39miscoroutine(result):\n\u001b[0;32m--> 820\u001b[0m     result \u001b[38;5;241m=\u001b[39m \u001b[38;5;28;01mawait\u001b[39;00m result\n\u001b[1;32m    821\u001b[0m \u001b[38;5;28;01melif\u001b[39;00m inspect\u001b[38;5;241m.\u001b[39misawaitable(result):\n\u001b[1;32m    822\u001b[0m     \u001b[38;5;28;01mraise\u001b[39;00m \u001b[38;5;167;01mRuntimeError\u001b[39;00m(\n\u001b[1;32m    823\u001b[0m         \u001b[38;5;124mf\u001b[39m\u001b[38;5;124m\"\u001b[39m\u001b[38;5;124mComm handler returned unknown awaitable. Expected coroutine, instead got \u001b[39m\u001b[38;5;132;01m{\u001b[39;00m\u001b[38;5;28mtype\u001b[39m(result)\u001b[38;5;132;01m}\u001b[39;00m\u001b[38;5;124m\"\u001b[39m\n\u001b[1;32m    824\u001b[0m     )\n",
      "File \u001b[0;32m/usr/local/lib/python3.9/dist-packages/distributed/scheduler.py:5652\u001b[0m, in \u001b[0;36mscatter\u001b[0;34m()\u001b[0m\n\u001b[1;32m   5650\u001b[0m         \u001b[38;5;28;01mbreak\u001b[39;00m\n\u001b[1;32m   5651\u001b[0m     \u001b[38;5;28;01mif\u001b[39;00m time() \u001b[38;5;241m>\u001b[39m start \u001b[38;5;241m+\u001b[39m timeout:\n\u001b[0;32m-> 5652\u001b[0m         \u001b[38;5;28;01mraise\u001b[39;00m \u001b[38;5;167;01mTimeoutError\u001b[39;00m(\u001b[38;5;124m\"\u001b[39m\u001b[38;5;124mNo valid workers found\u001b[39m\u001b[38;5;124m\"\u001b[39m)\n\u001b[1;32m   5653\u001b[0m     \u001b[38;5;28;01mawait\u001b[39;00m asyncio\u001b[38;5;241m.\u001b[39msleep(\u001b[38;5;241m0.1\u001b[39m)\n\u001b[1;32m   5655\u001b[0m nthreads \u001b[38;5;241m=\u001b[39m {ws\u001b[38;5;241m.\u001b[39maddress: ws\u001b[38;5;241m.\u001b[39mnthreads \u001b[38;5;28;01mfor\u001b[39;00m ws \u001b[38;5;129;01min\u001b[39;00m wss}\n",
      "\u001b[0;31mTimeoutError\u001b[0m: No valid workers found"
     ]
    }
   ],
   "source": [
    "dt = wave.getHyper().getAxis(1).d\n",
    "tmax = (wave.getHyper().getAxis(1).n - 1)*dt + wave.getHyper().getAxis(1).o\n",
    "der = DaskOperator(client, Operator.Derivative, modelDask,modelDask,which=1,order='exact',f0=1,tmax=tmax/2,dt=dt)\n",
    "\n",
    "# Regularization operators\n",
    "dsoNlOp = Op.NonLinearOperator(der,der)\n",
    "dsoNlOp = Op.CombNonlinearOp(intOp,dsoNlOp)"
   ]
  },
  {
   "cell_type": "code",
   "execution_count": 49,
   "metadata": {},
   "outputs": [
    {
     "name": "stdout",
     "output_type": "stream",
     "text": [
      "##########################################################################################\n",
      "\t\t\tNON-LINEAR CONJUGATE GRADIENT SOLVER \n",
      "\tRestart folder: /tmp/restart_2023-04-20T18-43-49.587145/\n",
      "\tConjugate method used: HZ\n",
      "##########################################################################################\n",
      "\n"
     ]
    },
    {
     "name": "stderr",
     "output_type": "stream",
     "text": [
      "Propagating shots ... \n",
      "Propagating shots ... \n",
      "Propagating shots ... \n",
      "Propagating shots ... \n",
      "23.0764 s\n",
      "23.1259 s\n",
      "23.2691 s\n",
      "29.3276 s\n",
      "Adjoint born ... \n",
      "Adjoint born ... \n",
      "Adjoint born ... \n",
      "Adjoint born ... \n",
      "166.715 s\n",
      "167.282 s\n",
      "168.894 s\n",
      "206.064 s\n",
      "Forward born ... Forward born ... \n",
      "\n",
      "Forward born ... \n",
      "Forward born ... \n"
     ]
    },
    {
     "name": "stdout",
     "output_type": "stream",
     "text": [
      "iter = 00, obj = 8.65545e+07, resnorm = 1.32e+04, gradnorm = 1.18e+16, feval = 1, geval = 1\n"
     ]
    },
    {
     "name": "stderr",
     "output_type": "stream",
     "text": [
      "136.515 s\n",
      "137.931 s\n",
      "138.909 s\n",
      "173.371 s\n",
      "Propagating shots ... \n",
      "Propagating shots ... \n",
      "Propagating shots ... \n",
      "Propagating shots ... \n",
      "31.0035 s\n",
      "32.133 s\n",
      "32.284 s\n",
      "40.1506 s\n",
      "Propagating shots ... \n",
      "Propagating shots ... \n",
      "Propagating shots ... \n",
      "Propagating shots ... \n",
      "33.4275 s\n",
      "33.5423 s\n",
      "33.7311 s\n",
      "41.8988 s\n",
      "Propagating shots ... \n",
      "Propagating shots ... \n",
      "Propagating shots ... \n",
      "Propagating shots ... \n",
      "31.4649 s\n",
      "32.3282 s\n",
      "32.3761 s\n",
      "40.2405 s\n",
      "Adjoint born ... \n",
      "Adjoint born ... \n",
      "Adjoint born ... \n",
      "Adjoint born ... \n",
      "146.95 s\n",
      "147.253 s\n",
      "148.302 s\n",
      "233.301 s\n",
      "Propagating shots ... \n",
      "Propagating shots ... \n",
      "Propagating shots ... \n",
      "Propagating shots ... \n"
     ]
    },
    {
     "name": "stdout",
     "output_type": "stream",
     "text": [
      "iter = 01, obj = 6.03183e+07, resnorm = 1.10e+04, gradnorm = 5.32e+15, feval = 4, geval = 2\n"
     ]
    },
    {
     "ename": "KeyboardInterrupt",
     "evalue": "",
     "output_type": "error",
     "traceback": [
      "\u001b[0;31m---------------------------------------------------------------------------\u001b[0m",
      "\u001b[0;31mKeyboardInterrupt\u001b[0m                         Traceback (most recent call last)",
      "Cell \u001b[0;32mIn[49], line 5\u001b[0m\n\u001b[1;32m      3\u001b[0m L2Prob \u001b[38;5;241m=\u001b[39m Prblm\u001b[38;5;241m.\u001b[39mProblemL2NonLinear(model_pre,dataDask,nlOp)\n\u001b[1;32m      4\u001b[0m solver \u001b[38;5;241m=\u001b[39m Solver\u001b[38;5;241m.\u001b[39mNLCGsolver(Stop,beta_type\u001b[38;5;241m=\u001b[39m\u001b[38;5;124m'\u001b[39m\u001b[38;5;124mHZ\u001b[39m\u001b[38;5;124m'\u001b[39m)\n\u001b[0;32m----> 5\u001b[0m \u001b[43msolver\u001b[49m\u001b[38;5;241;43m.\u001b[39;49m\u001b[43mrun\u001b[49m\u001b[43m(\u001b[49m\u001b[43mL2Prob\u001b[49m\u001b[43m,\u001b[49m\u001b[43m \u001b[49m\u001b[43mverbose\u001b[49m\u001b[38;5;241;43m=\u001b[39;49m\u001b[38;5;28;43;01mTrue\u001b[39;49;00m\u001b[43m)\u001b[49m\n",
      "File \u001b[0;32m/opt/python-solver/GenericSolver/python/pyNonLinearSolver.py:320\u001b[0m, in \u001b[0;36mNLCGsolver.run\u001b[0;34m(self, problem, verbose, restart)\u001b[0m\n\u001b[1;32m    318\u001b[0m cg_grad0\u001b[38;5;241m.\u001b[39mcopy(prblm_grad)\n\u001b[1;32m    319\u001b[0m \u001b[38;5;66;03m# Calling line search\u001b[39;00m\n\u001b[0;32m--> 320\u001b[0m alpha, success \u001b[38;5;241m=\u001b[39m \u001b[38;5;28;43mself\u001b[39;49m\u001b[38;5;241;43m.\u001b[39;49m\u001b[43mstepper\u001b[49m\u001b[38;5;241;43m.\u001b[39;49m\u001b[43mrun\u001b[49m\u001b[43m(\u001b[49m\u001b[43mproblem\u001b[49m\u001b[43m,\u001b[49m\u001b[43m \u001b[49m\u001b[43mcg_mdl\u001b[49m\u001b[43m,\u001b[49m\u001b[43m \u001b[49m\u001b[43mcg_dmodl\u001b[49m\u001b[43m,\u001b[49m\u001b[43m \u001b[49m\u001b[38;5;28;43mself\u001b[39;49m\u001b[38;5;241;43m.\u001b[39;49m\u001b[43mlogger\u001b[49m\u001b[43m)\u001b[49m\n\u001b[1;32m    321\u001b[0m \u001b[38;5;28;01mif\u001b[39;00m \u001b[38;5;129;01mnot\u001b[39;00m success:\n\u001b[1;32m    322\u001b[0m     \u001b[38;5;28;01mif\u001b[39;00m \u001b[38;5;28mself\u001b[39m\u001b[38;5;241m.\u001b[39mcreate_msg:\n",
      "File \u001b[0;32m/opt/python-solver/GenericSolver/python/pyStepper.py:606\u001b[0m, in \u001b[0;36mParabolicStep.run\u001b[0;34m(self, problem, modl, dmodl, logger)\u001b[0m\n\u001b[1;32m    604\u001b[0m     \u001b[38;5;28;01mif\u001b[39;00m logger:\n\u001b[1;32m    605\u001b[0m         logger\u001b[38;5;241m.\u001b[39maddToLog(msg)\n\u001b[0;32m--> 606\u001b[0m obj1 \u001b[38;5;241m=\u001b[39m \u001b[43mproblem\u001b[49m\u001b[38;5;241;43m.\u001b[39;49m\u001b[43mget_obj\u001b[49m\u001b[43m(\u001b[49m\u001b[43mmodel_step\u001b[49m\u001b[43m)\u001b[49m\n\u001b[1;32m    607\u001b[0m \u001b[38;5;66;03m# Copying residuals for point c1\u001b[39;00m\n\u001b[1;32m    608\u001b[0m res_prblm \u001b[38;5;241m=\u001b[39m problem\u001b[38;5;241m.\u001b[39mget_res(model_step)\n",
      "File \u001b[0;32m/opt/python-solver/GenericSolver/python/pyProblem.py:127\u001b[0m, in \u001b[0;36mProblem.get_obj\u001b[0;34m(self, model)\u001b[0m\n\u001b[1;32m    125\u001b[0m \u001b[38;5;28mself\u001b[39m\u001b[38;5;241m.\u001b[39mset_model(model)\n\u001b[1;32m    126\u001b[0m \u001b[38;5;28;01mif\u001b[39;00m \u001b[38;5;129;01mnot\u001b[39;00m \u001b[38;5;28mself\u001b[39m\u001b[38;5;241m.\u001b[39mobj_updated:\n\u001b[0;32m--> 127\u001b[0m     \u001b[38;5;28mself\u001b[39m\u001b[38;5;241m.\u001b[39mres \u001b[38;5;241m=\u001b[39m \u001b[38;5;28;43mself\u001b[39;49m\u001b[38;5;241;43m.\u001b[39;49m\u001b[43mget_res\u001b[49m\u001b[43m(\u001b[49m\u001b[38;5;28;43mself\u001b[39;49m\u001b[38;5;241;43m.\u001b[39;49m\u001b[43mmodel\u001b[49m\u001b[43m)\u001b[49m\n\u001b[1;32m    128\u001b[0m     \u001b[38;5;28mself\u001b[39m\u001b[38;5;241m.\u001b[39mobj \u001b[38;5;241m=\u001b[39m \u001b[38;5;28mself\u001b[39m\u001b[38;5;241m.\u001b[39mobjf(\u001b[38;5;28mself\u001b[39m\u001b[38;5;241m.\u001b[39mres)\n\u001b[1;32m    129\u001b[0m     \u001b[38;5;28mself\u001b[39m\u001b[38;5;241m.\u001b[39mobj_updated \u001b[38;5;241m=\u001b[39m \u001b[38;5;28;01mTrue\u001b[39;00m\n",
      "File \u001b[0;32m/opt/python-solver/GenericSolver/python/pyProblem.py:137\u001b[0m, in \u001b[0;36mProblem.get_res\u001b[0;34m(self, model)\u001b[0m\n\u001b[1;32m    135\u001b[0m \u001b[38;5;28;01mif\u001b[39;00m \u001b[38;5;129;01mnot\u001b[39;00m \u001b[38;5;28mself\u001b[39m\u001b[38;5;241m.\u001b[39mres_updated:\n\u001b[1;32m    136\u001b[0m     \u001b[38;5;28mself\u001b[39m\u001b[38;5;241m.\u001b[39mfevals \u001b[38;5;241m+\u001b[39m\u001b[38;5;241m=\u001b[39m \u001b[38;5;241m1\u001b[39m\n\u001b[0;32m--> 137\u001b[0m     \u001b[38;5;28mself\u001b[39m\u001b[38;5;241m.\u001b[39mres \u001b[38;5;241m=\u001b[39m \u001b[38;5;28;43mself\u001b[39;49m\u001b[38;5;241;43m.\u001b[39;49m\u001b[43mresf\u001b[49m\u001b[43m(\u001b[49m\u001b[38;5;28;43mself\u001b[39;49m\u001b[38;5;241;43m.\u001b[39;49m\u001b[43mmodel\u001b[49m\u001b[43m)\u001b[49m\n\u001b[1;32m    138\u001b[0m     \u001b[38;5;28mself\u001b[39m\u001b[38;5;241m.\u001b[39mres_updated \u001b[38;5;241m=\u001b[39m \u001b[38;5;28;01mTrue\u001b[39;00m\n\u001b[1;32m    139\u001b[0m \u001b[38;5;28;01mreturn\u001b[39;00m \u001b[38;5;28mself\u001b[39m\u001b[38;5;241m.\u001b[39mres\n",
      "File \u001b[0;32m/opt/python-solver/GenericSolver/python/pyProblem.py:787\u001b[0m, in \u001b[0;36mProblemL2NonLinear.resf\u001b[0;34m(self, model)\u001b[0m\n\u001b[1;32m    785\u001b[0m \u001b[38;5;28;01mdef\u001b[39;00m \u001b[38;5;21mresf\u001b[39m(\u001b[38;5;28mself\u001b[39m, model):\n\u001b[1;32m    786\u001b[0m     \u001b[38;5;124;03m\"\"\"Method to return residual vector r = f(m) - d\"\"\"\u001b[39;00m\n\u001b[0;32m--> 787\u001b[0m     \u001b[38;5;28;43mself\u001b[39;49m\u001b[38;5;241;43m.\u001b[39;49m\u001b[43mop\u001b[49m\u001b[38;5;241;43m.\u001b[39;49m\u001b[43mnl_op\u001b[49m\u001b[38;5;241;43m.\u001b[39;49m\u001b[43mforward\u001b[49m\u001b[43m(\u001b[49m\u001b[38;5;28;43;01mFalse\u001b[39;49;00m\u001b[43m,\u001b[49m\u001b[43m \u001b[49m\u001b[43mmodel\u001b[49m\u001b[43m,\u001b[49m\u001b[43m \u001b[49m\u001b[38;5;28;43mself\u001b[39;49m\u001b[38;5;241;43m.\u001b[39;49m\u001b[43mres\u001b[49m\u001b[43m)\u001b[49m\n\u001b[1;32m    788\u001b[0m     \u001b[38;5;66;03m# Computing f(m) - d\u001b[39;00m\n\u001b[1;32m    789\u001b[0m     \u001b[38;5;28mself\u001b[39m\u001b[38;5;241m.\u001b[39mres\u001b[38;5;241m.\u001b[39mscaleAdd(\u001b[38;5;28mself\u001b[39m\u001b[38;5;241m.\u001b[39mdata, \u001b[38;5;241m1.\u001b[39m, \u001b[38;5;241m-\u001b[39m\u001b[38;5;241m1.\u001b[39m)\n",
      "File \u001b[0;32m/opt/python-solver/GenericSolver/python/pyOperator.py:426\u001b[0m, in \u001b[0;36m_prodOperator.forward\u001b[0;34m(self, add, model, data)\u001b[0m\n\u001b[1;32m    424\u001b[0m \u001b[38;5;28mself\u001b[39m\u001b[38;5;241m.\u001b[39mcheckDomainRange(model, data)\n\u001b[1;32m    425\u001b[0m \u001b[38;5;28mself\u001b[39m\u001b[38;5;241m.\u001b[39margs[\u001b[38;5;241m1\u001b[39m]\u001b[38;5;241m.\u001b[39mforward(\u001b[38;5;28;01mFalse\u001b[39;00m, model, \u001b[38;5;28mself\u001b[39m\u001b[38;5;241m.\u001b[39mtemp)\n\u001b[0;32m--> 426\u001b[0m \u001b[38;5;28;43mself\u001b[39;49m\u001b[38;5;241;43m.\u001b[39;49m\u001b[43margs\u001b[49m\u001b[43m[\u001b[49m\u001b[38;5;241;43m0\u001b[39;49m\u001b[43m]\u001b[49m\u001b[38;5;241;43m.\u001b[39;49m\u001b[43mforward\u001b[49m\u001b[43m(\u001b[49m\u001b[43madd\u001b[49m\u001b[43m,\u001b[49m\u001b[43m \u001b[49m\u001b[38;5;28;43mself\u001b[39;49m\u001b[38;5;241;43m.\u001b[39;49m\u001b[43mtemp\u001b[49m\u001b[43m,\u001b[49m\u001b[43m \u001b[49m\u001b[43mdata\u001b[49m\u001b[43m)\u001b[49m\n",
      "File \u001b[0;32m/opt/python-solver/GenericSolver/python/__pyDaskOperator.py:75\u001b[0m, in \u001b[0;36mDaskOperator.forward\u001b[0;34m(self, add, model, data)\u001b[0m\n\u001b[1;32m     73\u001b[0m     res\u001b[38;5;241m.\u001b[39mappend(fut)\n\u001b[1;32m     74\u001b[0m waitable \u001b[38;5;241m=\u001b[39m [f \u001b[38;5;28;01mfor\u001b[39;00m sublist \u001b[38;5;129;01min\u001b[39;00m res \u001b[38;5;28;01mfor\u001b[39;00m f \u001b[38;5;129;01min\u001b[39;00m sublist]\n\u001b[0;32m---> 75\u001b[0m \u001b[43mwait\u001b[49m\u001b[43m(\u001b[49m\u001b[43mwaitable\u001b[49m\u001b[43m)\u001b[49m\n\u001b[1;32m     76\u001b[0m \u001b[38;5;66;03m# accumulate \u001b[39;00m\n\u001b[1;32m     77\u001b[0m \u001b[38;5;28;01mfor\u001b[39;00m d \u001b[38;5;129;01min\u001b[39;00m res:\n",
      "File \u001b[0;32m/usr/local/lib/python3.9/dist-packages/distributed/client.py:4915\u001b[0m, in \u001b[0;36mwait\u001b[0;34m(fs, timeout, return_when)\u001b[0m\n\u001b[1;32m   4913\u001b[0m     timeout \u001b[38;5;241m=\u001b[39m parse_timedelta(timeout, default\u001b[38;5;241m=\u001b[39m\u001b[38;5;124m\"\u001b[39m\u001b[38;5;124ms\u001b[39m\u001b[38;5;124m\"\u001b[39m)\n\u001b[1;32m   4914\u001b[0m client \u001b[38;5;241m=\u001b[39m default_client()\n\u001b[0;32m-> 4915\u001b[0m result \u001b[38;5;241m=\u001b[39m \u001b[43mclient\u001b[49m\u001b[38;5;241;43m.\u001b[39;49m\u001b[43msync\u001b[49m\u001b[43m(\u001b[49m\u001b[43m_wait\u001b[49m\u001b[43m,\u001b[49m\u001b[43m \u001b[49m\u001b[43mfs\u001b[49m\u001b[43m,\u001b[49m\u001b[43m \u001b[49m\u001b[43mtimeout\u001b[49m\u001b[38;5;241;43m=\u001b[39;49m\u001b[43mtimeout\u001b[49m\u001b[43m,\u001b[49m\u001b[43m \u001b[49m\u001b[43mreturn_when\u001b[49m\u001b[38;5;241;43m=\u001b[39;49m\u001b[43mreturn_when\u001b[49m\u001b[43m)\u001b[49m\n\u001b[1;32m   4916\u001b[0m \u001b[38;5;28;01mreturn\u001b[39;00m result\n",
      "File \u001b[0;32m/usr/local/lib/python3.9/dist-packages/distributed/utils.py:338\u001b[0m, in \u001b[0;36mSyncMethodMixin.sync\u001b[0;34m(self, func, asynchronous, callback_timeout, *args, **kwargs)\u001b[0m\n\u001b[1;32m    336\u001b[0m     \u001b[38;5;28;01mreturn\u001b[39;00m future\n\u001b[1;32m    337\u001b[0m \u001b[38;5;28;01melse\u001b[39;00m:\n\u001b[0;32m--> 338\u001b[0m     \u001b[38;5;28;01mreturn\u001b[39;00m \u001b[43msync\u001b[49m\u001b[43m(\u001b[49m\n\u001b[1;32m    339\u001b[0m \u001b[43m        \u001b[49m\u001b[38;5;28;43mself\u001b[39;49m\u001b[38;5;241;43m.\u001b[39;49m\u001b[43mloop\u001b[49m\u001b[43m,\u001b[49m\u001b[43m \u001b[49m\u001b[43mfunc\u001b[49m\u001b[43m,\u001b[49m\u001b[43m \u001b[49m\u001b[38;5;241;43m*\u001b[39;49m\u001b[43margs\u001b[49m\u001b[43m,\u001b[49m\u001b[43m \u001b[49m\u001b[43mcallback_timeout\u001b[49m\u001b[38;5;241;43m=\u001b[39;49m\u001b[43mcallback_timeout\u001b[49m\u001b[43m,\u001b[49m\u001b[43m \u001b[49m\u001b[38;5;241;43m*\u001b[39;49m\u001b[38;5;241;43m*\u001b[39;49m\u001b[43mkwargs\u001b[49m\n\u001b[1;32m    340\u001b[0m \u001b[43m    \u001b[49m\u001b[43m)\u001b[49m\n",
      "File \u001b[0;32m/usr/local/lib/python3.9/dist-packages/distributed/utils.py:401\u001b[0m, in \u001b[0;36msync\u001b[0;34m(loop, func, callback_timeout, *args, **kwargs)\u001b[0m\n\u001b[1;32m    399\u001b[0m \u001b[38;5;28;01melse\u001b[39;00m:\n\u001b[1;32m    400\u001b[0m     \u001b[38;5;28;01mwhile\u001b[39;00m \u001b[38;5;129;01mnot\u001b[39;00m e\u001b[38;5;241m.\u001b[39mis_set():\n\u001b[0;32m--> 401\u001b[0m         \u001b[43mwait\u001b[49m\u001b[43m(\u001b[49m\u001b[38;5;241;43m10\u001b[39;49m\u001b[43m)\u001b[49m\n\u001b[1;32m    403\u001b[0m \u001b[38;5;28;01mif\u001b[39;00m error:\n\u001b[1;32m    404\u001b[0m     typ, exc, tb \u001b[38;5;241m=\u001b[39m error\n",
      "File \u001b[0;32m/usr/local/lib/python3.9/dist-packages/distributed/utils.py:390\u001b[0m, in \u001b[0;36msync.<locals>.wait\u001b[0;34m(timeout)\u001b[0m\n\u001b[1;32m    388\u001b[0m \u001b[38;5;28;01mdef\u001b[39;00m \u001b[38;5;21mwait\u001b[39m(timeout):\n\u001b[1;32m    389\u001b[0m     \u001b[38;5;28;01mtry\u001b[39;00m:\n\u001b[0;32m--> 390\u001b[0m         \u001b[38;5;28;01mreturn\u001b[39;00m \u001b[43me\u001b[49m\u001b[38;5;241;43m.\u001b[39;49m\u001b[43mwait\u001b[49m\u001b[43m(\u001b[49m\u001b[43mtimeout\u001b[49m\u001b[43m)\u001b[49m\n\u001b[1;32m    391\u001b[0m     \u001b[38;5;28;01mexcept\u001b[39;00m \u001b[38;5;167;01mKeyboardInterrupt\u001b[39;00m:\n\u001b[1;32m    392\u001b[0m         loop\u001b[38;5;241m.\u001b[39madd_callback(cancel)\n",
      "File \u001b[0;32m/usr/lib/python3.9/threading.py:574\u001b[0m, in \u001b[0;36mEvent.wait\u001b[0;34m(self, timeout)\u001b[0m\n\u001b[1;32m    572\u001b[0m signaled \u001b[38;5;241m=\u001b[39m \u001b[38;5;28mself\u001b[39m\u001b[38;5;241m.\u001b[39m_flag\n\u001b[1;32m    573\u001b[0m \u001b[38;5;28;01mif\u001b[39;00m \u001b[38;5;129;01mnot\u001b[39;00m signaled:\n\u001b[0;32m--> 574\u001b[0m     signaled \u001b[38;5;241m=\u001b[39m \u001b[38;5;28;43mself\u001b[39;49m\u001b[38;5;241;43m.\u001b[39;49m\u001b[43m_cond\u001b[49m\u001b[38;5;241;43m.\u001b[39;49m\u001b[43mwait\u001b[49m\u001b[43m(\u001b[49m\u001b[43mtimeout\u001b[49m\u001b[43m)\u001b[49m\n\u001b[1;32m    575\u001b[0m \u001b[38;5;28;01mreturn\u001b[39;00m signaled\n",
      "File \u001b[0;32m/usr/lib/python3.9/threading.py:316\u001b[0m, in \u001b[0;36mCondition.wait\u001b[0;34m(self, timeout)\u001b[0m\n\u001b[1;32m    314\u001b[0m \u001b[38;5;28;01melse\u001b[39;00m:\n\u001b[1;32m    315\u001b[0m     \u001b[38;5;28;01mif\u001b[39;00m timeout \u001b[38;5;241m>\u001b[39m \u001b[38;5;241m0\u001b[39m:\n\u001b[0;32m--> 316\u001b[0m         gotit \u001b[38;5;241m=\u001b[39m \u001b[43mwaiter\u001b[49m\u001b[38;5;241;43m.\u001b[39;49m\u001b[43macquire\u001b[49m\u001b[43m(\u001b[49m\u001b[38;5;28;43;01mTrue\u001b[39;49;00m\u001b[43m,\u001b[49m\u001b[43m \u001b[49m\u001b[43mtimeout\u001b[49m\u001b[43m)\u001b[49m\n\u001b[1;32m    317\u001b[0m     \u001b[38;5;28;01melse\u001b[39;00m:\n\u001b[1;32m    318\u001b[0m         gotit \u001b[38;5;241m=\u001b[39m waiter\u001b[38;5;241m.\u001b[39macquire(\u001b[38;5;28;01mFalse\u001b[39;00m)\n",
      "\u001b[0;31mKeyboardInterrupt\u001b[0m: "
     ]
    }
   ],
   "source": [
    "Stop  = Stopper.BasicStopper(10)\n",
    "\n",
    "L2Prob = Prblm.ProblemL2NonLinear(model_pre,dataDask,nlOp)\n",
    "solver = Solver.NLCGsolver(Stop,beta_type='HZ')\n",
    "solver.run(L2Prob, verbose=True)"
   ]
  },
  {
   "cell_type": "code",
   "execution_count": null,
   "metadata": {},
   "outputs": [],
   "source": [
    "pert = slow.clone()\n",
    "pert.zero()\n",
    "pert[100,50] = bg.min()"
   ]
  },
  {
   "cell_type": "code",
   "execution_count": null,
   "metadata": {},
   "outputs": [],
   "source": [
    "a, err = nlOp.linTest(bg, pert=pert, alpha=np.linspace(1e-6, 1e-2, 10))"
   ]
  },
  {
   "cell_type": "code",
   "execution_count": null,
   "metadata": {},
   "outputs": [],
   "source": [
    "import matplotlib.pyplot as plt\n",
    "plt.plot(a, err)"
   ]
  },
  {
   "cell_type": "code",
   "execution_count": null,
   "metadata": {},
   "outputs": [],
   "source": [
    "wemOp.forward(False, slow, data)"
   ]
  },
  {
   "cell_type": "code",
   "execution_count": null,
   "metadata": {},
   "outputs": [],
   "source": [
    "err"
   ]
  },
  {
   "cell_type": "code",
   "execution_count": null,
   "metadata": {},
   "outputs": [],
   "source": [
    "a"
   ]
  },
  {
   "cell_type": "code",
   "execution_count": null,
   "metadata": {},
   "outputs": [],
   "source": [
    "import numpy as np\n",
    "import matplotlib.pyplot as plt\n",
    "\n",
    "def sgn(x):\n",
    "    return np.sign(x)\n",
    "\n",
    "def f(omega):\n",
    "    return -1j * (2/np.pi) * sgn(omega) * np.power(np.abs(omega), -3/2)\n",
    "\n",
    "omega = np.linspace(-10, 10, 1000)\n",
    "F = f(omega)\n",
    "\n",
    "# plt.plot(omega, np.real(F), label='Real part')\n",
    "plt.plot(np.imag(F)[450:550], label='Imaginary part')\n",
    "plt.xlabel('Frequency (ω)')\n",
    "plt.ylabel('Amplitude')\n",
    "plt.title('Fourier Transform of the Square Root Function')\n",
    "plt.legend()\n",
    "plt.show()\n"
   ]
  },
  {
   "cell_type": "code",
   "execution_count": null,
   "metadata": {},
   "outputs": [],
   "source": [
    "ff = np.convolve(np.imag(F), -np.imag(F))\n",
    "plt.plot(ff[950:1050])"
   ]
  },
  {
   "cell_type": "code",
   "execution_count": null,
   "metadata": {
    "scrolled": true
   },
   "outputs": [],
   "source": [
    "dask_born.set_background(bg)"
   ]
  },
  {
   "cell_type": "markdown",
   "metadata": {},
   "source": [
    "## Spline interpolation"
   ]
  },
  {
   "cell_type": "code",
   "execution_count": null,
   "metadata": {},
   "outputs": [],
   "source": [
    "import pyOperator as Op\n",
    "import Operator\n",
    "n1new = 50\n",
    "d1new = (n1-1)*d1 / n1new \n",
    "n2new = 50\n",
    "d2new = (n2-1)*d2 / n2new\n",
    "\n",
    "smol = DaskVector(client, vecCls=SepVector.complexVector, ns=[n1new,n2new], ds=[d1new,d2new],os=[o1,o2], chunks=(1,1))\n",
    "\n",
    "spline = DaskOperator(client, Operator.Spline2D, smol, slowDask,type='CR-spline')\n",
    "\n",
    "# chain.adjoint(False,im_smol3d,data)"
   ]
  },
  {
   "cell_type": "code",
   "execution_count": null,
   "metadata": {},
   "outputs": [],
   "source": [
    "chain = Op.ChainOperator(spline,dask_born)"
   ]
  },
  {
   "cell_type": "code",
   "execution_count": null,
   "metadata": {},
   "outputs": [],
   "source": [
    "chain.adjoint(False, smol, dataDask)"
   ]
  },
  {
   "cell_type": "code",
   "execution_count": null,
   "metadata": {},
   "outputs": [],
   "source": [
    "hv.Image(smol[:][0].real).opts(cmap='jet')"
   ]
  },
  {
   "cell_type": "code",
   "execution_count": null,
   "metadata": {},
   "outputs": [],
   "source": [
    "smol = SepVector.getSepVector(ns=[n1new,n2new], ds=[d1new,d2new],os=[o1,o2], storage='dataComplex')\n",
    "spline = Operator.Spline2D(smol, slow,type='CR-spline')"
   ]
  },
  {
   "cell_type": "code",
   "execution_count": null,
   "metadata": {},
   "outputs": [],
   "source": [
    "import pickle\n",
    "\n",
    "d = pickle.dumps(spline)"
   ]
  },
  {
   "cell_type": "code",
   "execution_count": null,
   "metadata": {},
   "outputs": [],
   "source": [
    "dd = pickle.loads(d)"
   ]
  },
  {
   "cell_type": "code",
   "execution_count": null,
   "metadata": {},
   "outputs": [],
   "source": [
    "dd.__dict__"
   ]
  },
  {
   "cell_type": "code",
   "execution_count": null,
   "metadata": {},
   "outputs": [],
   "source": [
    "dd.adjoint(False, smol, slow)"
   ]
  },
  {
   "cell_type": "code",
   "execution_count": null,
   "metadata": {},
   "outputs": [],
   "source": [
    "hv.Image(smol[:].real)"
   ]
  },
  {
   "cell_type": "code",
   "execution_count": null,
   "metadata": {},
   "outputs": [],
   "source": [
    "smol.clipVector(smol,smol)"
   ]
  },
  {
   "cell_type": "code",
   "execution_count": null,
   "metadata": {},
   "outputs": [],
   "source": []
  }
 ],
 "metadata": {
  "kernelspec": {
   "display_name": "Python 3 (ipykernel)",
   "language": "python",
   "name": "python3"
  },
  "language_info": {
   "codemirror_mode": {
    "name": "ipython",
    "version": 3
   },
   "file_extension": ".py",
   "mimetype": "text/x-python",
   "name": "python",
   "nbconvert_exporter": "python",
   "pygments_lexer": "ipython3",
   "version": "3.9.2"
  }
 },
 "nbformat": 4,
 "nbformat_minor": 2
}
