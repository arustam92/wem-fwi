{
 "cells": [
  {
   "cell_type": "markdown",
   "metadata": {},
   "source": [
    "# DATA"
   ]
  },
  {
   "cell_type": "code",
   "execution_count": 1,
   "metadata": {},
   "outputs": [
    {
     "name": "stdout",
     "output_type": "stream",
     "text": [
      "WARNING! DATAPATH not found. The folder /tmp will be used to write binary files\n"
     ]
    }
   ],
   "source": [
    "%load_ext autoreload\n",
    "%autoreload 2\n",
    "import genericIO\n",
    "import SepVector\n",
    "import Hypercube\n",
    "import numpy as np\n",
    "import Operator\n",
    "import WEM\n",
    "\n",
    "import time"
   ]
  },
  {
   "cell_type": "code",
   "execution_count": 2,
   "metadata": {},
   "outputs": [],
   "source": [
    "\n",
    "n1 = 200\n",
    "n2 = 200 \n",
    "\n",
    "d1 = 20\n",
    "d2 = 10\n",
    "\n",
    "o1 = 0\n",
    "o2 = 0\n",
    "\n",
    "slow = SepVector.getSepVector(Hypercube.hypercube(ns=[n1,n2],ds=[d1,d2],os=[o1,o2]),storage='dataComplex')\n",
    "\n",
    "slowNd = slow.getNdArray()\n",
    "slowNd[:] = 1/2000*1/2000\n",
    "slowNd[int(1.5*n2/3)::,:] = 1/3000*1/3000"
   ]
  },
  {
   "cell_type": "code",
   "execution_count": 3,
   "metadata": {},
   "outputs": [
    {
     "name": "stdout",
     "output_type": "stream",
     "text": [
      "(750,)\n"
     ]
    }
   ],
   "source": [
    "import json\n",
    "\n",
    "ns = 3\n",
    "par = {\n",
    "    \"ns\" : ns,\n",
    "    \"dsx\" : 2000,\n",
    "    \"osx\" : 0,\n",
    "    \"dsz\" : 0,\n",
    "    \"osz\" : 0,\n",
    "    \n",
    "    \"nr\" : 3,\n",
    "    \"drx\" : 1000,\n",
    "    \"orx\" : 1000,\n",
    "    \"drz\" : 0,\n",
    "    \"orz\" : 1500,\n",
    "    \n",
    "    \"fmin\" : 1, \n",
    "    \"fmax\" : 15,  \n",
    "    \n",
    "    \"nref\" : 1,\n",
    "    \"tap\" : 100,\n",
    "    \"pad\" : 100,\n",
    "    \"ngs\" : 3,\n",
    "    \"ngr\" : 3,\n",
    "    \"prop\" : 'ssf',\n",
    "    \"eps\" : 0.01,\n",
    "    \n",
    "    \"ntaylor\" : 1,\n",
    "    \"onepass\" : 1\n",
    "    \n",
    "}\n",
    "\n",
    "\n",
    "ot = 0\n",
    "tmax = 3\n",
    "dt = 0.004\n",
    "nt = int((tmax-ot) / dt)\n",
    "wave = SepVector.getSepVector(Hypercube.hypercube(ns=[nt],ds=[dt],os=[ot]))\n",
    "waveNd = wave.getNdArray()\n",
    "t = np.linspace(ot,tmax,nt) - .5\n",
    "f0 = 5\n",
    "waveNd[:] = (1-2*(np.pi*f0*t)**2)* np.exp(-(np.pi*f0*t)**2)\n",
    "print(waveNd.shape)\n",
    "# waveNd = np.roll(waveNd,-int(0.5/dt))\n",
    "\n",
    "data = SepVector.getSepVector(Hypercube.hypercube(ns=[nt,par[\"nr\"],par[\"ns\"]],ds=[dt,par[\"drx\"],par[\"dsx\"]],os=[ot,par[\"orx\"],par[\"osx\"]]))\n",
    "datNd = data.getNdArray()\n",
    "\n",
    "parObj = genericIO.pythonParams(par).getCpp()"
   ]
  },
  {
   "cell_type": "code",
   "execution_count": 4,
   "metadata": {},
   "outputs": [
    {
     "name": "stderr",
     "output_type": "stream",
     "text": [
      "/usr/lib/python3/dist-packages/numpy/core/_asarray.py:83: ComplexWarning: Casting complex values to real discards the imaginary part\n",
      "  return array(a, dtype, copy=False, order=order)\n"
     ]
    },
    {
     "data": {
      "text/plain": [
       "[<matplotlib.lines.Line2D at 0x7f15b1d71250>]"
      ]
     },
     "execution_count": 4,
     "metadata": {},
     "output_type": "execute_result"
    },
    {
     "data": {
      "image/png": "[encoded data removed]",
      "text/plain": [
       "<Figure size 432x288 with 1 Axes>"
      ]
     },
     "metadata": {
      "needs_background": "light"
     },
     "output_type": "display_data"
    },
    {
     "data": {
      "image/png": "[encoded data removed]",
      "text/plain": [
       "<Figure size 432x288 with 1 Axes>"
      ]
     },
     "metadata": {
      "needs_background": "light"
     },
     "output_type": "display_data"
    }
   ],
   "source": [
    "%matplotlib inline\n",
    "import matplotlib.pyplot as plt\n",
    "\n",
    "plt.figure()\n",
    "plt.plot(t,waveNd)\n",
    "\n",
    "plt.figure()\n",
    "plt.plot(slowNd[:,0])"
   ]
  },
  {
   "cell_type": "code",
   "execution_count": 5,
   "metadata": {
    "scrolled": true
   },
   "outputs": [
    {
     "name": "stderr",
     "output_type": "stream",
     "text": [
      "fmin = 1; fmax = 15.3525\n",
      "nfreq = 44; from imin = 2 to imax = 45\n",
      "nshots = 3; nrec = 3\n",
      "Propagating shots ... \n",
      "1.92863 s\n"
     ]
    }
   ],
   "source": [
    "wem = WEM.WEM(slow,data,wave,parObj)\n",
    "\n",
    "wem.forward(False,slow,data)\n"
   ]
  },
  {
   "cell_type": "code",
   "execution_count": 6,
   "metadata": {
    "scrolled": false
   },
   "outputs": [
    {
     "data": {
      "image/png": "[encoded data removed]",
      "text/plain": [
       "<Figure size 360x720 with 1 Axes>"
      ]
     },
     "metadata": {
      "needs_background": "light"
     },
     "output_type": "display_data"
    }
   ],
   "source": [
    "plt.figure(figsize=[5,10])\n",
    "pclip = .9\n",
    "which = 0\n",
    "a_max = pclip*np.amax(datNd[which,:,:])\n",
    "a_min = pclip*np.amin(datNd[which,:,:])\n",
    "plt.imshow(np.clip(datNd[which,:,:].T,a_max=a_max, a_min=a_min),cmap='rainbow',aspect=.2)\n",
    "plt.grid()\n",
    "plt.show()"
   ]
  },
  {
   "cell_type": "code",
   "execution_count": 7,
   "metadata": {},
   "outputs": [
    {
     "name": "stderr",
     "output_type": "stream",
     "text": [
      "fmin = 1; fmax = 15.3525\n",
      "nfreq = 44; from imin = 2 to imax = 45\n",
      "nshots = 3; nrec = 3\n"
     ]
    }
   ],
   "source": [
    "image = slow.clone()\n",
    "born = WEM.Born(slow,data,wave,parObj)"
   ]
  },
  {
   "cell_type": "code",
   "execution_count": null,
   "metadata": {},
   "outputs": [],
   "source": [
    "born.adjoint(False,image,data)"
   ]
  },
  {
   "cell_type": "code",
   "execution_count": null,
   "metadata": {
    "scrolled": false
   },
   "outputs": [],
   "source": [
    "imNd = image.getNdArray().real\n",
    "\n",
    "fig, ax = plt.subplots(1,2,figsize=[20,10])\n",
    "ax[0].imshow(image.getNdArray().real,cmap='rainbow')\n",
    "ax[1].plot(imNd[120, :])\n",
    "plt.show()"
   ]
  },
  {
   "cell_type": "markdown",
   "metadata": {},
   "source": [
    "# Wrong bg"
   ]
  },
  {
   "cell_type": "code",
   "execution_count": 10,
   "metadata": {},
   "outputs": [
    {
     "name": "stderr",
     "output_type": "stream",
     "text": [
      "Adjoint born ... \n",
      "11.6254 s\n"
     ]
    },
    {
     "data": {
      "image/png": "[encoded data removed]",
      "text/plain": [
       "<Figure size 432x288 with 1 Axes>"
      ]
     },
     "metadata": {
      "needs_background": "light"
     },
     "output_type": "display_data"
    }
   ],
   "source": [
    "bg = slow.clone()\n",
    "bg.getNdArray()[:] *= 0.95\n",
    "born.setBgSlow(bg)\n",
    "born.adjoint(False,image,data)\n",
    "plt.imshow(image.getNdArray().real,cmap='rainbow')\n",
    "plt.show()"
   ]
  },
  {
   "cell_type": "markdown",
   "metadata": {},
   "source": [
    "# Conformal map"
   ]
  },
  {
   "cell_type": "code",
   "execution_count": 25,
   "metadata": {},
   "outputs": [],
   "source": [
    "import json\n",
    "\n",
    "cx = n1/2 * d1\n",
    "cz = n2/2 * d2\n",
    "r = .75 * min(n2 * d2/2,n1*d1/2)\n",
    "\n",
    "ns = 1\n",
    "\n",
    "dic = {}\n",
    "dic['sx'] = [cx]\n",
    "dic['sz'] = [cz]\n",
    "\n",
    "nr = 101\n",
    "th = np.linspace(-np.pi, np.pi, nr)\n",
    "x = cx - r * np.cos(th)\n",
    "z = cz - r * np.sin(th)\n",
    "dic['rx'] = x.tolist()\n",
    "dic['rz'] = z.tolist()\n",
    "\n",
    "with open('irreg.json','w') as f:\n",
    "    json.dump(dic,f,indent=4)\n",
    "    \n",
    "par = {\n",
    "    \"coord\" : 'irreg.json',\n",
    "    \"ns\" : ns,\n",
    "    \"dsx\" : d1,\n",
    "    \"osx\" : 0,\n",
    "    \"dsz\" : 0,\n",
    "    \n",
    "    \"nr\" : nr,\n",
    "    \"drx\" : d1,\n",
    "    \"orx\" : 0,\n",
    "    \"drz\" : 0,\n",
    "    \"orz\" : 0,\n",
    "    \n",
    "    \"fmax\" : 15,\n",
    "    \"fmin\" : 1,   \n",
    "    \n",
    "    \"nref\" : 1,\n",
    "    \"tap\" : 0,\n",
    "    \"pad\" : 0,\n",
    "    \"ngs\" : 3,\n",
    "    \"ngr\" : 0,\n",
    "    \"prop\" : 'ssf',\n",
    "    \n",
    "    \"ntaylor\" : 1,\n",
    "    \"onepass\" : 1,\n",
    "    \"cmap\" : 1,\n",
    "    \"eps\" : 0,\n",
    "    \"eps_log\" : 0.001\n",
    "}\n",
    "\n",
    "data = SepVector.getSepVector(Hypercube.hypercube(ns=[nt,par[\"nr\"],par[\"ns\"]],ds=[dt,par[\"drx\"],par[\"dsx\"]],os=[ot,par[\"orx\"],par[\"osx\"]]))\n",
    "datNd = data.getNdArray()\n",
    "slowNd[:] = 1/3000 ** 2\n",
    "parObj = genericIO.pythonParams(par).getCpp()"
   ]
  },
  {
   "cell_type": "code",
   "execution_count": 26,
   "metadata": {},
   "outputs": [
    {
     "data": {
      "image/png": "[encoded data removed]",
      "text/plain": [
       "<Figure size 432x288 with 1 Axes>"
      ]
     },
     "metadata": {
      "needs_background": "light"
     },
     "output_type": "display_data"
    }
   ],
   "source": [
    "plt.scatter(dic['rx'],dic['rz'])\n",
    "plt.scatter(dic['sx'],dic['sz'])\n",
    "plt.xlim([o1,(n1-1)*d1])\n",
    "plt.ylim([o2,(n2-1)*d2])\n",
    "plt.show()"
   ]
  },
  {
   "cell_type": "code",
   "execution_count": 27,
   "metadata": {},
   "outputs": [
    {
     "name": "stderr",
     "output_type": "stream",
     "text": [
      "fmin = 1; fmax = 15.3525\n",
      "nfreq = 44; from imin = 2 to imax = 45\n",
      "nshots = 1; nrec = 101\n"
     ]
    }
   ],
   "source": [
    "wem = WEM.WEM(slow,data,wave,parObj)\n"
   ]
  },
  {
   "cell_type": "code",
   "execution_count": 28,
   "metadata": {},
   "outputs": [
    {
     "name": "stderr",
     "output_type": "stream",
     "text": [
      "Propagating shots ... \n",
      "0.324757 s\n"
     ]
    }
   ],
   "source": [
    "wem.forward(False,slow,data)"
   ]
  },
  {
   "cell_type": "code",
   "execution_count": 29,
   "metadata": {
    "scrolled": false
   },
   "outputs": [
    {
     "data": {
      "image/png": "[encoded data removed]",
      "text/plain": [
       "<Figure size 1440x720 with 1 Axes>"
      ]
     },
     "metadata": {
      "needs_background": "light"
     },
     "output_type": "display_data"
    }
   ],
   "source": [
    "plt.figure(figsize=[20,10])\n",
    "pclip = .9\n",
    "which = 0\n",
    "a_max = pclip*np.amax(datNd[which,:,:])\n",
    "a_min = pclip*np.amin(datNd[which,:,:])\n",
    "plt.imshow(np.clip(datNd[which,:,:].T,a_max=a_max, a_min=a_min),cmap='gray',aspect=.05)\n",
    "plt.grid()\n",
    "plt.show()\n"
   ]
  },
  {
   "cell_type": "code",
   "execution_count": 30,
   "metadata": {},
   "outputs": [],
   "source": [
    "import json\n",
    "\n",
    "ns = 21\n",
    "\n",
    "cx = n1/2 * d1\n",
    "cz = n2/2 * d2\n",
    "r = .75 * min(n2 * d2/2,n1*d1/2)\n",
    "th = np.linspace(0,np.pi,ns)\n",
    "x = cx - r * np.cos(th)\n",
    "z = cz - r * np.sin(th)\n",
    "\n",
    "dic = {}\n",
    "dic['rx'] = x.tolist()\n",
    "dic['rz'] = z.tolist()\n",
    "dic['sx'] = x.tolist()\n",
    "dic['sz'] = z.tolist()\n",
    "with open('irreg.json','w') as f:\n",
    "    json.dump(dic,f,indent=4)\n",
    "    \n",
    "par = {\n",
    "    \"coord\" : 'irreg.json',\n",
    "    \"ns\" : ns,\n",
    "    \"dsx\" : d1,\n",
    "    \"osx\" : 0,\n",
    "    \"dsz\" : 0,\n",
    "    \n",
    "    \"nr\" : ns,\n",
    "    \"drx\" : d1,\n",
    "    \"orx\" : 0,\n",
    "    \"drz\" : 0,\n",
    "    \"orz\" : 0,\n",
    "    \n",
    "    \"fmax\" : 15,\n",
    "    \"fmin\" : 1,   \n",
    "    \n",
    "    \"nref\" : 3,\n",
    "    \"tap\" : 0,\n",
    "    \"pad\" : 0,\n",
    "    \"ngs\" : 1,\n",
    "    \"prop\" : 'ssf',\n",
    "    \n",
    "    \"ntaylor\" : 1,\n",
    "    \"onepass\" : 1,\n",
    "    \"cmap\" : 1,\n",
    "    \"eps\" : 0,\n",
    "    \"eps_log\" : 0.01\n",
    "}\n",
    "\n",
    "data = SepVector.getSepVector(Hypercube.hypercube(ns=[nt,par[\"nr\"],par[\"ns\"]],ds=[dt,par[\"drx\"],par[\"dsx\"]],os=[ot,par[\"orx\"],par[\"osx\"]]))\n",
    "datNd = data.getNdArray()\n",
    "slowNd[:] = 1/2000 ** 2\n",
    "parObj = genericIO.pythonParams(par).getCpp()"
   ]
  },
  {
   "cell_type": "code",
   "execution_count": 31,
   "metadata": {},
   "outputs": [
    {
     "name": "stderr",
     "output_type": "stream",
     "text": [
      "fmin = 1; fmax = 15.3525\n",
      "nfreq = 44; from imin = 2 to imax = 45\n",
      "nshots = 21; nrec = 21\n"
     ]
    }
   ],
   "source": [
    "wem = WEM.WEM(slow,data,wave,parObj)\n"
   ]
  },
  {
   "cell_type": "code",
   "execution_count": 32,
   "metadata": {},
   "outputs": [
    {
     "name": "stderr",
     "output_type": "stream",
     "text": [
      "Propagating shots ... \n",
      "7.72353 s\n"
     ]
    }
   ],
   "source": [
    "wem.forward(False,slow,data)"
   ]
  },
  {
   "cell_type": "code",
   "execution_count": 37,
   "metadata": {
    "scrolled": false
   },
   "outputs": [
    {
     "data": {
      "image/png": "[encoded data removed]",
      "text/plain": [
       "<Figure size 1440x720 with 1 Axes>"
      ]
     },
     "metadata": {
      "needs_background": "light"
     },
     "output_type": "display_data"
    }
   ],
   "source": [
    "plt.figure(figsize=[20,10])\n",
    "pclip = .9\n",
    "which = 10\n",
    "a_max = pclip*np.amax(datNd[which,:,:])\n",
    "a_min = pclip*np.amin(datNd[which,:,:])\n",
    "plt.imshow(np.clip(datNd[which,:,:].T,a_max=a_max, a_min=a_min),cmap='gray',aspect=.05)\n",
    "plt.grid()\n",
    "plt.show()\n"
   ]
  },
  {
   "cell_type": "code",
   "execution_count": 20,
   "metadata": {},
   "outputs": [
    {
     "name": "stderr",
     "output_type": "stream",
     "text": [
      "Propagating shots ... \n",
      "6.66496 s\n",
      "fmin = 1; fmax = 15.3525\n",
      "nfreq = 44; from imin = 2 to imax = 45\n",
      "nshots = 21; nrec = 21\n",
      "Adjoint born ... \n",
      "45.0374 s\n"
     ]
    }
   ],
   "source": [
    "slow.scale(1.1)\n",
    "res = data.clone()\n",
    "wem.forward(False,slow,res)\n",
    "res = res.scaleAdd(data,1,-1)\n",
    "image = slow.clone()\n",
    "born = WEM.Born(slow,data,wave,parObj)\n",
    "born.adjoint(False,image,res)"
   ]
  },
  {
   "cell_type": "code",
   "execution_count": null,
   "metadata": {
    "collapsed": true
   },
   "outputs": [],
   "source": [
    "plt.imshow(image.getNdArray().real,vmin=-1,vmax=1,aspect=.3)\n",
    "plt.xlim([150,250])\n",
    "# plt.ylim([0,50])\n",
    "plt.show()"
   ]
  },
  {
   "cell_type": "code",
   "execution_count": null,
   "metadata": {
    "collapsed": true
   },
   "outputs": [],
   "source": [
    "plt.plot(image.getNdArray().real)\n",
    "# plt.xlim([150,250])\n",
    "# plt.ylim([0,50])\n",
    "plt.show()"
   ]
  },
  {
   "cell_type": "code",
   "execution_count": null,
   "metadata": {
    "collapsed": true
   },
   "outputs": [],
   "source": [
    "slowNd[int(n2/2):3*int(n2/4),int(n1/2):3*int(n1/4)] = 1/1000\n",
    "plt.imshow(slowNd.real,aspect=.3)\n",
    "# plt.ylim([0,50])\n",
    "plt.show()"
   ]
  },
  {
   "cell_type": "code",
   "execution_count": null,
   "metadata": {
    "collapsed": true
   },
   "outputs": [],
   "source": [
    "bg = slow.clone()\n",
    "bgNd = bg.getNdArray()\n",
    "bgNd[:] = 1/2000"
   ]
  },
  {
   "cell_type": "code",
   "execution_count": null,
   "metadata": {
    "collapsed": true
   },
   "outputs": [],
   "source": [
    "wem.forward(False,slow,data)"
   ]
  },
  {
   "cell_type": "code",
   "execution_count": null,
   "metadata": {
    "collapsed": true
   },
   "outputs": [],
   "source": [
    "res = data.clone()\n",
    "wem.forward(False,bg,res)\n",
    "res = res.scaleAdd(data,1,-1)"
   ]
  },
  {
   "cell_type": "code",
   "execution_count": null,
   "metadata": {
    "collapsed": true
   },
   "outputs": [],
   "source": [
    "born = WEM.Born(bg,data,wave,parObj)\n",
    "born.adjoint(False,image,res)"
   ]
  },
  {
   "cell_type": "code",
   "execution_count": null,
   "metadata": {
    "collapsed": true
   },
   "outputs": [],
   "source": [
    "plt.imshow(image.getNdArray().real,vmin=-3e-3,vmax=3e-3,aspect=.3)\n",
    "plt.xlim([150,250])\n",
    "# plt.ylim([0,50])\n",
    "plt.show()"
   ]
  },
  {
   "cell_type": "code",
   "execution_count": null,
   "metadata": {
    "collapsed": true
   },
   "outputs": [],
   "source": [
    "np.amax(image.getNdArray().real)"
   ]
  },
  {
   "cell_type": "code",
   "execution_count": null,
   "metadata": {
    "collapsed": true
   },
   "outputs": [],
   "source": []
  }
 ],
 "metadata": {
  "kernelspec": {
   "display_name": "Python 3 (ipykernel)",
   "language": "python",
   "name": "python3"
  },
  "language_info": {
   "codemirror_mode": {
    "name": "ipython",
    "version": 3
   },
   "file_extension": ".py",
   "mimetype": "text/x-python",
   "name": "python",
   "nbconvert_exporter": "python",
   "pygments_lexer": "ipython3",
   "version": "3.9.2"
  }
 },
 "nbformat": 4,
 "nbformat_minor": 2
}
