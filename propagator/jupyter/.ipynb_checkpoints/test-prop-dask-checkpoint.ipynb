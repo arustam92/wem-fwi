{
 "cells": [
  {
   "cell_type": "markdown",
   "metadata": {},
   "source": [
    "# DATA"
   ]
  },
  {
   "cell_type": "code",
   "execution_count": 1,
   "metadata": {},
   "outputs": [
    {
     "name": "stdout",
     "output_type": "stream",
     "text": [
      "WARNING! DATAPATH not found. The folder /tmp will be used to write binary files\n"
     ]
    },
    {
     "name": "stderr",
     "output_type": "stream",
     "text": [
      "/usr/local/lib/python3.9/dist-packages/numpy/core/getlimits.py:500: UserWarning: The value of the smallest subnormal for <class 'numpy.float64'> type is zero.\n",
      "  setattr(self, word, getattr(machar, word).flat[0])\n",
      "/usr/local/lib/python3.9/dist-packages/numpy/core/getlimits.py:89: UserWarning: The value of the smallest subnormal for <class 'numpy.float64'> type is zero.\n",
      "  return self._float_to_str(self.smallest_subnormal)\n",
      "/usr/local/lib/python3.9/dist-packages/numpy/core/getlimits.py:500: UserWarning: The value of the smallest subnormal for <class 'numpy.float32'> type is zero.\n",
      "  setattr(self, word, getattr(machar, word).flat[0])\n",
      "/usr/local/lib/python3.9/dist-packages/numpy/core/getlimits.py:89: UserWarning: The value of the smallest subnormal for <class 'numpy.float32'> type is zero.\n",
      "  return self._float_to_str(self.smallest_subnormal)\n"
     ]
    }
   ],
   "source": [
    "%load_ext autoreload\n",
    "%autoreload 2\n",
    "import genericIO\n",
    "import SepVector\n",
    "import Hypercube\n",
    "import numpy as np\n",
    "import Operator\n",
    "import WEM\n",
    "\n",
    "import __pyDaskVector as DaskVector\n",
    "import __pyDaskOperator as DaskOperator\n",
    "from dask_util import DaskClient\n",
    "\n",
    "import time"
   ]
  },
  {
   "cell_type": "code",
   "execution_count": 2,
   "metadata": {},
   "outputs": [],
   "source": [
    "\n",
    "n1 = 200\n",
    "n2 = 200 \n",
    "\n",
    "d1 = 20\n",
    "d2 = 10\n",
    "\n",
    "o1 = 0\n",
    "o2 = 0\n",
    "\n",
    "slow = SepVector.getSepVector(Hypercube.hypercube(ns=[n1,n2],ds=[d1,d2],os=[o1,o2]),storage='dataComplex')\n",
    "\n",
    "slowNd = slow.getNdArray()\n",
    "slowNd[:] = 1/2000*1/2000\n",
    "slowNd[int(1.5*n2/3)::,:] = 1/3000*1/3000"
   ]
  },
  {
   "cell_type": "code",
   "execution_count": 3,
   "metadata": {},
   "outputs": [],
   "source": [
    "import pickle \n",
    "\n",
    "d = pickle.dumps(slow)"
   ]
  },
  {
   "cell_type": "code",
   "execution_count": 4,
   "metadata": {},
   "outputs": [],
   "source": [
    "ss = pickle.loads(d)"
   ]
  },
  {
   "cell_type": "code",
   "execution_count": 5,
   "metadata": {},
   "outputs": [
    {
     "data": {
      "text/plain": [
       "{'kw': {'storage': 'dataComplex',\n",
       "  'fromCpp': <pySepVector.complex2DReg at 0x7fe8edd964b0>},\n",
       " 'cppMode': <pySepVector.complex2DReg at 0x7fe8edd964b0>,\n",
       " 'arr': array([[2.5000000e-07+0.j, 2.5000000e-07+0.j, 2.5000000e-07+0.j, ...,\n",
       "         2.5000000e-07+0.j, 2.5000000e-07+0.j, 2.5000000e-07+0.j],\n",
       "        [2.5000000e-07+0.j, 2.5000000e-07+0.j, 2.5000000e-07+0.j, ...,\n",
       "         2.5000000e-07+0.j, 2.5000000e-07+0.j, 2.5000000e-07+0.j],\n",
       "        [2.5000000e-07+0.j, 2.5000000e-07+0.j, 2.5000000e-07+0.j, ...,\n",
       "         2.5000000e-07+0.j, 2.5000000e-07+0.j, 2.5000000e-07+0.j],\n",
       "        ...,\n",
       "        [1.1111111e-07+0.j, 1.1111111e-07+0.j, 1.1111111e-07+0.j, ...,\n",
       "         1.1111111e-07+0.j, 1.1111111e-07+0.j, 1.1111111e-07+0.j],\n",
       "        [1.1111111e-07+0.j, 1.1111111e-07+0.j, 1.1111111e-07+0.j, ...,\n",
       "         1.1111111e-07+0.j, 1.1111111e-07+0.j, 1.1111111e-07+0.j],\n",
       "        [1.1111111e-07+0.j, 1.1111111e-07+0.j, 1.1111111e-07+0.j, ...,\n",
       "         1.1111111e-07+0.j, 1.1111111e-07+0.j, 1.1111111e-07+0.j]],\n",
       "       dtype=complex64),\n",
       " 'ax_info': None,\n",
       " 'ndims': 2,\n",
       " 'size': 40000}"
      ]
     },
     "execution_count": 5,
     "metadata": {},
     "output_type": "execute_result"
    }
   ],
   "source": [
    "ss.__dict__"
   ]
  },
  {
   "cell_type": "code",
   "execution_count": 6,
   "metadata": {},
   "outputs": [
    {
     "data": {
      "text/plain": [
       "{'kw': {'fromCpp': <pySepVector.complex2DReg at 0x7fe8edd915f0>,\n",
       "  'storage': 'dataComplex'},\n",
       " 'cppMode': <pySepVector.complex2DReg at 0x7fe8edd915f0>,\n",
       " 'arr': array([[2.5000000e-07+0.j, 2.5000000e-07+0.j, 2.5000000e-07+0.j, ...,\n",
       "         2.5000000e-07+0.j, 2.5000000e-07+0.j, 2.5000000e-07+0.j],\n",
       "        [2.5000000e-07+0.j, 2.5000000e-07+0.j, 2.5000000e-07+0.j, ...,\n",
       "         2.5000000e-07+0.j, 2.5000000e-07+0.j, 2.5000000e-07+0.j],\n",
       "        [2.5000000e-07+0.j, 2.5000000e-07+0.j, 2.5000000e-07+0.j, ...,\n",
       "         2.5000000e-07+0.j, 2.5000000e-07+0.j, 2.5000000e-07+0.j],\n",
       "        ...,\n",
       "        [1.1111111e-07+0.j, 1.1111111e-07+0.j, 1.1111111e-07+0.j, ...,\n",
       "         1.1111111e-07+0.j, 1.1111111e-07+0.j, 1.1111111e-07+0.j],\n",
       "        [1.1111111e-07+0.j, 1.1111111e-07+0.j, 1.1111111e-07+0.j, ...,\n",
       "         1.1111111e-07+0.j, 1.1111111e-07+0.j, 1.1111111e-07+0.j],\n",
       "        [1.1111111e-07+0.j, 1.1111111e-07+0.j, 1.1111111e-07+0.j, ...,\n",
       "         1.1111111e-07+0.j, 1.1111111e-07+0.j, 1.1111111e-07+0.j]],\n",
       "       dtype=complex64),\n",
       " 'ax_info': None,\n",
       " 'ndims': 2,\n",
       " 'size': 40000}"
      ]
     },
     "execution_count": 6,
     "metadata": {},
     "output_type": "execute_result"
    }
   ],
   "source": [
    "slow.__dict__"
   ]
  },
  {
   "cell_type": "code",
   "execution_count": 7,
   "metadata": {},
   "outputs": [
    {
     "name": "stderr",
     "output_type": "stream",
     "text": [
      "2023-03-17 20:06:40,993 - distributed.diskutils - INFO - Found stale lock file and directory '/tmp/dask-worker-space/worker-5qc4mq1g', purging\n"
     ]
    }
   ],
   "source": [
    "param = {\n",
    "    \"n_workers\" : 4,\n",
    "    \"processes\" : True\n",
    "}\n",
    "client = DaskClient(local_params=param)"
   ]
  },
  {
   "cell_type": "code",
   "execution_count": 8,
   "metadata": {},
   "outputs": [
    {
     "data": {
      "text/html": [
       "<div>\n",
       "    <div style=\"width: 24px; height: 24px; background-color: #e1e1e1; border: 3px solid #9D9D9D; border-radius: 5px; position: absolute;\"> </div>\n",
       "    <div style=\"margin-left: 48px;\">\n",
       "        <h3 style=\"margin-bottom: 0px;\">Client</h3>\n",
       "        <p style=\"color: #9D9D9D; margin-bottom: 0px;\">Client-3bcd1d14-c4ff-11ed-827e-0242ac110002</p>\n",
       "        <table style=\"width: 100%; text-align: left;\">\n",
       "\n",
       "        <tr>\n",
       "        \n",
       "            <td style=\"text-align: left;\"><strong>Connection method:</strong> Cluster object</td>\n",
       "            <td style=\"text-align: left;\"><strong>Cluster type:</strong> distributed.LocalCluster</td>\n",
       "        \n",
       "        </tr>\n",
       "\n",
       "        \n",
       "            <tr>\n",
       "                <td style=\"text-align: left;\">\n",
       "                    <strong>Dashboard: </strong> <a href=\"http://127.0.0.1:8787/status\" target=\"_blank\">http://127.0.0.1:8787/status</a>\n",
       "                </td>\n",
       "                <td style=\"text-align: left;\"></td>\n",
       "            </tr>\n",
       "        \n",
       "\n",
       "        </table>\n",
       "\n",
       "        \n",
       "\n",
       "        \n",
       "            <details>\n",
       "            <summary style=\"margin-bottom: 20px;\"><h3 style=\"display: inline;\">Cluster Info</h3></summary>\n",
       "            <div class=\"jp-RenderedHTMLCommon jp-RenderedHTML jp-mod-trusted jp-OutputArea-output\">\n",
       "    <div style=\"width: 24px; height: 24px; background-color: #e1e1e1; border: 3px solid #9D9D9D; border-radius: 5px; position: absolute;\">\n",
       "    </div>\n",
       "    <div style=\"margin-left: 48px;\">\n",
       "        <h3 style=\"margin-bottom: 0px; margin-top: 0px;\">LocalCluster</h3>\n",
       "        <p style=\"color: #9D9D9D; margin-bottom: 0px;\">85271a94</p>\n",
       "        <table style=\"width: 100%; text-align: left;\">\n",
       "            <tr>\n",
       "                <td style=\"text-align: left;\">\n",
       "                    <strong>Dashboard:</strong> <a href=\"http://127.0.0.1:8787/status\" target=\"_blank\">http://127.0.0.1:8787/status</a>\n",
       "                </td>\n",
       "                <td style=\"text-align: left;\">\n",
       "                    <strong>Workers:</strong> 4\n",
       "                </td>\n",
       "            </tr>\n",
       "            <tr>\n",
       "                <td style=\"text-align: left;\">\n",
       "                    <strong>Total threads:</strong> 8\n",
       "                </td>\n",
       "                <td style=\"text-align: left;\">\n",
       "                    <strong>Total memory:</strong> 5.80 GiB\n",
       "                </td>\n",
       "            </tr>\n",
       "            \n",
       "            <tr>\n",
       "    <td style=\"text-align: left;\"><strong>Status:</strong> running</td>\n",
       "    <td style=\"text-align: left;\"><strong>Using processes:</strong> True</td>\n",
       "</tr>\n",
       "\n",
       "            \n",
       "        </table>\n",
       "\n",
       "        <details>\n",
       "            <summary style=\"margin-bottom: 20px;\">\n",
       "                <h3 style=\"display: inline;\">Scheduler Info</h3>\n",
       "            </summary>\n",
       "\n",
       "            <div style=\"\">\n",
       "    <div>\n",
       "        <div style=\"width: 24px; height: 24px; background-color: #FFF7E5; border: 3px solid #FF6132; border-radius: 5px; position: absolute;\"> </div>\n",
       "        <div style=\"margin-left: 48px;\">\n",
       "            <h3 style=\"margin-bottom: 0px;\">Scheduler</h3>\n",
       "            <p style=\"color: #9D9D9D; margin-bottom: 0px;\">Scheduler-6d00fa2f-fa79-4072-ab76-a2c42a4d01e0</p>\n",
       "            <table style=\"width: 100%; text-align: left;\">\n",
       "                <tr>\n",
       "                    <td style=\"text-align: left;\">\n",
       "                        <strong>Comm:</strong> tcp://127.0.0.1:34331\n",
       "                    </td>\n",
       "                    <td style=\"text-align: left;\">\n",
       "                        <strong>Workers:</strong> 4\n",
       "                    </td>\n",
       "                </tr>\n",
       "                <tr>\n",
       "                    <td style=\"text-align: left;\">\n",
       "                        <strong>Dashboard:</strong> <a href=\"http://127.0.0.1:8787/status\" target=\"_blank\">http://127.0.0.1:8787/status</a>\n",
       "                    </td>\n",
       "                    <td style=\"text-align: left;\">\n",
       "                        <strong>Total threads:</strong> 8\n",
       "                    </td>\n",
       "                </tr>\n",
       "                <tr>\n",
       "                    <td style=\"text-align: left;\">\n",
       "                        <strong>Started:</strong> Just now\n",
       "                    </td>\n",
       "                    <td style=\"text-align: left;\">\n",
       "                        <strong>Total memory:</strong> 5.80 GiB\n",
       "                    </td>\n",
       "                </tr>\n",
       "            </table>\n",
       "        </div>\n",
       "    </div>\n",
       "\n",
       "    <details style=\"margin-left: 48px;\">\n",
       "        <summary style=\"margin-bottom: 20px;\">\n",
       "            <h3 style=\"display: inline;\">Workers</h3>\n",
       "        </summary>\n",
       "\n",
       "        \n",
       "        <div style=\"margin-bottom: 20px;\">\n",
       "            <div style=\"width: 24px; height: 24px; background-color: #DBF5FF; border: 3px solid #4CC9FF; border-radius: 5px; position: absolute;\"> </div>\n",
       "            <div style=\"margin-left: 48px;\">\n",
       "            <details>\n",
       "                <summary>\n",
       "                    <h4 style=\"margin-bottom: 0px; display: inline;\">Worker: 0</h4>\n",
       "                </summary>\n",
       "                <table style=\"width: 100%; text-align: left;\">\n",
       "                    <tr>\n",
       "                        <td style=\"text-align: left;\">\n",
       "                            <strong>Comm: </strong> tcp://127.0.0.1:43445\n",
       "                        </td>\n",
       "                        <td style=\"text-align: left;\">\n",
       "                            <strong>Total threads: </strong> 2\n",
       "                        </td>\n",
       "                    </tr>\n",
       "                    <tr>\n",
       "                        <td style=\"text-align: left;\">\n",
       "                            <strong>Dashboard: </strong> <a href=\"http://127.0.0.1:35625/status\" target=\"_blank\">http://127.0.0.1:35625/status</a>\n",
       "                        </td>\n",
       "                        <td style=\"text-align: left;\">\n",
       "                            <strong>Memory: </strong> 1.45 GiB\n",
       "                        </td>\n",
       "                    </tr>\n",
       "                    <tr>\n",
       "                        <td style=\"text-align: left;\">\n",
       "                            <strong>Nanny: </strong> tcp://127.0.0.1:34619\n",
       "                        </td>\n",
       "                        <td style=\"text-align: left;\"></td>\n",
       "                    </tr>\n",
       "                    <tr>\n",
       "                        <td colspan=\"2\" style=\"text-align: left;\">\n",
       "                            <strong>Local directory: </strong> /tmp/dask-worker-space/worker-p0ceqwky\n",
       "                        </td>\n",
       "                    </tr>\n",
       "\n",
       "                    \n",
       "\n",
       "                    \n",
       "\n",
       "                </table>\n",
       "            </details>\n",
       "            </div>\n",
       "        </div>\n",
       "        \n",
       "        <div style=\"margin-bottom: 20px;\">\n",
       "            <div style=\"width: 24px; height: 24px; background-color: #DBF5FF; border: 3px solid #4CC9FF; border-radius: 5px; position: absolute;\"> </div>\n",
       "            <div style=\"margin-left: 48px;\">\n",
       "            <details>\n",
       "                <summary>\n",
       "                    <h4 style=\"margin-bottom: 0px; display: inline;\">Worker: 1</h4>\n",
       "                </summary>\n",
       "                <table style=\"width: 100%; text-align: left;\">\n",
       "                    <tr>\n",
       "                        <td style=\"text-align: left;\">\n",
       "                            <strong>Comm: </strong> tcp://127.0.0.1:40827\n",
       "                        </td>\n",
       "                        <td style=\"text-align: left;\">\n",
       "                            <strong>Total threads: </strong> 2\n",
       "                        </td>\n",
       "                    </tr>\n",
       "                    <tr>\n",
       "                        <td style=\"text-align: left;\">\n",
       "                            <strong>Dashboard: </strong> <a href=\"http://127.0.0.1:40853/status\" target=\"_blank\">http://127.0.0.1:40853/status</a>\n",
       "                        </td>\n",
       "                        <td style=\"text-align: left;\">\n",
       "                            <strong>Memory: </strong> 1.45 GiB\n",
       "                        </td>\n",
       "                    </tr>\n",
       "                    <tr>\n",
       "                        <td style=\"text-align: left;\">\n",
       "                            <strong>Nanny: </strong> tcp://127.0.0.1:45865\n",
       "                        </td>\n",
       "                        <td style=\"text-align: left;\"></td>\n",
       "                    </tr>\n",
       "                    <tr>\n",
       "                        <td colspan=\"2\" style=\"text-align: left;\">\n",
       "                            <strong>Local directory: </strong> /tmp/dask-worker-space/worker-b70vd79d\n",
       "                        </td>\n",
       "                    </tr>\n",
       "\n",
       "                    \n",
       "\n",
       "                    \n",
       "\n",
       "                </table>\n",
       "            </details>\n",
       "            </div>\n",
       "        </div>\n",
       "        \n",
       "        <div style=\"margin-bottom: 20px;\">\n",
       "            <div style=\"width: 24px; height: 24px; background-color: #DBF5FF; border: 3px solid #4CC9FF; border-radius: 5px; position: absolute;\"> </div>\n",
       "            <div style=\"margin-left: 48px;\">\n",
       "            <details>\n",
       "                <summary>\n",
       "                    <h4 style=\"margin-bottom: 0px; display: inline;\">Worker: 2</h4>\n",
       "                </summary>\n",
       "                <table style=\"width: 100%; text-align: left;\">\n",
       "                    <tr>\n",
       "                        <td style=\"text-align: left;\">\n",
       "                            <strong>Comm: </strong> tcp://127.0.0.1:33789\n",
       "                        </td>\n",
       "                        <td style=\"text-align: left;\">\n",
       "                            <strong>Total threads: </strong> 2\n",
       "                        </td>\n",
       "                    </tr>\n",
       "                    <tr>\n",
       "                        <td style=\"text-align: left;\">\n",
       "                            <strong>Dashboard: </strong> <a href=\"http://127.0.0.1:35975/status\" target=\"_blank\">http://127.0.0.1:35975/status</a>\n",
       "                        </td>\n",
       "                        <td style=\"text-align: left;\">\n",
       "                            <strong>Memory: </strong> 1.45 GiB\n",
       "                        </td>\n",
       "                    </tr>\n",
       "                    <tr>\n",
       "                        <td style=\"text-align: left;\">\n",
       "                            <strong>Nanny: </strong> tcp://127.0.0.1:45945\n",
       "                        </td>\n",
       "                        <td style=\"text-align: left;\"></td>\n",
       "                    </tr>\n",
       "                    <tr>\n",
       "                        <td colspan=\"2\" style=\"text-align: left;\">\n",
       "                            <strong>Local directory: </strong> /tmp/dask-worker-space/worker-5evui628\n",
       "                        </td>\n",
       "                    </tr>\n",
       "\n",
       "                    \n",
       "\n",
       "                    \n",
       "\n",
       "                </table>\n",
       "            </details>\n",
       "            </div>\n",
       "        </div>\n",
       "        \n",
       "        <div style=\"margin-bottom: 20px;\">\n",
       "            <div style=\"width: 24px; height: 24px; background-color: #DBF5FF; border: 3px solid #4CC9FF; border-radius: 5px; position: absolute;\"> </div>\n",
       "            <div style=\"margin-left: 48px;\">\n",
       "            <details>\n",
       "                <summary>\n",
       "                    <h4 style=\"margin-bottom: 0px; display: inline;\">Worker: 3</h4>\n",
       "                </summary>\n",
       "                <table style=\"width: 100%; text-align: left;\">\n",
       "                    <tr>\n",
       "                        <td style=\"text-align: left;\">\n",
       "                            <strong>Comm: </strong> tcp://127.0.0.1:39893\n",
       "                        </td>\n",
       "                        <td style=\"text-align: left;\">\n",
       "                            <strong>Total threads: </strong> 2\n",
       "                        </td>\n",
       "                    </tr>\n",
       "                    <tr>\n",
       "                        <td style=\"text-align: left;\">\n",
       "                            <strong>Dashboard: </strong> <a href=\"http://127.0.0.1:42419/status\" target=\"_blank\">http://127.0.0.1:42419/status</a>\n",
       "                        </td>\n",
       "                        <td style=\"text-align: left;\">\n",
       "                            <strong>Memory: </strong> 1.45 GiB\n",
       "                        </td>\n",
       "                    </tr>\n",
       "                    <tr>\n",
       "                        <td style=\"text-align: left;\">\n",
       "                            <strong>Nanny: </strong> tcp://127.0.0.1:38929\n",
       "                        </td>\n",
       "                        <td style=\"text-align: left;\"></td>\n",
       "                    </tr>\n",
       "                    <tr>\n",
       "                        <td colspan=\"2\" style=\"text-align: left;\">\n",
       "                            <strong>Local directory: </strong> /tmp/dask-worker-space/worker-k50xgkli\n",
       "                        </td>\n",
       "                    </tr>\n",
       "\n",
       "                    \n",
       "\n",
       "                    \n",
       "\n",
       "                </table>\n",
       "            </details>\n",
       "            </div>\n",
       "        </div>\n",
       "        \n",
       "\n",
       "    </details>\n",
       "</div>\n",
       "\n",
       "        </details>\n",
       "    </div>\n",
       "</div>\n",
       "            </details>\n",
       "        \n",
       "\n",
       "    </div>\n",
       "</div>"
      ],
      "text/plain": [
       "<Client: 'tcp://127.0.0.1:34331' processes=4 threads=8, memory=5.80 GiB>"
      ]
     },
     "execution_count": 8,
     "metadata": {},
     "output_type": "execute_result"
    }
   ],
   "source": [
    "client.getClient()"
   ]
  },
  {
   "cell_type": "code",
   "execution_count": 9,
   "metadata": {},
   "outputs": [],
   "source": [
    "slowDask = DaskVector.DaskVector(client, from_vector=slow, chunks=(1,1))"
   ]
  },
  {
   "cell_type": "code",
   "execution_count": 10,
   "metadata": {},
   "outputs": [
    {
     "data": {
      "text/plain": [
       "[<Future: finished, type: SepVector.complexVector, key: window-ecd7e8b4ffb5cc013376954779bbb509>]"
      ]
     },
     "execution_count": 10,
     "metadata": {},
     "output_type": "execute_result"
    }
   ],
   "source": [
    "slowDask.get_futures()"
   ]
  },
  {
   "cell_type": "code",
   "execution_count": 11,
   "metadata": {},
   "outputs": [
    {
     "name": "stdout",
     "output_type": "stream",
     "text": [
      "(750,)\n"
     ]
    }
   ],
   "source": [
    "import json\n",
    "\n",
    "ns = 8\n",
    "par = {\n",
    "    \"ns\" : ns,\n",
    "    \"dsx\" : 100,\n",
    "    \"osx\" : 0,\n",
    "    \"dsz\" : 0,\n",
    "    \"osz\" : 500,\n",
    "    \n",
    "    \"nr\" : 201,\n",
    "    \"drx\" : 20,\n",
    "    \"orx\" : 0,\n",
    "    \"drz\" : 0,\n",
    "    \"orz\" :  1000,\n",
    "    \n",
    "    \"fmin\" : 1, \n",
    "    \"fmax\" : 2,\n",
    "\n",
    "    \"nfreq\" : 10,\n",
    "    \n",
    "    \"nref\" : 3,\n",
    "    \"tap\" : 0,\n",
    "    \"pad\" : 0,\n",
    "    \"ngs\" : 0,\n",
    "    \"ngr\" : 0,\n",
    "    \"prop\" : 'ssf',\n",
    "    \"eps\" : 0.01,\n",
    "    \n",
    "    \"ntaylor\" : 1,\n",
    "    \"onepass\" : 1,\n",
    "    \"cmap\" : 0,\n",
    "    \n",
    "}\n",
    "\n",
    "\n",
    "ot = 0\n",
    "tmax = 3\n",
    "dt = 0.004\n",
    "nt = int((tmax-ot) / dt)\n",
    "wave = SepVector.getSepVector(Hypercube.hypercube(ns=[nt],ds=[dt],os=[ot]))\n",
    "waveNd = wave.getNdArray()\n",
    "t = np.linspace(ot,tmax,nt) - .5\n",
    "f0 = 5\n",
    "waveNd[:] = (1-2*(np.pi*f0*t)**2)* np.exp(-(np.pi*f0*t)**2)\n",
    "print(waveNd.shape)\n",
    "# waveNd = np.roll(waveNd,-int(0.5/dt))\n",
    "\n",
    "data = SepVector.getSepVector(Hypercube.hypercube(ns=[nt,par[\"nr\"],par[\"ns\"]],ds=[dt,par[\"drx\"],par[\"dsx\"]],os=[ot,par[\"orx\"],par[\"osx\"]]))\n",
    "datNd = data.getNdArray()\n",
    "\n",
    "pythonPar = genericIO.pythonParams(par)"
   ]
  },
  {
   "cell_type": "code",
   "execution_count": 12,
   "metadata": {},
   "outputs": [],
   "source": [
    "from functools import reduce\n",
    "\n",
    "v = reduce(lambda v1, v2: v1 + v2, [slow, slow])"
   ]
  },
  {
   "cell_type": "code",
   "execution_count": 13,
   "metadata": {},
   "outputs": [
    {
     "data": {
      "text/plain": [
       "(20, 201, 750)"
      ]
     },
     "execution_count": 13,
     "metadata": {},
     "output_type": "execute_result"
    }
   ],
   "source": [
    "data.shape"
   ]
  },
  {
   "cell_type": "code",
   "execution_count": 14,
   "metadata": {},
   "outputs": [],
   "source": [
    "dataDask = DaskVector.DaskVector(client, from_vector=data, chunks=(1,1,4))"
   ]
  },
  {
   "cell_type": "code",
   "execution_count": 15,
   "metadata": {},
   "outputs": [
    {
     "data": {
      "text/plain": [
       "[<Future: finished, type: SepVector.floatVector, key: window-597dba5b2edbd4f532bc103bd558e680>,\n",
       " <Future: finished, type: SepVector.floatVector, key: window-b6e7c17fc6caad963fe81bb4024deef9>,\n",
       " <Future: finished, type: SepVector.floatVector, key: window-624d2d50d851c95ec0ad611892008a3f>,\n",
       " <Future: finished, type: SepVector.floatVector, key: window-76976b5f5e9cc4792e374f4fd6a534fc>]"
      ]
     },
     "execution_count": 15,
     "metadata": {},
     "output_type": "execute_result"
    }
   ],
   "source": [
    "dataDask.fut"
   ]
  },
  {
   "cell_type": "code",
   "execution_count": 16,
   "metadata": {
    "scrolled": false
   },
   "outputs": [
    {
     "name": "stderr",
     "output_type": "stream",
     "text": [
      "fmin = 1; fmax = 15.3525\n",
      "nfreq = 44; from imin = 2 to imax = 45\n",
      "nshots = 5; nrec = 201\n",
      "fmin = 1; fmax = 15.3525\n",
      "nfreq = 44; from imin = 2 to imax = 45\n",
      "nshots = 5; nrec = 201\n",
      "fmin = 1; fmax = 15.3525\n",
      "nfreq = 44; from imin = 2 to imax = 45\n",
      "nshots = 5; nrec = 201\n",
      "fmin = 1; fmax = 15.3525\n",
      "nfreq = 44; from imin = 2 to imax = 45\n",
      "nshots = 5; nrec = 201\n"
     ]
    }
   ],
   "source": [
    "dask_wem = DaskOperator.DaskOperator(client, WEM.WEM, slowDask, dataDask, wave, pythonPar)"
   ]
  },
  {
   "cell_type": "code",
   "execution_count": 17,
   "metadata": {},
   "outputs": [
    {
     "data": {
      "text/plain": [
       "[<Future: finished, type: WEM.WEM, key: from_subspace-65437105669ecad341af785670b369f7>,\n",
       " <Future: finished, type: WEM.WEM, key: from_subspace-ab95cbcf08a93025ab566ead198222d7>,\n",
       " <Future: finished, type: WEM.WEM, key: from_subspace-b2adbc27f11c677394a43a69a6d2edad>,\n",
       " <Future: finished, type: WEM.WEM, key: from_subspace-7085750d1bd2c49a71cf3f986104b2db>]"
      ]
     },
     "execution_count": 17,
     "metadata": {},
     "output_type": "execute_result"
    }
   ],
   "source": [
    "dask_wem.get_futures()"
   ]
  },
  {
   "cell_type": "code",
   "execution_count": 18,
   "metadata": {},
   "outputs": [
    {
     "name": "stderr",
     "output_type": "stream",
     "text": [
      "/usr/local/lib/python3.9/dist-packages/numpy/core/getlimits.py:500: UserWarning: The value of the smallest subnormal for <class 'numpy.float64'> type is zero.\n",
      "  setattr(self, word, getattr(machar, word).flat[0])\n",
      "/usr/local/lib/python3.9/dist-packages/numpy/core/getlimits.py:89: UserWarning: The value of the smallest subnormal for <class 'numpy.float64'> type is zero.\n",
      "  return self._float_to_str(self.smallest_subnormal)\n",
      "/usr/local/lib/python3.9/dist-packages/numpy/core/getlimits.py:500: UserWarning: The value of the smallest subnormal for <class 'numpy.float32'> type is zero.\n",
      "  setattr(self, word, getattr(machar, word).flat[0])\n",
      "/usr/local/lib/python3.9/dist-packages/numpy/core/getlimits.py:89: UserWarning: The value of the smallest subnormal for <class 'numpy.float32'> type is zero.\n",
      "  return self._float_to_str(self.smallest_subnormal)\n",
      "/usr/local/lib/python3.9/dist-packages/numpy/core/getlimits.py:500: UserWarning: The value of the smallest subnormal for <class 'numpy.float64'> type is zero.\n",
      "  setattr(self, word, getattr(machar, word).flat[0])\n",
      "/usr/local/lib/python3.9/dist-packages/numpy/core/getlimits.py:89: UserWarning: The value of the smallest subnormal for <class 'numpy.float64'> type is zero.\n",
      "  return self._float_to_str(self.smallest_subnormal)\n",
      "/usr/local/lib/python3.9/dist-packages/numpy/core/getlimits.py:500: UserWarning: The value of the smallest subnormal for <class 'numpy.float32'> type is zero.\n",
      "  setattr(self, word, getattr(machar, word).flat[0])\n",
      "/usr/local/lib/python3.9/dist-packages/numpy/core/getlimits.py:89: UserWarning: The value of the smallest subnormal for <class 'numpy.float32'> type is zero.\n",
      "  return self._float_to_str(self.smallest_subnormal)\n",
      "/usr/local/lib/python3.9/dist-packages/numpy/core/getlimits.py:500: UserWarning: The value of the smallest subnormal for <class 'numpy.float64'> type is zero.\n",
      "  setattr(self, word, getattr(machar, word).flat[0])\n",
      "/usr/local/lib/python3.9/dist-packages/numpy/core/getlimits.py:89: UserWarning: The value of the smallest subnormal for <class 'numpy.float64'> type is zero.\n",
      "  return self._float_to_str(self.smallest_subnormal)\n",
      "/usr/local/lib/python3.9/dist-packages/numpy/core/getlimits.py:500: UserWarning: The value of the smallest subnormal for <class 'numpy.float32'> type is zero.\n",
      "  setattr(self, word, getattr(machar, word).flat[0])\n",
      "/usr/local/lib/python3.9/dist-packages/numpy/core/getlimits.py:89: UserWarning: The value of the smallest subnormal for <class 'numpy.float32'> type is zero.\n",
      "  return self._float_to_str(self.smallest_subnormal)\n",
      "/usr/local/lib/python3.9/dist-packages/numpy/core/getlimits.py:500: UserWarning: The value of the smallest subnormal for <class 'numpy.float64'> type is zero.\n",
      "  setattr(self, word, getattr(machar, word).flat[0])\n",
      "/usr/local/lib/python3.9/dist-packages/numpy/core/getlimits.py:89: UserWarning: The value of the smallest subnormal for <class 'numpy.float64'> type is zero.\n",
      "  return self._float_to_str(self.smallest_subnormal)\n",
      "/usr/local/lib/python3.9/dist-packages/numpy/core/getlimits.py:500: UserWarning: The value of the smallest subnormal for <class 'numpy.float32'> type is zero.\n",
      "  setattr(self, word, getattr(machar, word).flat[0])\n",
      "/usr/local/lib/python3.9/dist-packages/numpy/core/getlimits.py:89: UserWarning: The value of the smallest subnormal for <class 'numpy.float32'> type is zero.\n",
      "  return self._float_to_str(self.smallest_subnormal)\n",
      "Propagating shots ... \n",
      "Propagating shots ... \n",
      "Propagating shots ... \n",
      "Propagating shots ... \n",
      "21.0359 s\n",
      "21.2006 s\n",
      "21.2808 s\n",
      "21.3171 s\n"
     ]
    }
   ],
   "source": [
    "dask_wem.forward(False, slowDask, dataDask)"
   ]
  },
  {
   "cell_type": "code",
   "execution_count": 19,
   "metadata": {},
   "outputs": [
    {
     "data": {
      "text/plain": [
       "<matplotlib.image.AxesImage at 0x7fe8af3b0c10>"
      ]
     },
     "execution_count": 19,
     "metadata": {},
     "output_type": "execute_result"
    },
    {
     "data": {
      "image/png": "[encoded data removed]",
      "text/plain": [
       "<Figure size 640x480 with 1 Axes>"
      ]
     },
     "metadata": {},
     "output_type": "display_data"
    }
   ],
   "source": [
    "import matplotlib.pyplot as plt\n",
    "\n",
    "s1 = dataDask[5,:,:][0]\n",
    "\n",
    "plt.imshow(s1.T)"
   ]
  },
  {
   "cell_type": "code",
   "execution_count": 20,
   "metadata": {
    "scrolled": true
   },
   "outputs": [
    {
     "name": "stderr",
     "output_type": "stream",
     "text": [
      "fmin = 1; fmax = 15.3525\n",
      "nfreq = 44; from imin = 2 to imax = 45\n",
      "nshots = 5; nrec = 201\n",
      "fmin = 1; fmax = 15.3525\n",
      "nfreq = 44; from imin = 2 to imax = 45\n",
      "nshots = 5; nrec = 201\n",
      "fmin = 1; fmax = 15.3525\n",
      "nfreq = 44; from imin = 2 to imax = 45\n",
      "nshots = 5; nrec = 201\n",
      "fmin = 1; fmax = 15.3525\n",
      "nfreq = 44; from imin = 2 to imax = 45\n",
      "nshots = 5; nrec = 201\n"
     ]
    }
   ],
   "source": [
    "imageDask = slowDask.clone()\n",
    "dask_born = DaskOperator.DaskOperator(client, WEM.Born, slowDask, dataDask, wave,pythonPar)"
   ]
  },
  {
   "cell_type": "code",
   "execution_count": 21,
   "metadata": {},
   "outputs": [
    {
     "data": {
      "text/plain": [
       "[<Future: finished, type: WEM.Born, key: from_subspace-24a1746be4bb9aac094e2a5e6c2857e9>,\n",
       " <Future: finished, type: WEM.Born, key: from_subspace-57a2d91354e0eeca04fb1e85cd7481a4>,\n",
       " <Future: finished, type: WEM.Born, key: from_subspace-e1277a9fb0fd25b018f8cf69b5639d7b>,\n",
       " <Future: finished, type: WEM.Born, key: from_subspace-a91fa777683d3a32bae72f2b58fe7330>]"
      ]
     },
     "execution_count": 21,
     "metadata": {},
     "output_type": "execute_result"
    }
   ],
   "source": [
    "dask_born.fut"
   ]
  },
  {
   "cell_type": "code",
   "execution_count": 22,
   "metadata": {},
   "outputs": [
    {
     "data": {
      "text/plain": [
       "[floatVector\n",
       " Axis 1: n=750\to=0.000000\td=0.004000\n",
       " Axis 2: n=201\to=0.000000\td=20.000000\n",
       " Axis 3: n=5\to=0.000000\td=100.000000,\n",
       " floatVector\n",
       " Axis 1: n=750\to=0.000000\td=0.004000\n",
       " Axis 2: n=201\to=0.000000\td=20.000000\n",
       " Axis 3: n=5\to=500.000000\td=100.000000,\n",
       " floatVector\n",
       " Axis 1: n=750\to=0.000000\td=0.004000\n",
       " Axis 2: n=201\to=0.000000\td=20.000000\n",
       " Axis 3: n=5\to=1000.000000\td=100.000000,\n",
       " floatVector\n",
       " Axis 1: n=750\to=0.000000\td=0.004000\n",
       " Axis 2: n=201\to=0.000000\td=20.000000\n",
       " Axis 3: n=5\to=1500.000000\td=100.000000]"
      ]
     },
     "execution_count": 22,
     "metadata": {},
     "output_type": "execute_result"
    }
   ],
   "source": [
    "client.getClient().gather(dataDask.fut)"
   ]
  },
  {
   "cell_type": "code",
   "execution_count": 23,
   "metadata": {},
   "outputs": [
    {
     "name": "stderr",
     "output_type": "stream",
     "text": [
      "fmin = 1; fmax = 15.3525\n",
      "nfreq = 44; from imin = 2 to imax = 45\n",
      "nshots = 5; nrec = 201\n",
      "fmin = 1; fmax = 15.3525\n",
      "nfreq = 44; from imin = 2 to imax = 45\n",
      "nshots = 5; nrec = 201\n",
      "fmin = 1; fmax = 15.3525\n",
      "nfreq = 44; from imin = 2 to imax = 45\n",
      "nshots = 5; nrec = 201\n",
      "fmin = 1; fmax = 15.3525\n",
      "nfreq = 44; from imin = 2 to imax = 45\n",
      "nshots = 5; nrec = 201\n"
     ]
    },
    {
     "data": {
      "text/plain": [
       "[<WEM.WEM at 0x7fe8ac9fc1c0>,\n",
       " <WEM.WEM at 0x7fe8ac9fcac0>,\n",
       " <WEM.WEM at 0x7fe8ac9fc250>,\n",
       " <WEM.WEM at 0x7fe8af296dc0>]"
      ]
     },
     "execution_count": 23,
     "metadata": {},
     "output_type": "execute_result"
    }
   ],
   "source": [
    "client.getClient().gather(dask_wem.fut)"
   ]
  },
  {
   "cell_type": "code",
   "execution_count": 24,
   "metadata": {},
   "outputs": [
    {
     "name": "stderr",
     "output_type": "stream",
     "text": [
      "fmin = 1; fmax = 15.3525\n",
      "nfreq = 44; from imin = 2 to imax = 45\n",
      "nshots = 5; nrec = 201\n",
      "fmin = 1; fmax = 15.3525\n",
      "nfreq = 44; from imin = 2 to imax = 45\n",
      "nshots = 5; nrec = 201\n",
      "fmin = 1; fmax = 15.3525\n",
      "nfreq = 44; from imin = 2 to imax = 45\n",
      "nshots = 5; nrec = 201\n",
      "fmin = 1; fmax = 15.3525\n",
      "nfreq = 44; from imin = 2 to imax = 45\n",
      "nshots = 5; nrec = 201\n"
     ]
    },
    {
     "data": {
      "text/plain": [
       "[<WEM.Born at 0x7fe912aa6340>,\n",
       " <WEM.Born at 0x7fe9403583a0>,\n",
       " <WEM.Born at 0x7fe940358bb0>,\n",
       " <WEM.Born at 0x7fe940358850>]"
      ]
     },
     "execution_count": 24,
     "metadata": {},
     "output_type": "execute_result"
    }
   ],
   "source": [
    "client.getClient().gather(dask_born.fut)"
   ]
  },
  {
   "cell_type": "code",
   "execution_count": null,
   "metadata": {},
   "outputs": [
    {
     "name": "stderr",
     "output_type": "stream",
     "text": [
      "Adjoint born ... \n",
      "Adjoint born ... \n",
      "Adjoint born ... \n",
      "Adjoint born ... \n",
      "60.5875 s\n",
      "60.735 s\n",
      "60.7986 s\n",
      "61.0555 s\n",
      "Adjoint born ... \n",
      "Adjoint born ... \n",
      "Adjoint born ... \n",
      "Adjoint born ... \n"
     ]
    }
   ],
   "source": [
    "ls = []\n",
    "image = slowDask.clone()\n",
    "bg = slowDask.clone()\n",
    "for i in range(2):\n",
    "    bg.scale(1-i/100)\n",
    "    dask_born.set_background(bg)\n",
    "    dask_born.adjoint(False, image, dataDask)\n",
    "    ls.append(image.clone())"
   ]
  },
  {
   "cell_type": "code",
   "execution_count": null,
   "metadata": {},
   "outputs": [],
   "source": [
    "import holoviews as hv\n",
    "hv.extension('matplotlib')"
   ]
  },
  {
   "cell_type": "code",
   "execution_count": null,
   "metadata": {},
   "outputs": [],
   "source": [
    "ims = {i: hv.Image(ls[i][:][0].real) for i in range(len(ls))}\n",
    "hv_ims = hv.HoloMap(ims)"
   ]
  },
  {
   "cell_type": "code",
   "execution_count": null,
   "metadata": {},
   "outputs": [],
   "source": [
    "hv_ims"
   ]
  },
  {
   "cell_type": "code",
   "execution_count": null,
   "metadata": {},
   "outputs": [],
   "source": [
    "bg.scale(2)"
   ]
  },
  {
   "cell_type": "code",
   "execution_count": null,
   "metadata": {},
   "outputs": [],
   "source": [
    "bg[:]"
   ]
  },
  {
   "cell_type": "code",
   "execution_count": null,
   "metadata": {},
   "outputs": [],
   "source": [
    "hv.Image(ls[0][:][0].real - ls[1][:][0].real)"
   ]
  },
  {
   "cell_type": "code",
   "execution_count": null,
   "metadata": {
    "scrolled": true
   },
   "outputs": [],
   "source": [
    "import numpy as np\n",
    "import SepVector\n",
    "import Hypercube\n",
    "import genericIO\n",
    "import WEM\n",
    "import Operator\n",
    "\n",
    "import pyVector as Vec\n",
    "import pyOperator as Op\n",
    "import pyNonLinearSolver as Solver\n",
    "import pyLinearSolver as LinearSolver\n",
    "import pyProblem as Prblm\n",
    "import pyStopper as Stopper\n",
    "from sys_util import logger\n",
    "import json\n",
    "import sys\n",
    "\n",
    "import dask_util\n",
    "from __pyDaskVector import DaskVector\n",
    "from __pyDaskOperator import DaskOperator\n",
    "\n",
    "\n",
    "model_pre = bg.clone()\n",
    "\n",
    "bornOp = DaskOperator(client, WEM.Born, bg, dataDask, wave, pythonPar, mode='real')\n",
    "wemOp = DaskOperator(client, WEM.WEM, bg, dataDask, wave, pythonPar)\n",
    "nlOp = Op.NonLinearOperator(wemOp,bornOp)\n",
    "\n",
    "#Create L2-norm linear problem\n",
    "niter = 100\n",
    "L2Prob = Prblm.ProblemL2NonLinear(model_pre,dataDask,nlOp)\n",
    "# # # #Create stopper\n",
    "Stop  = Stopper.BasicStopper(niter=niter)\n",
    "# # # #Create solver\n",
    "# # # log = par['non_linear_solver']['prefix'].split('/')\n",
    "LBFGSsolver = Solver.LBFGSsolver(Stop, logger=logger('test.txt'))\n",
    "# # # #Running the solver\n",
    "# # # LBFGSsolver.setDefaults(**par['non_linear_solver'])\n",
    "LBFGSsolver.run(L2Prob,verbose=True,restart=False)\n"
   ]
  },
  {
   "cell_type": "code",
   "execution_count": null,
   "metadata": {
    "scrolled": true
   },
   "outputs": [],
   "source": [
    "dask_born.set_background(bg)"
   ]
  },
  {
   "cell_type": "markdown",
   "metadata": {},
   "source": [
    "## Spline interpolation"
   ]
  },
  {
   "cell_type": "code",
   "execution_count": null,
   "metadata": {},
   "outputs": [],
   "source": [
    "import pyOperator as Op\n",
    "import Operator\n",
    "n1new = 50\n",
    "d1new = (n1-1)*d1 / n1new \n",
    "n2new = 50\n",
    "d2new = (n2-1)*d2 / n2new\n",
    "\n",
    "smol = DaskVector(client, vecCls=SepVector.complexVector, ns=[n1new,n2new], ds=[d1new,d2new],os=[o1,o2], chunks=(1,1))\n",
    "\n",
    "spline = DaskOperator(client, Operator.Spline2D, smol, slowDask,type='CR-spline')\n",
    "\n",
    "# chain.adjoint(False,im_smol3d,data)"
   ]
  },
  {
   "cell_type": "code",
   "execution_count": null,
   "metadata": {},
   "outputs": [],
   "source": [
    "chain = Op.ChainOperator(spline,dask_born)"
   ]
  },
  {
   "cell_type": "code",
   "execution_count": null,
   "metadata": {},
   "outputs": [],
   "source": [
    "chain.adjoint(False, smol, dataDask)"
   ]
  },
  {
   "cell_type": "code",
   "execution_count": null,
   "metadata": {},
   "outputs": [],
   "source": [
    "hv.Image(smol[:][0].real).opts(cmap='jet')"
   ]
  },
  {
   "cell_type": "code",
   "execution_count": null,
   "metadata": {},
   "outputs": [],
   "source": [
    "smol = SepVector.getSepVector(ns=[n1new,n2new], ds=[d1new,d2new],os=[o1,o2], storage='dataComplex')\n",
    "spline = Operator.Spline2D(smol, slow,type='CR-spline')"
   ]
  },
  {
   "cell_type": "code",
   "execution_count": null,
   "metadata": {},
   "outputs": [],
   "source": [
    "import pickle\n",
    "\n",
    "d = pickle.dumps(spline)"
   ]
  },
  {
   "cell_type": "code",
   "execution_count": null,
   "metadata": {},
   "outputs": [],
   "source": [
    "dd = pickle.loads(d)"
   ]
  },
  {
   "cell_type": "code",
   "execution_count": null,
   "metadata": {},
   "outputs": [],
   "source": [
    "dd.__dict__"
   ]
  },
  {
   "cell_type": "code",
   "execution_count": null,
   "metadata": {},
   "outputs": [],
   "source": [
    "dd.adjoint(False, smol, slow)"
   ]
  },
  {
   "cell_type": "code",
   "execution_count": null,
   "metadata": {},
   "outputs": [],
   "source": [
    "hv.Image(smol[:].real)"
   ]
  },
  {
   "cell_type": "code",
   "execution_count": null,
   "metadata": {},
   "outputs": [],
   "source": [
    "smol.clipVector(smol,smol)"
   ]
  },
  {
   "cell_type": "code",
   "execution_count": null,
   "metadata": {},
   "outputs": [],
   "source": []
  }
 ],
 "metadata": {
  "kernelspec": {
   "display_name": "Python 3 (ipykernel)",
   "language": "python",
   "name": "python3"
  },
  "language_info": {
   "codemirror_mode": {
    "name": "ipython",
    "version": 3
   },
   "file_extension": ".py",
   "mimetype": "text/x-python",
   "name": "python",
   "nbconvert_exporter": "python",
   "pygments_lexer": "ipython3",
   "version": "3.9.2"
  }
 },
 "nbformat": 4,
 "nbformat_minor": 2
}
