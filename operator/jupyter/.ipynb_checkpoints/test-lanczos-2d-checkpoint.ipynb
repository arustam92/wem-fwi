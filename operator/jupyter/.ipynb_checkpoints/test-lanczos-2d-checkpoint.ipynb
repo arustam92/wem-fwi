{
 "cells": [
  {
   "cell_type": "code",
   "execution_count": 2,
   "metadata": {
    "collapsed": true
   },
   "outputs": [],
   "source": [
    "%load_ext autoreload\n",
    "%autoreload 2\n",
    "import genericIO\n",
    "import SepVector\n",
    "import Hypercube\n",
    "import numpy as np\n",
    "import Operator\n",
    "import time"
   ]
  },
  {
   "cell_type": "code",
   "execution_count": 3,
   "metadata": {
    "collapsed": true
   },
   "outputs": [],
   "source": [
    "n1 = 101\n",
    "n2 = 101\n",
    "n3 = 144\n",
    "o1 = -10\n",
    "o2 = -10\n",
    "o3 = -10\n",
    "d1 = abs(2*o3/(n3-1))\n",
    "d2 = abs(2*o3/(n3-1))\n",
    "d3 = abs(2*o3/(n3-1))\n",
    "\n",
    "n3new = 21\n",
    "d3new = (n3-1)*d3 / (n3new - 1)\n",
    "n2new = 21\n",
    "d2new = (n2-1)*d2 / (n2new - 1)\n",
    "n1new = 21\n",
    "d1new = (n1-1)*d1 / (n1new - 1)\n",
    "\n",
    "data = SepVector.getSepVector(Hypercube.hypercube(ns=[n1,n2,n3],ds=[d1,d2,d3],os=[o1,o2,o3]),storage='dataComplex')\n",
    "model = SepVector.getSepVector(Hypercube.hypercube(ns=[n1new,n2new,n3new],ds=[d1new,d2new,d3new],os=[o1,o2,o3]),storage='dataComplex')\n"
   ]
  },
  {
   "cell_type": "code",
   "execution_count": 4,
   "metadata": {
    "collapsed": true
   },
   "outputs": [],
   "source": [
    "modNd = model.getNdArray()\n",
    "x = np.linspace(o3,o3+(n3new-1)*d3new,n3new)\n",
    "y = np.linspace(o2,o2+(n2new-1)*d2new,n2new)\n",
    "xx = np.linspace(o3,o3+(n3-1)*d3,n3)\n",
    "yy = np.linspace(o2,o2+(n2-1)*d2,n2)\n",
    "\n",
    "ss = np.outer(np.sin(x*x),np.sin(y*y))\n",
    "true = np.sin(xx*xx)\n",
    "# modNd[:,0,0] = ss[::int(n3/n3new+1)]\n",
    "# modNd[:] = 1\n",
    "modNd[12,12,12] = 1\n",
    "modNd[:].imag = 0\n",
    "    "
   ]
  },
  {
   "cell_type": "code",
   "execution_count": 9,
   "metadata": {},
   "outputs": [
    {
     "ename": "TypeError",
     "evalue": "__init__() takes 1 positional argument but 3 were given",
     "output_type": "error",
     "traceback": [
      "\u001b[0;31m---------------------------------------------------------------------------\u001b[0m",
      "\u001b[0;31mTypeError\u001b[0m                                 Traceback (most recent call last)",
      "\u001b[0;32m<ipython-input-9-cf7ec0abd60e>\u001b[0m in \u001b[0;36m<module>\u001b[0;34m()\u001b[0m\n\u001b[1;32m      1\u001b[0m \u001b[0;32mimport\u001b[0m \u001b[0mpyVector\u001b[0m\u001b[0;34m\u001b[0m\u001b[0m\n\u001b[0;32m----> 2\u001b[0;31m \u001b[0mtest\u001b[0m \u001b[0;34m=\u001b[0m \u001b[0mpyVector\u001b[0m\u001b[0;34m.\u001b[0m\u001b[0mvectorSet\u001b[0m\u001b[0;34m(\u001b[0m\u001b[0mmodel\u001b[0m\u001b[0;34m,\u001b[0m\u001b[0mmodel\u001b[0m\u001b[0;34m)\u001b[0m\u001b[0;34m\u001b[0m\u001b[0m\n\u001b[0m",
      "\u001b[0;31mTypeError\u001b[0m: __init__() takes 1 positional argument but 3 were given"
     ]
    }
   ],
   "source": [
    "import pyVector\n",
    "test = pyVector.vectorSet(model,model)"
   ]
  },
  {
   "cell_type": "code",
   "execution_count": null,
   "metadata": {},
   "outputs": [],
   "source": [
    "start = time.time()\n",
    "filt = Operator.LanczosInterpolation3D(model,data,a=[11,11,11])\n",
    "print('Constructor: %f' % (time.time() - start))"
   ]
  },
  {
   "cell_type": "code",
   "execution_count": null,
   "metadata": {},
   "outputs": [],
   "source": [
    "start = time.time()\n",
    "filt.forward(False,model,data)\n",
    "print('Forward: %f' % (time.time() - start))"
   ]
  },
  {
   "cell_type": "code",
   "execution_count": null,
   "metadata": {},
   "outputs": [],
   "source": [
    "datNd = data.getNdArray()\n",
    "\n",
    "print(data.dot(data))\n",
    "print(np.amax(datNd))\n",
    "print(np.amin(datNd))\n",
    "\n"
   ]
  },
  {
   "cell_type": "code",
   "execution_count": null,
   "metadata": {
    "scrolled": false
   },
   "outputs": [],
   "source": [
    "%matplotlib inline\n",
    "import matplotlib.pyplot as plt\n",
    "\n",
    "fig, ax = plt.subplots(1,3,figsize=(10,10))\n",
    "# plt.ylim([-1.5,1.5])\n",
    "ax[0].imshow(datNd[int(n3/2),:].real,cmap='gray')\n",
    "ax[1].imshow(datNd[:,int(n2/2),:].real,cmap='gray')\n",
    "ax[2].imshow(datNd[:,int(n1/2)].real,cmap='gray')\n",
    "\n",
    "fig, ax = plt.subplots(1,3,figsize=(10,2))\n",
    "# plt.ylim([-1.5,1.5])\n",
    "ax[0].plot(datNd[int(n3/2),:].real)\n",
    "ax[0].grid()\n",
    "ax[1].plot(datNd[:,int(n2/2),:].real)\n",
    "ax[1].grid()\n",
    "ax[2].plot(datNd[:,int(n1/2)].real)\n",
    "ax[2].grid()\n",
    "\n",
    "fig, ax = plt.subplots(1,3,figsize=(10,2))\n",
    "# plt.ylim([-1.5,1.5])\n",
    "ax[0].plot(datNd[int(n3/2),:].imag)\n",
    "ax[0].grid()\n",
    "ax[1].plot(datNd[:,int(n2/2),:].imag)\n",
    "ax[1].grid()\n",
    "ax[2].plot(datNd[:,int(n1/2)].imag)\n",
    "ax[2].grid()\n",
    "\n",
    "plt.show()"
   ]
  },
  {
   "cell_type": "code",
   "execution_count": null,
   "metadata": {},
   "outputs": [],
   "source": [
    "\n",
    "model.zero()\n",
    "datNd[:] = 1\n",
    "datNd[:].imag = 0\n",
    "\n",
    "start = time.time()\n",
    "filt.adjoint(False,model,data)\n",
    "print('Adjoint: %f' % (time.time() - start))"
   ]
  },
  {
   "cell_type": "code",
   "execution_count": null,
   "metadata": {
    "scrolled": false
   },
   "outputs": [],
   "source": [
    "%matplotlib inline\n",
    "import matplotlib.pyplot as plt\n",
    "\n",
    "modNd = model.getNdArray()\n",
    "\n",
    "fig, ax = plt.subplots(1,3,figsize=(10,10))\n",
    "# plt.ylim([-1.5,1.5])\n",
    "ax[0].imshow(modNd[int(n3new/2),:].real,cmap='gray')\n",
    "ax[1].imshow(modNd[:,int(n2new/2),:].real,cmap='gray')\n",
    "ax[2].imshow(modNd[:,int(n1new/2)].real,cmap='gray')\n",
    "\n",
    "fig, ax = plt.subplots(1,3,figsize=(10,2))\n",
    "# plt.ylim([-1.5,1.5])\n",
    "ax[0].plot(modNd[int(n3new/2),:].real)\n",
    "ax[0].grid()\n",
    "ax[1].plot(modNd[:,int(n2new/2),:].real)\n",
    "ax[1].grid()\n",
    "ax[2].plot(modNd[:,int(n1new/2)].real)\n",
    "ax[2].grid()\n",
    "\n",
    "fig, ax = plt.subplots(1,3,figsize=(10,2))\n",
    "# plt.ylim([-1.5,1.5])\n",
    "ax[0].plot(modNd[int(n3new/2),:].imag)\n",
    "ax[0].grid()\n",
    "ax[1].plot(modNd[:,int(n2new/2),:].imag)\n",
    "ax[1].grid()\n",
    "ax[2].plot(modNd[:,int(n1new/2)].imag)\n",
    "ax[2].grid()\n",
    "\n",
    "plt.show()\n"
   ]
  },
  {
   "cell_type": "code",
   "execution_count": null,
   "metadata": {},
   "outputs": [],
   "source": [
    "filt.dotTest(verbose=True)"
   ]
  }
 ],
 "metadata": {
  "kernelspec": {
   "display_name": "Python 3",
   "language": "python",
   "name": "python3"
  },
  "language_info": {
   "codemirror_mode": {
    "name": "ipython",
    "version": 3
   },
   "file_extension": ".py",
   "mimetype": "text/x-python",
   "name": "python",
   "nbconvert_exporter": "python",
   "pygments_lexer": "ipython3",
   "version": "3.5.6"
  }
 },
 "nbformat": 4,
 "nbformat_minor": 5
}
