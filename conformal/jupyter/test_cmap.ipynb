{
 "cells": [
  {
   "cell_type": "code",
   "execution_count": 2,
   "id": "ed356502",
   "metadata": {},
   "outputs": [],
   "source": [
    "import Conformal\n",
    "import SepVector"
   ]
  },
  {
   "cell_type": "code",
   "execution_count": 3,
   "id": "a83f1f91",
   "metadata": {},
   "outputs": [],
   "source": [
    "ns = [200, 200]\n",
    "os = [-1,-1]\n",
    "ds = [1,1]\n",
    "\n",
    "model = SepVector.getSepVector(ns=ns, ds=ds, os=os, storage='dataComplex')"
   ]
  },
  {
   "cell_type": "code",
   "execution_count": null,
   "id": "f452935b",
   "metadata": {},
   "outputs": [],
   "source": [
    "model.set"
   ]
  }
 ],
 "metadata": {
  "kernelspec": {
   "display_name": "Python 3 (ipykernel)",
   "language": "python",
   "name": "python3"
  },
  "language_info": {
   "codemirror_mode": {
    "name": "ipython",
    "version": 3
   },
   "file_extension": ".py",
   "mimetype": "text/x-python",
   "name": "python",
   "nbconvert_exporter": "python",
   "pygments_lexer": "ipython3",
   "version": "3.9.2"
  }
 },
 "nbformat": 4,
 "nbformat_minor": 5
}
